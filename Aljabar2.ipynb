{
 "cells": [
  {
   "cell_type": "code",
   "execution_count": 1,
   "id": "291698e2",
   "metadata": {},
   "outputs": [],
   "source": [
    "import sympy as sym\n",
    "from IPython.display import Math"
   ]
  },
  {
   "cell_type": "code",
   "execution_count": 2,
   "id": "9efb8231",
   "metadata": {},
   "outputs": [],
   "source": [
    "x,y,z = sym.symbols('x y z')"
   ]
  },
  {
   "cell_type": "code",
   "execution_count": 3,
   "id": "b5e883c0",
   "metadata": {},
   "outputs": [],
   "source": [
    "p1 = x**y * x**z "
   ]
  },
  {
   "cell_type": "code",
   "execution_count": 4,
   "id": "26ddab78",
   "metadata": {},
   "outputs": [
    {
     "data": {
      "text/latex": [
       "$\\displaystyle x^{y} x^{z}$"
      ],
      "text/plain": [
       "x**y*x**z"
      ]
     },
     "metadata": {},
     "output_type": "display_data"
    }
   ],
   "source": [
    "display(p1)"
   ]
  },
  {
   "cell_type": "code",
   "execution_count": 5,
   "id": "51fa70f2",
   "metadata": {},
   "outputs": [
    {
     "data": {
      "text/latex": [
       "$\\displaystyle x^{y + z}$"
      ],
      "text/plain": [
       "x**(y + z)"
      ]
     },
     "metadata": {},
     "output_type": "display_data"
    }
   ],
   "source": [
    "display(sym.simplify(p1))"
   ]
  },
  {
   "cell_type": "code",
   "execution_count": 6,
   "id": "ae0917ca",
   "metadata": {},
   "outputs": [
    {
     "data": {
      "text/latex": [
       "$\\displaystyle x^{y - z}$"
      ],
      "text/plain": [
       "x**(y - z)"
      ]
     },
     "metadata": {},
     "output_type": "display_data"
    }
   ],
   "source": [
    "p2 = x**y / x**z\n",
    "display(sym.simplify(p2))"
   ]
  },
  {
   "cell_type": "code",
   "execution_count": 7,
   "id": "c7011df9",
   "metadata": {},
   "outputs": [
    {
     "data": {
      "text/latex": [
       "$\\displaystyle x^{y} y^{z}$"
      ],
      "text/plain": [
       "x**y*y**z"
      ]
     },
     "metadata": {},
     "output_type": "display_data"
    }
   ],
   "source": [
    "p3 = x**y * y**z\n",
    "display(sym.simplify(p3))"
   ]
  },
  {
   "cell_type": "code",
   "execution_count": 8,
   "id": "7a429332",
   "metadata": {},
   "outputs": [
    {
     "data": {
      "text/latex": [
       "$\\displaystyle x^{2} \\left(x + 1\\right)$"
      ],
      "text/plain": [
       "x**2*(x + 1)"
      ]
     },
     "metadata": {},
     "output_type": "display_data"
    }
   ],
   "source": [
    "p1 = x*(x+1)\n",
    "p2 =  x\n",
    "display(p1*p2)"
   ]
  },
  {
   "cell_type": "code",
   "execution_count": 9,
   "id": "e1ea2bc8",
   "metadata": {},
   "outputs": [
    {
     "data": {
      "text/latex": [
       "$\\displaystyle x^{3} + x^{2}$"
      ],
      "text/plain": [
       "x**3 + x**2"
      ]
     },
     "metadata": {},
     "output_type": "display_data"
    }
   ],
   "source": [
    "display(sym.expand(p1*p2))"
   ]
  },
  {
   "cell_type": "code",
   "execution_count": 10,
   "id": "38674139",
   "metadata": {},
   "outputs": [],
   "source": [
    "p3 = y**12 + x**8"
   ]
  },
  {
   "cell_type": "code",
   "execution_count": 11,
   "id": "d9a1fa86",
   "metadata": {},
   "outputs": [
    {
     "data": {
      "text/latex": [
       "$\\displaystyle x^{2} \\left(x + 1\\right) \\left(x^{8} + y^{12}\\right)$"
      ],
      "text/plain": [
       "x**2*(x + 1)*(x**8 + y**12)"
      ]
     },
     "metadata": {},
     "output_type": "display_data"
    }
   ],
   "source": [
    "display(p1*p2*p3)"
   ]
  },
  {
   "cell_type": "code",
   "execution_count": 12,
   "id": "f4f88f36",
   "metadata": {},
   "outputs": [
    {
     "data": {
      "text/latex": [
       "$\\displaystyle x^{11} + x^{10} + x^{3} y^{12} + x^{2} y^{12}$"
      ],
      "text/plain": [
       "x**11 + x**10 + x**3*y**12 + x**2*y**12"
      ]
     },
     "metadata": {},
     "output_type": "display_data"
    }
   ],
   "source": [
    "display(sym.expand(p1*p2*p3)) # method menggabungkan "
   ]
  },
  {
   "cell_type": "code",
   "execution_count": 13,
   "id": "2a5c7a59",
   "metadata": {},
   "outputs": [
    {
     "data": {
      "text/latex": [
       "$\\displaystyle \\sqrt{y}$"
      ],
      "text/plain": [
       "sqrt(y)"
      ]
     },
     "metadata": {},
     "output_type": "display_data"
    }
   ],
   "source": [
    "p4 = sym.sqrt(y) # sqrt method akar\n",
    "display(p4)"
   ]
  },
  {
   "cell_type": "code",
   "execution_count": 14,
   "id": "6d6c7bb0",
   "metadata": {},
   "outputs": [
    {
     "data": {
      "text/latex": [
       "$\\displaystyle \\frac{x^{11}}{\\sqrt{y}} + \\frac{x^{10}}{\\sqrt{y}} + x^{3} y^{\\frac{23}{2}} + x^{2} y^{\\frac{23}{2}}$"
      ],
      "text/plain": [
       "x**11/sqrt(y) + x**10/sqrt(y) + x**3*y**(23/2) + x**2*y**(23/2)"
      ]
     },
     "metadata": {},
     "output_type": "display_data"
    }
   ],
   "source": [
    "display(sym.expand((p1*p2*p3)/p4)) # method menggabungkan "
   ]
  },
  {
   "cell_type": "code",
   "execution_count": 15,
   "id": "ee6a2f0a",
   "metadata": {},
   "outputs": [
    {
     "data": {
      "text/latex": [
       "$\\displaystyle \\frac{x^{2} \\left(x + 1\\right) \\left(x^{8} + y^{12}\\right)}{\\sqrt{y}}$"
      ],
      "text/plain": [
       "x**2*(x + 1)*(x**8 + y**12)/sqrt(y)"
      ]
     },
     "metadata": {},
     "output_type": "display_data"
    }
   ],
   "source": [
    "display((p1*p2*p3)/p4)"
   ]
  },
  {
   "cell_type": "code",
   "execution_count": 16,
   "id": "a70ba66c",
   "metadata": {},
   "outputs": [
    {
     "data": {
      "text/latex": [
       "$\\displaystyle \\frac{x^{2} \\left(x + 1\\right) \\left(x^{8} + y^{12}\\right)}{\\sqrt{y}}$"
      ],
      "text/plain": [
       "x**2*(x + 1)*(x**8 + y**12)/sqrt(y)"
      ]
     },
     "metadata": {},
     "output_type": "display_data"
    }
   ],
   "source": [
    "display(sym.simplify((p1*p2*p3)/p4))"
   ]
  },
  {
   "cell_type": "code",
   "execution_count": 17,
   "id": "42d76ef3",
   "metadata": {},
   "outputs": [],
   "source": [
    "a1 = 5*(x*y)\n",
    "a2 = (5*x)*y"
   ]
  },
  {
   "cell_type": "code",
   "execution_count": 18,
   "id": "362a02b4",
   "metadata": {},
   "outputs": [
    {
     "data": {
      "text/latex": [
       "$\\displaystyle 0$"
      ],
      "text/plain": [
       "0"
      ]
     },
     "execution_count": 18,
     "metadata": {},
     "output_type": "execute_result"
    }
   ],
   "source": [
    "a1 - a2"
   ]
  },
  {
   "cell_type": "code",
   "execution_count": 19,
   "id": "991d9e22",
   "metadata": {},
   "outputs": [
    {
     "name": "stdout",
     "output_type": "stream",
     "text": [
      "200\n",
      "200\n"
     ]
    }
   ],
   "source": [
    "print(a1.subs({x:5, y:8}))\n",
    "print(a2.subs({x:5, y:8}))"
   ]
  },
  {
   "cell_type": "code",
   "execution_count": 20,
   "id": "a9a6d48c",
   "metadata": {},
   "outputs": [],
   "source": [
    "a = sym.symbols('a')"
   ]
  },
  {
   "cell_type": "code",
   "execution_count": 35,
   "id": "fc081d4f",
   "metadata": {},
   "outputs": [],
   "source": [
    "x = a*(67-a) + 1/a**2 * (16+a)\n",
    "#x = a/a**2*5 / (17*a) * a**4/3 + 20"
   ]
  },
  {
   "cell_type": "code",
   "execution_count": 36,
   "id": "091e05ac",
   "metadata": {},
   "outputs": [
    {
     "data": {
      "text/latex": [
       "$\\displaystyle a \\left(67 - a\\right) + \\frac{a + 16}{a^{2}}$"
      ],
      "text/plain": [
       "a*(67 - a) + (a + 16)/a**2"
      ]
     },
     "metadata": {},
     "output_type": "display_data"
    }
   ],
   "source": [
    "display(x)"
   ]
  },
  {
   "cell_type": "code",
   "execution_count": 37,
   "id": "b1947031",
   "metadata": {},
   "outputs": [
    {
     "data": {
      "text/latex": [
       "$\\displaystyle \\left(y + z\\right) \\left(a \\left(67 - a\\right) + \\frac{a + 16}{a^{2}}\\right)$"
      ],
      "text/plain": [
       "(y + z)*(a*(67 - a) + (a + 16)/a**2)"
      ]
     },
     "metadata": {},
     "output_type": "display_data"
    },
    {
     "data": {
      "text/latex": [
       "$\\displaystyle \\left(a \\left(67 - a\\right) + \\frac{a + 16}{a^{2}}\\right)^{2} + \\frac{3}{a \\left(67 - a\\right) + \\frac{a + 16}{a^{2}}}$"
      ],
      "text/plain": [
       "(a*(67 - a) + (a + 16)/a**2)**2 + 3/(a*(67 - a) + (a + 16)/a**2)"
      ]
     },
     "metadata": {},
     "output_type": "display_data"
    }
   ],
   "source": [
    "p6 = x*(y+z)\n",
    "p7 = 3/x + x**2\n",
    "\n",
    "display(p6)\n",
    "display(p7)"
   ]
  },
  {
   "cell_type": "code",
   "execution_count": 38,
   "id": "1230268f",
   "metadata": {},
   "outputs": [
    {
     "data": {
      "text/latex": [
       "$\\displaystyle \\left(y + z\\right) \\left(a \\left(67 - a\\right) + \\frac{a + 16}{a^{2}}\\right) \\left(\\left(a \\left(67 - a\\right) + \\frac{a + 16}{a^{2}}\\right)^{2} + \\frac{3}{a \\left(67 - a\\right) + \\frac{a + 16}{a^{2}}}\\right)$"
      ],
      "text/plain": [
       "(y + z)*(a*(67 - a) + (a + 16)/a**2)*((a*(67 - a) + (a + 16)/a**2)**2 + 3/(a*(67 - a) + (a + 16)/a**2))"
      ]
     },
     "metadata": {},
     "output_type": "display_data"
    }
   ],
   "source": [
    "display(p6*p7)"
   ]
  },
  {
   "cell_type": "code",
   "execution_count": 39,
   "id": "22904d92",
   "metadata": {},
   "outputs": [
    {
     "data": {
      "text/latex": [
       "$\\displaystyle - a^{6} y - a^{6} z + 201 a^{5} y + 201 a^{5} z - 13467 a^{4} y - 13467 a^{4} z + 300766 a^{3} y + 300766 a^{3} z - 354 a^{2} y - \\frac{3 a^{2} y}{- a^{2} + 67 a + \\frac{1}{a} + \\frac{16}{a^{2}}} - 354 a^{2} z - \\frac{3 a^{2} z}{- a^{2} + 67 a + \\frac{1}{a} + \\frac{16}{a^{2}}} + 7035 a y + \\frac{201 a y}{- a^{2} + 67 a + \\frac{1}{a} + \\frac{16}{a^{2}}} + 7035 a z + \\frac{201 a z}{- a^{2} + 67 a + \\frac{1}{a} + \\frac{16}{a^{2}}} + 215469 y + \\frac{48 y}{- a^{4} + 67 a^{3} + a + 16} + \\frac{3 y}{- a^{3} + 67 a^{2} + 1 + \\frac{16}{a}} + 215469 z + \\frac{48 z}{- a^{4} + 67 a^{3} + a + 16} + \\frac{3 z}{- a^{3} + 67 a^{2} + 1 + \\frac{16}{a}} + \\frac{105 y}{a} + \\frac{105 z}{a} + \\frac{5664 y}{a^{2}} + \\frac{5664 z}{a^{2}} + \\frac{51457 y}{a^{3}} + \\frac{51457 z}{a^{3}} + \\frac{48 y}{a^{4}} + \\frac{48 z}{a^{4}} + \\frac{768 y}{a^{5}} + \\frac{768 z}{a^{5}} + \\frac{4096 y}{a^{6}} + \\frac{4096 z}{a^{6}}$"
      ],
      "text/plain": [
       "-a**6*y - a**6*z + 201*a**5*y + 201*a**5*z - 13467*a**4*y - 13467*a**4*z + 300766*a**3*y + 300766*a**3*z - 354*a**2*y - 3*a**2*y/(-a**2 + 67*a + 1/a + 16/a**2) - 354*a**2*z - 3*a**2*z/(-a**2 + 67*a + 1/a + 16/a**2) + 7035*a*y + 201*a*y/(-a**2 + 67*a + 1/a + 16/a**2) + 7035*a*z + 201*a*z/(-a**2 + 67*a + 1/a + 16/a**2) + 215469*y + 48*y/(-a**4 + 67*a**3 + a + 16) + 3*y/(-a**3 + 67*a**2 + 1 + 16/a) + 215469*z + 48*z/(-a**4 + 67*a**3 + a + 16) + 3*z/(-a**3 + 67*a**2 + 1 + 16/a) + 105*y/a + 105*z/a + 5664*y/a**2 + 5664*z/a**2 + 51457*y/a**3 + 51457*z/a**3 + 48*y/a**4 + 48*z/a**4 + 768*y/a**5 + 768*z/a**5 + 4096*y/a**6 + 4096*z/a**6"
      ]
     },
     "metadata": {},
     "output_type": "display_data"
    }
   ],
   "source": [
    "display(sym.expand(p6*p7))"
   ]
  },
  {
   "cell_type": "code",
   "execution_count": 34,
   "id": "2d1742e5",
   "metadata": {},
   "outputs": [
    {
     "data": {
      "text/latex": [
       "$\\displaystyle 0$"
      ],
      "text/plain": [
       "0"
      ]
     },
     "metadata": {},
     "output_type": "display_data"
    }
   ],
   "source": [
    "display(p6*p7 - p7*p6)"
   ]
  },
  {
   "cell_type": "code",
   "execution_count": null,
   "id": "2ef944b8",
   "metadata": {},
   "outputs": [],
   "source": []
  }
 ],
 "metadata": {
  "kernelspec": {
   "display_name": "Python 3 (ipykernel)",
   "language": "python",
   "name": "python3"
  },
  "language_info": {
   "codemirror_mode": {
    "name": "ipython",
    "version": 3
   },
   "file_extension": ".py",
   "mimetype": "text/x-python",
   "name": "python",
   "nbconvert_exporter": "python",
   "pygments_lexer": "ipython3",
   "version": "3.9.12"
  }
 },
 "nbformat": 4,
 "nbformat_minor": 5
}
