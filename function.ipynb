{
 "cells": [
  {
   "cell_type": "code",
   "execution_count": 2,
   "id": "93bd3a4f",
   "metadata": {},
   "outputs": [],
   "source": [
    "def cetak_kalimat():\n",
    "    print('ternyata belajar pytho itu mudah')"
   ]
  },
  {
   "cell_type": "code",
   "execution_count": 3,
   "id": "af3efcb5",
   "metadata": {},
   "outputs": [
    {
     "data": {
      "text/plain": [
       "<function __main__.cetak_kalimat()>"
      ]
     },
     "execution_count": 3,
     "metadata": {},
     "output_type": "execute_result"
    }
   ],
   "source": [
    "cetak_kalimat"
   ]
  },
  {
   "cell_type": "code",
   "execution_count": 4,
   "id": "b06c07e1",
   "metadata": {},
   "outputs": [
    {
     "name": "stdout",
     "output_type": "stream",
     "text": [
      "ternyata belajar pytho itu mudah\n"
     ]
    }
   ],
   "source": [
    "cetak_kalimat()"
   ]
  },
  {
   "cell_type": "code",
   "execution_count": 5,
   "id": "2fc9ef7d",
   "metadata": {},
   "outputs": [],
   "source": [
    "list1 = list(range(1,11))"
   ]
  },
  {
   "cell_type": "code",
   "execution_count": 6,
   "id": "e96fc854",
   "metadata": {},
   "outputs": [],
   "source": [
    "list1.append(12)"
   ]
  },
  {
   "cell_type": "code",
   "execution_count": 7,
   "id": "91258d0d",
   "metadata": {},
   "outputs": [
    {
     "data": {
      "text/plain": [
       "[1, 2, 3, 4, 5, 6, 7, 8, 9, 10, 12]"
      ]
     },
     "execution_count": 7,
     "metadata": {},
     "output_type": "execute_result"
    }
   ],
   "source": [
    "list1"
   ]
  },
  {
   "cell_type": "code",
   "execution_count": 8,
   "id": "8e61e5f4",
   "metadata": {},
   "outputs": [],
   "source": [
    "def perkalian(num1,num2):\n",
    "    return num1*num2"
   ]
  },
  {
   "cell_type": "code",
   "execution_count": 9,
   "id": "cf31fd75",
   "metadata": {},
   "outputs": [],
   "source": [
    "kali = perkalian(2,6)"
   ]
  },
  {
   "cell_type": "code",
   "execution_count": 10,
   "id": "ad7734df",
   "metadata": {},
   "outputs": [
    {
     "data": {
      "text/plain": [
       "12"
      ]
     },
     "execution_count": 10,
     "metadata": {},
     "output_type": "execute_result"
    }
   ],
   "source": [
    "kali"
   ]
  },
  {
   "cell_type": "code",
   "execution_count": 11,
   "id": "33d01e2a",
   "metadata": {},
   "outputs": [
    {
     "data": {
      "text/plain": [
       "int"
      ]
     },
     "execution_count": 11,
     "metadata": {},
     "output_type": "execute_result"
    }
   ],
   "source": [
    "type(kali)"
   ]
  },
  {
   "cell_type": "code",
   "execution_count": 14,
   "id": "92d6fa60",
   "metadata": {},
   "outputs": [],
   "source": [
    "def penjumlahan(num1,num2):\n",
    "    print (num1+num2)"
   ]
  },
  {
   "cell_type": "code",
   "execution_count": 15,
   "id": "52cbd23b",
   "metadata": {},
   "outputs": [
    {
     "name": "stdout",
     "output_type": "stream",
     "text": [
      "18\n"
     ]
    }
   ],
   "source": [
    "jumlah = penjumlahan(6,12)"
   ]
  },
  {
   "cell_type": "code",
   "execution_count": 16,
   "id": "2d6b3e5b",
   "metadata": {},
   "outputs": [],
   "source": [
    "jumlah"
   ]
  },
  {
   "cell_type": "code",
   "execution_count": 17,
   "id": "5f036908",
   "metadata": {},
   "outputs": [
    {
     "data": {
      "text/plain": [
       "NoneType"
      ]
     },
     "execution_count": 17,
     "metadata": {},
     "output_type": "execute_result"
    }
   ],
   "source": [
    "type(jumlah)"
   ]
  },
  {
   "cell_type": "code",
   "execution_count": 18,
   "id": "c35bcc9c",
   "metadata": {},
   "outputs": [],
   "source": [
    "def belajar(nama='python'):\n",
    "    print ('saya sedang belajar', nama)"
   ]
  },
  {
   "cell_type": "code",
   "execution_count": 19,
   "id": "f6287876",
   "metadata": {},
   "outputs": [
    {
     "name": "stdout",
     "output_type": "stream",
     "text": [
      "saya sedang belajar python\n"
     ]
    }
   ],
   "source": [
    "belajar()"
   ]
  },
  {
   "cell_type": "code",
   "execution_count": 20,
   "id": "180e8f73",
   "metadata": {},
   "outputs": [],
   "source": [
    "def deteksi_genap(var1):\n",
    "    if (var1%2 ==0):\n",
    "        print('ini adalah bilangan genap')\n",
    "    else:\n",
    "        print('ini adalah bilangan ganjil')"
   ]
  },
  {
   "cell_type": "code",
   "execution_count": 22,
   "id": "cc30fbcf",
   "metadata": {},
   "outputs": [
    {
     "name": "stdout",
     "output_type": "stream",
     "text": [
      "ini adalah bilangan ganjil\n"
     ]
    }
   ],
   "source": [
    "deteksi_genap(5)"
   ]
  },
  {
   "cell_type": "code",
   "execution_count": 31,
   "id": "073e1c1c",
   "metadata": {},
   "outputs": [
    {
     "name": "stdout",
     "output_type": "stream",
     "text": [
      "masukan kata yang di inginkanbelajar python\n"
     ]
    }
   ],
   "source": [
    "kalimat = input('masukan kata yang di inginkan')"
   ]
  },
  {
   "cell_type": "code",
   "execution_count": 32,
   "id": "05ddde27",
   "metadata": {},
   "outputs": [
    {
     "data": {
      "text/plain": [
       "'belajar python'"
      ]
     },
     "execution_count": 32,
     "metadata": {},
     "output_type": "execute_result"
    }
   ],
   "source": [
    "kalimat"
   ]
  },
  {
   "cell_type": "code",
   "execution_count": 34,
   "id": "66c047d3",
   "metadata": {},
   "outputs": [],
   "source": [
    "def cetak_kalimat(var):\n",
    "    if 'python' in var:\n",
    "        return True\n",
    "    else:\n",
    "        return False"
   ]
  },
  {
   "cell_type": "code",
   "execution_count": 36,
   "id": "1ab2759b",
   "metadata": {},
   "outputs": [
    {
     "data": {
      "text/plain": [
       "True"
      ]
     },
     "execution_count": 36,
     "metadata": {},
     "output_type": "execute_result"
    }
   ],
   "source": [
    "cetak_kalimat(kalimat)"
   ]
  },
  {
   "cell_type": "code",
   "execution_count": 37,
   "id": "149c1d57",
   "metadata": {},
   "outputs": [],
   "source": [
    "def cetak_kalimat(var):\n",
    "    return 'python' in var"
   ]
  },
  {
   "cell_type": "code",
   "execution_count": 38,
   "id": "5537029e",
   "metadata": {},
   "outputs": [
    {
     "data": {
      "text/plain": [
       "True"
      ]
     },
     "execution_count": 38,
     "metadata": {},
     "output_type": "execute_result"
    }
   ],
   "source": [
    "cetak_kalimat(kalimat)"
   ]
  },
  {
   "cell_type": "code",
   "execution_count": null,
   "id": "164fd30f",
   "metadata": {},
   "outputs": [],
   "source": []
  }
 ],
 "metadata": {
  "kernelspec": {
   "display_name": "Python 3 (ipykernel)",
   "language": "python",
   "name": "python3"
  },
  "language_info": {
   "codemirror_mode": {
    "name": "ipython",
    "version": 3
   },
   "file_extension": ".py",
   "mimetype": "text/x-python",
   "name": "python",
   "nbconvert_exporter": "python",
   "pygments_lexer": "ipython3",
   "version": "3.9.12"
  }
 },
 "nbformat": 4,
 "nbformat_minor": 5
}
