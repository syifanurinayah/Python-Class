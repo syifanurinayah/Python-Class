{
 "cells": [
  {
   "cell_type": "code",
   "execution_count": 1,
   "id": "c12be0e6",
   "metadata": {},
   "outputs": [],
   "source": [
    "import pandas as pd"
   ]
  },
  {
   "cell_type": "code",
   "execution_count": 2,
   "id": "5dc21927",
   "metadata": {},
   "outputs": [],
   "source": [
    "satu = pd.DataFrame({'key':['k0','k1','k2','k3','k4'],\n",
    "                        'one':[1,2,3,4,5],\n",
    "                        'two':[6,7,8,9,10]})"
   ]
  },
  {
   "cell_type": "code",
   "execution_count": 4,
   "id": "04cffb13",
   "metadata": {},
   "outputs": [],
   "source": [
    "dua = pd.DataFrame({'key':['k0','k1','k2','k3','k4'],\n",
    "                        'three':[1,2,3,4,5],\n",
    "                        'four':[6,7,8,9,10]})"
   ]
  },
  {
   "cell_type": "code",
   "execution_count": 5,
   "id": "5619b300",
   "metadata": {},
   "outputs": [
    {
     "data": {
      "text/html": [
       "<div>\n",
       "<style scoped>\n",
       "    .dataframe tbody tr th:only-of-type {\n",
       "        vertical-align: middle;\n",
       "    }\n",
       "\n",
       "    .dataframe tbody tr th {\n",
       "        vertical-align: top;\n",
       "    }\n",
       "\n",
       "    .dataframe thead th {\n",
       "        text-align: right;\n",
       "    }\n",
       "</style>\n",
       "<table border=\"1\" class=\"dataframe\">\n",
       "  <thead>\n",
       "    <tr style=\"text-align: right;\">\n",
       "      <th></th>\n",
       "      <th>key</th>\n",
       "      <th>one</th>\n",
       "      <th>two</th>\n",
       "      <th>three</th>\n",
       "      <th>four</th>\n",
       "    </tr>\n",
       "  </thead>\n",
       "  <tbody>\n",
       "    <tr>\n",
       "      <th>0</th>\n",
       "      <td>k0</td>\n",
       "      <td>1</td>\n",
       "      <td>6</td>\n",
       "      <td>1</td>\n",
       "      <td>6</td>\n",
       "    </tr>\n",
       "    <tr>\n",
       "      <th>1</th>\n",
       "      <td>k1</td>\n",
       "      <td>2</td>\n",
       "      <td>7</td>\n",
       "      <td>2</td>\n",
       "      <td>7</td>\n",
       "    </tr>\n",
       "    <tr>\n",
       "      <th>2</th>\n",
       "      <td>k2</td>\n",
       "      <td>3</td>\n",
       "      <td>8</td>\n",
       "      <td>3</td>\n",
       "      <td>8</td>\n",
       "    </tr>\n",
       "    <tr>\n",
       "      <th>3</th>\n",
       "      <td>k3</td>\n",
       "      <td>4</td>\n",
       "      <td>9</td>\n",
       "      <td>4</td>\n",
       "      <td>9</td>\n",
       "    </tr>\n",
       "    <tr>\n",
       "      <th>4</th>\n",
       "      <td>k4</td>\n",
       "      <td>5</td>\n",
       "      <td>10</td>\n",
       "      <td>5</td>\n",
       "      <td>10</td>\n",
       "    </tr>\n",
       "  </tbody>\n",
       "</table>\n",
       "</div>"
      ],
      "text/plain": [
       "  key  one  two  three  four\n",
       "0  k0    1    6      1     6\n",
       "1  k1    2    7      2     7\n",
       "2  k2    3    8      3     8\n",
       "3  k3    4    9      4     9\n",
       "4  k4    5   10      5    10"
      ]
     },
     "execution_count": 5,
     "metadata": {},
     "output_type": "execute_result"
    }
   ],
   "source": [
    "baru = pd.merge(satu,dua, how='inner', on='key')\n",
    "baru"
   ]
  },
  {
   "cell_type": "code",
   "execution_count": 8,
   "id": "fde77ffc",
   "metadata": {},
   "outputs": [],
   "source": [
    "satu = pd.DataFrame({'key1':['K0','K0','K1','K2'],\n",
    "                     'key2':['K0','K0','K1','K2'],\n",
    "                        'A':['A0','A0','A1','A2'],\n",
    "                        'B':['B0','B0','B1','B2']})\n",
    "\n",
    "dua = pd.DataFrame({'key1':['K0','K0','K1','K2'],\n",
    "                     'key2':['K0','K0','K1','K2'],\n",
    "                        'C':['C0','C0','C1','C2'],\n",
    "                        'D':['D0','D0','D1','D2']})"
   ]
  },
  {
   "cell_type": "code",
   "execution_count": null,
   "id": "f22575c8",
   "metadata": {},
   "outputs": [],
   "source": []
  }
 ],
 "metadata": {
  "kernelspec": {
   "display_name": "Python 3 (ipykernel)",
   "language": "python",
   "name": "python3"
  },
  "language_info": {
   "codemirror_mode": {
    "name": "ipython",
    "version": 3
   },
   "file_extension": ".py",
   "mimetype": "text/x-python",
   "name": "python",
   "nbconvert_exporter": "python",
   "pygments_lexer": "ipython3",
   "version": "3.9.12"
  }
 },
 "nbformat": 4,
 "nbformat_minor": 5
}
