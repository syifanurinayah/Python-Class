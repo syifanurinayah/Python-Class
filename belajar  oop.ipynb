{
 "cells": [
  {
   "cell_type": "code",
   "execution_count": 1,
   "id": "6333507b",
   "metadata": {},
   "outputs": [],
   "source": [
    "class Mahasiswa:\n",
    "    \n",
    "    nama = 'Ahmad'\n",
    "    \n",
    "    def __init__(self, nim, kelas, jurusan, semester):\n",
    "        self.nim = nim\n",
    "        self.kelas = kelas\n",
    "        self.jurusan = jurusan\n",
    "        self.semester = semester\n",
    "        \n",
    "    def tampil(self):\n",
    "        print('{} mempunyai nim {}, dia ada di kelas {} {} dan semester {}'.format(self.nama, self.nim, self.kelas, self.jurusan, self.semester))"
   ]
  },
  {
   "cell_type": "code",
   "execution_count": 2,
   "id": "099bc5f5",
   "metadata": {},
   "outputs": [],
   "source": [
    "tampilkan = Mahasiswa(1170901,'a3','statistik',7)"
   ]
  },
  {
   "cell_type": "code",
   "execution_count": 3,
   "id": "01d3de29",
   "metadata": {},
   "outputs": [
    {
     "name": "stdout",
     "output_type": "stream",
     "text": [
      "Ahmad mempunyai nim 1170901, dia ada di kelas a3 statistik dan semester 7\n"
     ]
    }
   ],
   "source": [
    "tampilkan.tampil()"
   ]
  },
  {
   "cell_type": "code",
   "execution_count": 4,
   "id": "eb2bc037",
   "metadata": {},
   "outputs": [],
   "source": [
    "class Nilai(Mahasiswa):\n",
    "    \n",
    "    def __init__(self, nim, kelas, jurusan, semester):\n",
    "        super().__init__(nim, kelas, jurusan, semester)\n",
    "        self.nilai_update = []\n",
    "        \n",
    "        \n",
    "    def input_nilai(self,tambah):\n",
    "        return self.nilai_update.append(tambah)"
   ]
  },
  {
   "cell_type": "code",
   "execution_count": 5,
   "id": "346764e8",
   "metadata": {},
   "outputs": [],
   "source": [
    "x = Nilai(20907010,'a1','informatika',8)"
   ]
  },
  {
   "cell_type": "code",
   "execution_count": 6,
   "id": "dca406ff",
   "metadata": {},
   "outputs": [
    {
     "name": "stdout",
     "output_type": "stream",
     "text": [
      "Ahmad mempunyai nim 20907010, dia ada di kelas a1 informatika dan semester 8\n"
     ]
    }
   ],
   "source": [
    "x.tampil()"
   ]
  },
  {
   "cell_type": "code",
   "execution_count": 7,
   "id": "e4a48f36",
   "metadata": {},
   "outputs": [],
   "source": [
    "x.input_nilai(70)"
   ]
  },
  {
   "cell_type": "code",
   "execution_count": 8,
   "id": "1bbb2fce",
   "metadata": {},
   "outputs": [
    {
     "data": {
      "text/plain": [
       "[70]"
      ]
     },
     "execution_count": 8,
     "metadata": {},
     "output_type": "execute_result"
    }
   ],
   "source": [
    "x.nilai_update"
   ]
  },
  {
   "cell_type": "code",
   "execution_count": null,
   "id": "da653ed5",
   "metadata": {},
   "outputs": [],
   "source": []
  }
 ],
 "metadata": {
  "kernelspec": {
   "display_name": "Python 3 (ipykernel)",
   "language": "python",
   "name": "python3"
  },
  "language_info": {
   "codemirror_mode": {
    "name": "ipython",
    "version": 3
   },
   "file_extension": ".py",
   "mimetype": "text/x-python",
   "name": "python",
   "nbconvert_exporter": "python",
   "pygments_lexer": "ipython3",
   "version": "3.9.12"
  }
 },
 "nbformat": 4,
 "nbformat_minor": 5
}
