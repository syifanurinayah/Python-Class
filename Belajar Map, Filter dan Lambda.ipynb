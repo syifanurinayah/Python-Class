{
 "cells": [
  {
   "cell_type": "code",
   "execution_count": 1,
   "id": "cf68c40b",
   "metadata": {},
   "outputs": [],
   "source": [
    "def kali10(num):\n",
    "    return num*10"
   ]
  },
  {
   "cell_type": "code",
   "execution_count": 2,
   "id": "7065ea73",
   "metadata": {},
   "outputs": [
    {
     "data": {
      "text/plain": [
       "700"
      ]
     },
     "execution_count": 2,
     "metadata": {},
     "output_type": "execute_result"
    }
   ],
   "source": [
    "kali10(70)"
   ]
  },
  {
   "cell_type": "code",
   "execution_count": 3,
   "id": "a70ee2d7",
   "metadata": {},
   "outputs": [],
   "source": [
    "angka = [2,3,4,5]"
   ]
  },
  {
   "cell_type": "code",
   "execution_count": 7,
   "id": "80addb1a",
   "metadata": {},
   "outputs": [
    {
     "name": "stdout",
     "output_type": "stream",
     "text": [
      "20\n",
      "30\n",
      "40\n",
      "50\n"
     ]
    }
   ],
   "source": [
    "for item in map(kali10,angka):\n",
    "    print(item)"
   ]
  },
  {
   "cell_type": "code",
   "execution_count": 10,
   "id": "f38266fc",
   "metadata": {},
   "outputs": [
    {
     "data": {
      "text/plain": [
       "[20, 30, 40, 50]"
      ]
     },
     "execution_count": 10,
     "metadata": {},
     "output_type": "execute_result"
    }
   ],
   "source": [
    "hasil = list(map(kali10,angka))\n",
    "hasil"
   ]
  },
  {
   "cell_type": "code",
   "execution_count": 11,
   "id": "cced8f01",
   "metadata": {},
   "outputs": [],
   "source": [
    "angka2 = (20,34,43,50)"
   ]
  },
  {
   "cell_type": "code",
   "execution_count": 12,
   "id": "92b08c44",
   "metadata": {},
   "outputs": [
    {
     "name": "stdout",
     "output_type": "stream",
     "text": [
      "200\n",
      "340\n",
      "430\n",
      "500\n"
     ]
    }
   ],
   "source": [
    "for item in map(kali10,angka2):\n",
    "    print(item)"
   ]
  },
  {
   "cell_type": "code",
   "execution_count": 13,
   "id": "892861a0",
   "metadata": {},
   "outputs": [],
   "source": [
    "hasil_tuple = tuple(map(kali10,angka2))"
   ]
  },
  {
   "cell_type": "code",
   "execution_count": 14,
   "id": "d15bdd20",
   "metadata": {},
   "outputs": [
    {
     "data": {
      "text/plain": [
       "(200, 340, 430, 500)"
      ]
     },
     "execution_count": 14,
     "metadata": {},
     "output_type": "execute_result"
    }
   ],
   "source": [
    "hasil_tuple"
   ]
  },
  {
   "cell_type": "code",
   "execution_count": 18,
   "id": "fc165771",
   "metadata": {},
   "outputs": [],
   "source": [
    "def jumlahkata(kata):\n",
    "    if len(kata)%2 == 0:\n",
    "        return 'ini genap'\n",
    "    else:\n",
    "        return 'ini ganjil'\n",
    "    "
   ]
  },
  {
   "cell_type": "code",
   "execution_count": 19,
   "id": "b8231045",
   "metadata": {},
   "outputs": [
    {
     "data": {
      "text/plain": [
       "'ini ganjil'"
      ]
     },
     "execution_count": 19,
     "metadata": {},
     "output_type": "execute_result"
    }
   ],
   "source": [
    "jumlahkata('hdhjgehgh')"
   ]
  },
  {
   "cell_type": "code",
   "execution_count": 20,
   "id": "e0f9803c",
   "metadata": {},
   "outputs": [],
   "source": [
    "list_kata = ['ghgdighg','ghgiyyegh','ddudweb']"
   ]
  },
  {
   "cell_type": "code",
   "execution_count": 21,
   "id": "3e263803",
   "metadata": {},
   "outputs": [
    {
     "data": {
      "text/plain": [
       "['ini genap', 'ini ganjil', 'ini ganjil']"
      ]
     },
     "execution_count": 21,
     "metadata": {},
     "output_type": "execute_result"
    }
   ],
   "source": [
    "hasil_list = list(map(jumlahkata,list_kata))\n",
    "hasil_list"
   ]
  },
  {
   "cell_type": "code",
   "execution_count": 22,
   "id": "fcac4303",
   "metadata": {},
   "outputs": [],
   "source": [
    "def cekgenap(num):\n",
    "    return num%2 == 0"
   ]
  },
  {
   "cell_type": "code",
   "execution_count": 23,
   "id": "2dd518af",
   "metadata": {},
   "outputs": [
    {
     "data": {
      "text/plain": [
       "True"
      ]
     },
     "execution_count": 23,
     "metadata": {},
     "output_type": "execute_result"
    }
   ],
   "source": [
    "cekgenap(10)"
   ]
  },
  {
   "cell_type": "code",
   "execution_count": 24,
   "id": "b4535f40",
   "metadata": {},
   "outputs": [
    {
     "data": {
      "text/plain": [
       "False"
      ]
     },
     "execution_count": 24,
     "metadata": {},
     "output_type": "execute_result"
    }
   ],
   "source": [
    "cekgenap(9)"
   ]
  },
  {
   "cell_type": "code",
   "execution_count": 25,
   "id": "aad58a8d",
   "metadata": {},
   "outputs": [],
   "source": [
    "nomor = [1,2,3,4,5,6,7,8,9,10,20,23,56]"
   ]
  },
  {
   "cell_type": "code",
   "execution_count": 26,
   "id": "ecb6e805",
   "metadata": {},
   "outputs": [
    {
     "data": {
      "text/plain": [
       "[2, 4, 6, 8, 10, 20, 56]"
      ]
     },
     "execution_count": 26,
     "metadata": {},
     "output_type": "execute_result"
    }
   ],
   "source": [
    "list(filter(cekgenap,nomor))"
   ]
  },
  {
   "cell_type": "markdown",
   "id": "dc87034a",
   "metadata": {},
   "source": [
    "# lambda"
   ]
  },
  {
   "cell_type": "code",
   "execution_count": 27,
   "id": "230d228c",
   "metadata": {},
   "outputs": [],
   "source": [
    "fungsiku = lambda x: x*10"
   ]
  },
  {
   "cell_type": "code",
   "execution_count": 28,
   "id": "19fa6a3c",
   "metadata": {},
   "outputs": [
    {
     "data": {
      "text/plain": [
       "700"
      ]
     },
     "execution_count": 28,
     "metadata": {},
     "output_type": "execute_result"
    }
   ],
   "source": [
    "fungsiku(70)"
   ]
  },
  {
   "cell_type": "code",
   "execution_count": 30,
   "id": "0d535fd1",
   "metadata": {},
   "outputs": [
    {
     "data": {
      "text/plain": [
       "[20, 30, 40, 50]"
      ]
     },
     "execution_count": 30,
     "metadata": {},
     "output_type": "execute_result"
    }
   ],
   "source": [
    "hasila = list(map(lambda x: x*10,angka))\n",
    "hasila"
   ]
  },
  {
   "cell_type": "code",
   "execution_count": 31,
   "id": "08c101ff",
   "metadata": {},
   "outputs": [
    {
     "data": {
      "text/plain": [
       "[2, 4, 6, 8, 10, 20, 56]"
      ]
     },
     "execution_count": 31,
     "metadata": {},
     "output_type": "execute_result"
    }
   ],
   "source": [
    "genapku = list(filter(lambda num: num%2 == 0,nomor))\n",
    "genapku"
   ]
  },
  {
   "cell_type": "code",
   "execution_count": null,
   "id": "6bc23ed6",
   "metadata": {},
   "outputs": [],
   "source": []
  }
 ],
 "metadata": {
  "kernelspec": {
   "display_name": "Python 3 (ipykernel)",
   "language": "python",
   "name": "python3"
  },
  "language_info": {
   "codemirror_mode": {
    "name": "ipython",
    "version": 3
   },
   "file_extension": ".py",
   "mimetype": "text/x-python",
   "name": "python",
   "nbconvert_exporter": "python",
   "pygments_lexer": "ipython3",
   "version": "3.9.12"
  }
 },
 "nbformat": 4,
 "nbformat_minor": 5
}
