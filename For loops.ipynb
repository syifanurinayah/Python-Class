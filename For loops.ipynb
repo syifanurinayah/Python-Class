{
 "cells": [
  {
   "cell_type": "code",
   "execution_count": 2,
   "id": "5c7a8f4e",
   "metadata": {},
   "outputs": [
    {
     "name": "stdout",
     "output_type": "stream",
     "text": [
      "s\n",
      "a\n",
      "y\n",
      "a\n",
      " \n",
      "b\n",
      "e\n",
      "l\n",
      "a\n",
      "j\n",
      "a\n",
      "r\n",
      " \n",
      "p\n",
      "y\n",
      "t\n",
      "h\n",
      "o\n",
      "n\n"
     ]
    }
   ],
   "source": [
    "for i in 'saya belajar python':\n",
    "    print(i)"
   ]
  },
  {
   "cell_type": "code",
   "execution_count": 3,
   "id": "4b8aca97",
   "metadata": {},
   "outputs": [
    {
     "name": "stdout",
     "output_type": "stream",
     "text": [
      "saya belajar python"
     ]
    }
   ],
   "source": [
    "for i in 'saya belajar python':\n",
    "    print(i, end='')"
   ]
  },
  {
   "cell_type": "code",
   "execution_count": 4,
   "id": "e31c44b1",
   "metadata": {},
   "outputs": [],
   "source": [
    "angka =[1,2,3,4,5,6,7,8,9,10]"
   ]
  },
  {
   "cell_type": "code",
   "execution_count": 5,
   "id": "6f3cb213",
   "metadata": {},
   "outputs": [
    {
     "name": "stdout",
     "output_type": "stream",
     "text": [
      "1\n",
      "2\n",
      "3\n",
      "4\n",
      "5\n",
      "6\n",
      "7\n",
      "8\n",
      "9\n",
      "10\n"
     ]
    }
   ],
   "source": [
    "for isi in angka:\n",
    "    print(isi)"
   ]
  },
  {
   "cell_type": "code",
   "execution_count": 6,
   "id": "fdf947dc",
   "metadata": {},
   "outputs": [],
   "source": [
    "jumlah =0"
   ]
  },
  {
   "cell_type": "code",
   "execution_count": 7,
   "id": "40d0455b",
   "metadata": {},
   "outputs": [
    {
     "name": "stdout",
     "output_type": "stream",
     "text": [
      "ini penjumlahan pada ierator ke-1 adalah 1\n",
      "ini penjumlahan pada ierator ke-2 adalah 3\n",
      "ini penjumlahan pada ierator ke-3 adalah 6\n",
      "ini penjumlahan pada ierator ke-4 adalah 10\n",
      "ini penjumlahan pada ierator ke-5 adalah 15\n",
      "ini penjumlahan pada ierator ke-6 adalah 21\n",
      "ini penjumlahan pada ierator ke-7 adalah 28\n",
      "ini penjumlahan pada ierator ke-8 adalah 36\n",
      "ini penjumlahan pada ierator ke-9 adalah 45\n",
      "ini penjumlahan pada ierator ke-10 adalah 55\n"
     ]
    }
   ],
   "source": [
    "for isi in angka:\n",
    "    jumlah = jumlah + isi\n",
    "    print('ini penjumlahan pada ierator ke-{} adalah {}'.format(isi,jumlah))    "
   ]
  },
  {
   "cell_type": "code",
   "execution_count": 9,
   "id": "b0750dd3",
   "metadata": {},
   "outputs": [
    {
     "name": "stdout",
     "output_type": "stream",
     "text": [
      "ini penjumlahan total adalah 110\n"
     ]
    }
   ],
   "source": [
    "for isi in angka:\n",
    "    jumlah = jumlah + isi\n",
    "print('ini penjumlahan total adalah',jumlah) "
   ]
  },
  {
   "cell_type": "code",
   "execution_count": 13,
   "id": "fb6d7268",
   "metadata": {},
   "outputs": [
    {
     "name": "stdout",
     "output_type": "stream",
     "text": [
      "selamat kamu berada di lokasi A 2\n",
      "selamat kamu berada di lokasi A 4\n",
      "selamat kamu berada di lokasi A 9\n",
      "selamat kamu berada di lokasi A 11\n"
     ]
    }
   ],
   "source": [
    "jumlah = 0 \n",
    "for item in 'saya belajar python':\n",
    "    jumlah += 1\n",
    "    if (item == 'a'):\n",
    "        print('selamat kamu berada di lokasi A',jumlah)"
   ]
  },
  {
   "cell_type": "code",
   "execution_count": 14,
   "id": "42601e5a",
   "metadata": {},
   "outputs": [],
   "source": [
    "angka = [1,2,3,4,5,6,7,8,9,10]"
   ]
  },
  {
   "cell_type": "code",
   "execution_count": 16,
   "id": "510dbdef",
   "metadata": {},
   "outputs": [
    {
     "name": "stdout",
     "output_type": "stream",
     "text": [
      "angk 1 adalah bilangan ganjil\n",
      "angk 2 adalah bilangan genap\n",
      "angk 3 adalah bilangan ganjil\n",
      "angk 4 adalah bilangan genap\n",
      "angk 5 adalah bilangan ganjil\n",
      "angk 6 adalah bilangan genap\n",
      "angk 7 adalah bilangan ganjil\n",
      "angk 8 adalah bilangan genap\n",
      "angk 9 adalah bilangan ganjil\n",
      "angk 10 adalah bilangan genap\n"
     ]
    }
   ],
   "source": [
    "for item in angka:\n",
    "    if (item%2 == 0):\n",
    "        print('angk {} adalah bilangan genap'.format(item))\n",
    "    else:\n",
    "        print('angk {} adalah bilangan ganjil'.format(item))"
   ]
  },
  {
   "cell_type": "code",
   "execution_count": 18,
   "id": "ff874a15",
   "metadata": {},
   "outputs": [
    {
     "name": "stdout",
     "output_type": "stream",
     "text": [
      "angka 1 adalah bilangan ganjil\n",
      "angka 2 adalah bilangan genap\n",
      "angka 3 adalah bilangan ganjil\n",
      "angka 4 adalah bilangan genap\n",
      "angka 5 adalah bilangan ganjil\n",
      "angka 6 adalah bilangan genap\n",
      "angka 7 adalah bilangan ganjil\n",
      "angka 8 adalah bilangan genap\n",
      "angka 9 adalah bilangan ganjil\n",
      "angka 10 adalah bilangan genap\n"
     ]
    }
   ],
   "source": [
    "for item in angka:\n",
    "    if (item%2 == 0):\n",
    "        print('angka',item,'adalah bilangan genap')\n",
    "    else:\n",
    "        print('angka',item,'adalah bilangan ganjil')"
   ]
  },
  {
   "cell_type": "code",
   "execution_count": 1,
   "id": "3f9ef69a",
   "metadata": {},
   "outputs": [],
   "source": [
    "angka2 = [3,4,5,61,10,20,90]"
   ]
  },
  {
   "cell_type": "code",
   "execution_count": 2,
   "id": "0d75b823",
   "metadata": {},
   "outputs": [],
   "source": [
    "jumlah1 = 1"
   ]
  },
  {
   "cell_type": "code",
   "execution_count": 3,
   "id": "8e47c16b",
   "metadata": {},
   "outputs": [
    {
     "name": "stdout",
     "output_type": "stream",
     "text": [
      "ini penjumlahan pada ierator ke-3 adalah 4\n",
      "ini penjumlahan pada ierator ke-4 adalah 8\n",
      "ini penjumlahan pada ierator ke-5 adalah 13\n",
      "ini penjumlahan pada ierator ke-61 adalah 74\n",
      "ini penjumlahan pada ierator ke-10 adalah 84\n",
      "ini penjumlahan pada ierator ke-20 adalah 104\n",
      "ini penjumlahan pada ierator ke-90 adalah 194\n"
     ]
    }
   ],
   "source": [
    "for item in angka2:\n",
    "    jumlah1 = jumlah1 + item\n",
    "    print('ini penjumlahan pada ierator ke-{} adalah {}'.format(item,jumlah1))  "
   ]
  },
  {
   "cell_type": "code",
   "execution_count": 4,
   "id": "f2b6a3fe",
   "metadata": {},
   "outputs": [
    {
     "name": "stdout",
     "output_type": "stream",
     "text": [
      "angk 3 adalah bilangan genap\n",
      "angk 4 adalah bilangan ganjil\n",
      "angk 5 adalah bilangan genap\n",
      "angk 61 adalah bilangan genap\n",
      "angk 10 adalah bilangan ganjil\n",
      "angk 20 adalah bilangan ganjil\n",
      "angk 90 adalah bilangan ganjil\n"
     ]
    }
   ],
   "source": [
    "for item in angka2:\n",
    "    if (item%2 == 1):\n",
    "        print('angk {} adalah bilangan genap'.format(item))\n",
    "    else:\n",
    "        print('angk {} adalah bilangan ganjil'.format(item))"
   ]
  },
  {
   "cell_type": "code",
   "execution_count": null,
   "id": "03b55be2",
   "metadata": {},
   "outputs": [],
   "source": []
  }
 ],
 "metadata": {
  "kernelspec": {
   "display_name": "Python 3 (ipykernel)",
   "language": "python",
   "name": "python3"
  },
  "language_info": {
   "codemirror_mode": {
    "name": "ipython",
    "version": 3
   },
   "file_extension": ".py",
   "mimetype": "text/x-python",
   "name": "python",
   "nbconvert_exporter": "python",
   "pygments_lexer": "ipython3",
   "version": "3.9.12"
  }
 },
 "nbformat": 4,
 "nbformat_minor": 5
}
