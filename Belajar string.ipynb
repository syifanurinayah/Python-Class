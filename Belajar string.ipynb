{
 "cells": [
  {
   "cell_type": "markdown",
   "id": "d83844aa",
   "metadata": {},
   "source": [
    "String tidak bisa di ganti namanya"
   ]
  },
  {
   "cell_type": "code",
   "execution_count": 1,
   "id": "0289a4b5",
   "metadata": {},
   "outputs": [],
   "source": [
    "var1 = [1,2,3,4,5,6]"
   ]
  },
  {
   "cell_type": "code",
   "execution_count": 2,
   "id": "dee14b9c",
   "metadata": {},
   "outputs": [
    {
     "data": {
      "text/plain": [
       "[1, 2, 3, 4, 5, 6]"
      ]
     },
     "execution_count": 2,
     "metadata": {},
     "output_type": "execute_result"
    }
   ],
   "source": [
    "var1"
   ]
  },
  {
   "cell_type": "code",
   "execution_count": 3,
   "id": "fb28d4c9",
   "metadata": {},
   "outputs": [],
   "source": [
    "var1[3] = 100"
   ]
  },
  {
   "cell_type": "code",
   "execution_count": 4,
   "id": "e5e637e4",
   "metadata": {},
   "outputs": [
    {
     "data": {
      "text/plain": [
       "[1, 2, 3, 100, 5, 6]"
      ]
     },
     "execution_count": 4,
     "metadata": {},
     "output_type": "execute_result"
    }
   ],
   "source": [
    "var1"
   ]
  },
  {
   "cell_type": "code",
   "execution_count": 5,
   "id": "a637fa24",
   "metadata": {},
   "outputs": [],
   "source": [
    "nama = 'yasmin'"
   ]
  },
  {
   "cell_type": "code",
   "execution_count": 6,
   "id": "da0d3bd1",
   "metadata": {},
   "outputs": [
    {
     "data": {
      "text/plain": [
       "'yasmin'"
      ]
     },
     "execution_count": 6,
     "metadata": {},
     "output_type": "execute_result"
    }
   ],
   "source": [
    "nama"
   ]
  },
  {
   "cell_type": "code",
   "execution_count": 7,
   "id": "b38bc100",
   "metadata": {},
   "outputs": [
    {
     "ename": "TypeError",
     "evalue": "'str' object does not support item assignment",
     "output_type": "error",
     "traceback": [
      "\u001b[1;31m---------------------------------------------------------------------------\u001b[0m",
      "\u001b[1;31mTypeError\u001b[0m                                 Traceback (most recent call last)",
      "Input \u001b[1;32mIn [7]\u001b[0m, in \u001b[0;36m<cell line: 1>\u001b[1;34m()\u001b[0m\n\u001b[1;32m----> 1\u001b[0m nama[:\u001b[38;5;241m2\u001b[39m] \u001b[38;5;241m=\u001b[39m \u001b[38;5;124m'\u001b[39m\u001b[38;5;124mjoko\u001b[39m\u001b[38;5;124m'\u001b[39m\n",
      "\u001b[1;31mTypeError\u001b[0m: 'str' object does not support item assignment"
     ]
    }
   ],
   "source": [
    "nama[:2] = 'joko'"
   ]
  },
  {
   "cell_type": "code",
   "execution_count": 8,
   "id": "9d2fe83b",
   "metadata": {},
   "outputs": [],
   "source": [
    "nama_panjang = 'adelin' + nama"
   ]
  },
  {
   "cell_type": "code",
   "execution_count": 9,
   "id": "21825ed5",
   "metadata": {},
   "outputs": [
    {
     "data": {
      "text/plain": [
       "'adelinyasmin'"
      ]
     },
     "execution_count": 9,
     "metadata": {},
     "output_type": "execute_result"
    }
   ],
   "source": [
    "nama_panjang"
   ]
  },
  {
   "cell_type": "code",
   "execution_count": null,
   "id": "c74a6bd6",
   "metadata": {},
   "outputs": [],
   "source": []
  }
 ],
 "metadata": {
  "kernelspec": {
   "display_name": "Python 3 (ipykernel)",
   "language": "python",
   "name": "python3"
  },
  "language_info": {
   "codemirror_mode": {
    "name": "ipython",
    "version": 3
   },
   "file_extension": ".py",
   "mimetype": "text/x-python",
   "name": "python",
   "nbconvert_exporter": "python",
   "pygments_lexer": "ipython3",
   "version": "3.9.12"
  }
 },
 "nbformat": 4,
 "nbformat_minor": 5
}
