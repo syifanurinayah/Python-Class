{
 "cells": [
  {
   "cell_type": "code",
   "execution_count": 1,
   "id": "a3cd1a47",
   "metadata": {},
   "outputs": [],
   "source": [
    "class Kulkas:\n",
    "    \n",
    "    def __init__(self, merek, harga):\n",
    "        self.merek = merek\n",
    "        self.harga = harga"
   ]
  },
  {
   "cell_type": "code",
   "execution_count": 2,
   "id": "467ef17f",
   "metadata": {},
   "outputs": [],
   "source": [
    "barang = Kulkas(merek='samsung', harga='250000')"
   ]
  },
  {
   "cell_type": "code",
   "execution_count": 3,
   "id": "0191a14d",
   "metadata": {},
   "outputs": [
    {
     "data": {
      "text/plain": [
       "'250000'"
      ]
     },
     "execution_count": 3,
     "metadata": {},
     "output_type": "execute_result"
    }
   ],
   "source": [
    "barang.harga"
   ]
  },
  {
   "cell_type": "code",
   "execution_count": 4,
   "id": "0422660e",
   "metadata": {},
   "outputs": [
    {
     "data": {
      "text/plain": [
       "'samsung'"
      ]
     },
     "execution_count": 4,
     "metadata": {},
     "output_type": "execute_result"
    }
   ],
   "source": [
    "barang.merek"
   ]
  },
  {
   "cell_type": "code",
   "execution_count": 25,
   "id": "32032883",
   "metadata": {},
   "outputs": [],
   "source": [
    "class Barang:\n",
    "    \n",
    "    penjual = 'Pak mamat' # ini atribut global\n",
    "    \n",
    "    def __init__(self, merek, harga, tipe):\n",
    "        self.merek = merek\n",
    "        self.harga = harga\n",
    "        self.garansi = 2\n",
    "        self.tenga = 'listrik'\n",
    "        \n",
    "    def konsumsi(self):\n",
    "        print('500 watt')\n",
    "        \n",
    "    def keterangan(self,anak):\n",
    "        print('kulkas merek {} dan harganya {} dan nama penjualnya {} dn punya anak {}'.format(self.merek, self.harga, self.penjual, anak))"
   ]
  },
  {
   "cell_type": "code",
   "execution_count": 26,
   "id": "4466ed2a",
   "metadata": {},
   "outputs": [],
   "source": [
    "barang1 = Barang(merek='LG', harga=20000, tipe='xl')"
   ]
  },
  {
   "cell_type": "code",
   "execution_count": 27,
   "id": "3d9b736f",
   "metadata": {},
   "outputs": [
    {
     "data": {
      "text/plain": [
       "'LG'"
      ]
     },
     "execution_count": 27,
     "metadata": {},
     "output_type": "execute_result"
    }
   ],
   "source": [
    "barang1.merek"
   ]
  },
  {
   "cell_type": "code",
   "execution_count": 28,
   "id": "56963112",
   "metadata": {},
   "outputs": [
    {
     "name": "stdout",
     "output_type": "stream",
     "text": [
      "500 watt\n"
     ]
    }
   ],
   "source": [
    "barang1.konsumsi()"
   ]
  },
  {
   "cell_type": "code",
   "execution_count": 29,
   "id": "65a5ac7b",
   "metadata": {},
   "outputs": [
    {
     "name": "stdout",
     "output_type": "stream",
     "text": [
      "kulkas merek LG dan harganya 20000 dan nama penjualnya Pak mamat dn punya anak 2\n"
     ]
    }
   ],
   "source": [
    "barang1.keterangan(2)"
   ]
  },
  {
   "cell_type": "code",
   "execution_count": 34,
   "id": "b783ae07",
   "metadata": {},
   "outputs": [],
   "source": [
    "class Lingkarang:\n",
    "    \n",
    "    phi = 3.14\n",
    "    \n",
    "    def __init__(self, radius):\n",
    "        self.radius = radius\n",
    "        \n",
    "    def keliling(self):\n",
    "        return 2*self.phi*self.radius\n",
    "    \n",
    "    def luas(self):\n",
    "        return 2*self.phi*self.radius*self.radius"
   ]
  },
  {
   "cell_type": "code",
   "execution_count": 35,
   "id": "ee9b0ecd",
   "metadata": {},
   "outputs": [],
   "source": [
    "l1 = Lingkarang(10)"
   ]
  },
  {
   "cell_type": "code",
   "execution_count": 36,
   "id": "4fb8d1fa",
   "metadata": {},
   "outputs": [
    {
     "data": {
      "text/plain": [
       "62.800000000000004"
      ]
     },
     "execution_count": 36,
     "metadata": {},
     "output_type": "execute_result"
    }
   ],
   "source": [
    "l1.keliling()"
   ]
  },
  {
   "cell_type": "code",
   "execution_count": 37,
   "id": "0f0cdbee",
   "metadata": {},
   "outputs": [
    {
     "data": {
      "text/plain": [
       "628.0"
      ]
     },
     "execution_count": 37,
     "metadata": {},
     "output_type": "execute_result"
    }
   ],
   "source": [
    "l1.luas()"
   ]
  },
  {
   "cell_type": "code",
   "execution_count": null,
   "id": "a4a4d42b",
   "metadata": {},
   "outputs": [],
   "source": []
  }
 ],
 "metadata": {
  "kernelspec": {
   "display_name": "Python 3 (ipykernel)",
   "language": "python",
   "name": "python3"
  },
  "language_info": {
   "codemirror_mode": {
    "name": "ipython",
    "version": 3
   },
   "file_extension": ".py",
   "mimetype": "text/x-python",
   "name": "python",
   "nbconvert_exporter": "python",
   "pygments_lexer": "ipython3",
   "version": "3.9.12"
  }
 },
 "nbformat": 4,
 "nbformat_minor": 5
}
