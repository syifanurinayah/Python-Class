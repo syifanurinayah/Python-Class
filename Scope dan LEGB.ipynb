{
 "cells": [
  {
   "cell_type": "code",
   "execution_count": 1,
   "id": "f7ef6200",
   "metadata": {},
   "outputs": [],
   "source": [
    "a =1000"
   ]
  },
  {
   "cell_type": "code",
   "execution_count": 3,
   "id": "f1e3dd5d",
   "metadata": {},
   "outputs": [],
   "source": [
    "def jumlah():\n",
    "    a = 80\n",
    "    return a"
   ]
  },
  {
   "cell_type": "code",
   "execution_count": 4,
   "id": "f8a25995",
   "metadata": {},
   "outputs": [
    {
     "name": "stdout",
     "output_type": "stream",
     "text": [
      "1000\n"
     ]
    }
   ],
   "source": [
    "print(a)"
   ]
  },
  {
   "cell_type": "markdown",
   "id": "23c9be0b",
   "metadata": {},
   "source": [
    "# urutan eksekusi python\n",
    "\n",
    "#### - L (local) = variabel ini bersifat local yang biasanya berada di dalam fungsi (def/lambda) tertentu\n",
    "#### - E (Enclosing fuction local ) = variabel ini di dalam fungsi (def/lambda) mulai dari lingkup terdalam hingga keluar\n",
    "#### - G (Global ) = variabel ini di definisikan di luar, biasanya di tahap awal\n",
    "#### - B (Built-in ) = variabel bawaan python, seperti list, str, upper, dll"
   ]
  },
  {
   "cell_type": "code",
   "execution_count": 5,
   "id": "3d7ec222",
   "metadata": {},
   "outputs": [
    {
     "name": "stdout",
     "output_type": "stream",
     "text": [
      "80\n"
     ]
    }
   ],
   "source": [
    "print(jumlah())"
   ]
  },
  {
   "cell_type": "code",
   "execution_count": 6,
   "id": "51bc73c9",
   "metadata": {},
   "outputs": [],
   "source": [
    "kalimat = 'saya adalah GLOBAL'"
   ]
  },
  {
   "cell_type": "code",
   "execution_count": 12,
   "id": "239fc089",
   "metadata": {},
   "outputs": [],
   "source": [
    "def cetak():\n",
    "    kalimat = 'saya adalah LOCAL'\n",
    "    \n",
    "    def eksekusi():\n",
    "        print('halo saya adalah '+kalimat)\n",
    "        \n",
    "    eksekusi()"
   ]
  },
  {
   "cell_type": "code",
   "execution_count": 13,
   "id": "04c1a19f",
   "metadata": {},
   "outputs": [
    {
     "name": "stdout",
     "output_type": "stream",
     "text": [
      "saya adalah GLOBAL\n"
     ]
    }
   ],
   "source": [
    "print(kalimat)"
   ]
  },
  {
   "cell_type": "code",
   "execution_count": 14,
   "id": "67a7e8c8",
   "metadata": {},
   "outputs": [
    {
     "name": "stdout",
     "output_type": "stream",
     "text": [
      "halo saya adalah saya adalah LOCAL\n"
     ]
    }
   ],
   "source": [
    "cetak()"
   ]
  },
  {
   "cell_type": "code",
   "execution_count": 20,
   "id": "95029c23",
   "metadata": {},
   "outputs": [],
   "source": [
    "angka =99\n",
    "\n",
    "def tulis(angka):\n",
    "    print(f'Angka = {angka}')\n",
    "    # print('Angka = {}'.format{angka})\n",
    "    \n",
    "    #mendefinisakan ulang variabel di fungsi \n",
    "    angka = 300\n",
    "    print(f'Angkanya saya rubah menjadi = {angka}')"
   ]
  },
  {
   "cell_type": "code",
   "execution_count": 21,
   "id": "271f319f",
   "metadata": {},
   "outputs": [
    {
     "name": "stdout",
     "output_type": "stream",
     "text": [
      "Angka = 99\n",
      "Angkanya saya rubah menjadi = 300\n"
     ]
    }
   ],
   "source": [
    "tulis(angka)"
   ]
  },
  {
   "cell_type": "code",
   "execution_count": null,
   "id": "32fe20fd",
   "metadata": {},
   "outputs": [],
   "source": []
  }
 ],
 "metadata": {
  "kernelspec": {
   "display_name": "Python 3 (ipykernel)",
   "language": "python",
   "name": "python3"
  },
  "language_info": {
   "codemirror_mode": {
    "name": "ipython",
    "version": 3
   },
   "file_extension": ".py",
   "mimetype": "text/x-python",
   "name": "python",
   "nbconvert_exporter": "python",
   "pygments_lexer": "ipython3",
   "version": "3.9.12"
  }
 },
 "nbformat": 4,
 "nbformat_minor": 5
}
