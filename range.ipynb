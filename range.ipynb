{
 "cells": [
  {
   "cell_type": "code",
   "execution_count": 2,
   "id": "89ac5255",
   "metadata": {},
   "outputs": [
    {
     "name": "stdout",
     "output_type": "stream",
     "text": [
      "1\n",
      "3\n",
      "5\n",
      "7\n",
      "9\n",
      "11\n",
      "13\n",
      "15\n",
      "17\n",
      "19\n"
     ]
    }
   ],
   "source": [
    "for item in range(1,21,2):\n",
    "    print(item)"
   ]
  },
  {
   "cell_type": "markdown",
   "id": "29e7b13d",
   "metadata": {},
   "source": [
    "# enumerate"
   ]
  },
  {
   "cell_type": "code",
   "execution_count": 3,
   "id": "d891b491",
   "metadata": {},
   "outputs": [],
   "source": [
    "angka = [1,2,3,4,5,6,7,8,9,10]"
   ]
  },
  {
   "cell_type": "code",
   "execution_count": 4,
   "id": "76f764a9",
   "metadata": {},
   "outputs": [
    {
     "name": "stdout",
     "output_type": "stream",
     "text": [
      "(0, 1)\n",
      "(1, 2)\n",
      "(2, 3)\n",
      "(3, 4)\n",
      "(4, 5)\n",
      "(5, 6)\n",
      "(6, 7)\n",
      "(7, 8)\n",
      "(8, 9)\n",
      "(9, 10)\n"
     ]
    }
   ],
   "source": [
    "for item in enumerate(angka):\n",
    "    print(item)"
   ]
  },
  {
   "cell_type": "code",
   "execution_count": 2,
   "id": "6ec49da1",
   "metadata": {},
   "outputs": [],
   "source": [
    "kata = 'abcdefghijklmnopqrs'"
   ]
  },
  {
   "cell_type": "code",
   "execution_count": 3,
   "id": "4fb05e56",
   "metadata": {},
   "outputs": [
    {
     "name": "stdout",
     "output_type": "stream",
     "text": [
      "0 a\n",
      "1 b\n",
      "2 c\n",
      "3 d\n",
      "4 e\n",
      "5 f\n",
      "6 g\n",
      "7 h\n",
      "8 i\n",
      "9 j\n",
      "10 k\n",
      "11 l\n",
      "12 m\n",
      "13 n\n",
      "14 o\n",
      "15 p\n",
      "16 q\n",
      "17 r\n",
      "18 s\n"
     ]
    }
   ],
   "source": [
    "for a,b in enumerate(kata):\n",
    "    print(a,b)"
   ]
  },
  {
   "cell_type": "markdown",
   "id": "cbcc1a54",
   "metadata": {},
   "source": [
    "# zip"
   ]
  },
  {
   "cell_type": "code",
   "execution_count": 4,
   "id": "7a760e7f",
   "metadata": {},
   "outputs": [],
   "source": [
    "list1 = [1,2,3,4,5]"
   ]
  },
  {
   "cell_type": "code",
   "execution_count": 5,
   "id": "0f6afb97",
   "metadata": {},
   "outputs": [],
   "source": [
    "list2 = [6,7,8,9,10]"
   ]
  },
  {
   "cell_type": "code",
   "execution_count": 6,
   "id": "e92f61ef",
   "metadata": {},
   "outputs": [
    {
     "name": "stdout",
     "output_type": "stream",
     "text": [
      "(1, 6)\n",
      "(2, 7)\n",
      "(3, 8)\n",
      "(4, 9)\n",
      "(5, 10)\n"
     ]
    }
   ],
   "source": [
    "for item in zip(list1,list2):\n",
    "    print(item)"
   ]
  },
  {
   "cell_type": "markdown",
   "id": "8aa3f10e",
   "metadata": {},
   "source": [
    "# item chacking"
   ]
  },
  {
   "cell_type": "code",
   "execution_count": 7,
   "id": "1fbcae8a",
   "metadata": {},
   "outputs": [
    {
     "data": {
      "text/plain": [
       "'aku belajar python'"
      ]
     },
     "execution_count": 7,
     "metadata": {},
     "output_type": "execute_result"
    }
   ],
   "source": [
    "'aku belajar python'"
   ]
  },
  {
   "cell_type": "code",
   "execution_count": 10,
   "id": "b25db79d",
   "metadata": {},
   "outputs": [
    {
     "data": {
      "text/plain": [
       "True"
      ]
     },
     "execution_count": 10,
     "metadata": {},
     "output_type": "execute_result"
    }
   ],
   "source": [
    "'y' in 'aku belajar python'"
   ]
  },
  {
   "cell_type": "code",
   "execution_count": 12,
   "id": "a3a9a6ce",
   "metadata": {},
   "outputs": [],
   "source": [
    "kotak1 = {'a':100, 'b':200, 'c':300}"
   ]
  },
  {
   "cell_type": "code",
   "execution_count": 15,
   "id": "9cf08bdd",
   "metadata": {},
   "outputs": [
    {
     "data": {
      "text/plain": [
       "True"
      ]
     },
     "execution_count": 15,
     "metadata": {},
     "output_type": "execute_result"
    }
   ],
   "source": [
    "'a' in kotak1"
   ]
  },
  {
   "cell_type": "code",
   "execution_count": 16,
   "id": "7bd1fcdd",
   "metadata": {},
   "outputs": [
    {
     "data": {
      "text/plain": [
       "True"
      ]
     },
     "execution_count": 16,
     "metadata": {},
     "output_type": "execute_result"
    }
   ],
   "source": [
    "200 in kotak1.values()"
   ]
  },
  {
   "cell_type": "markdown",
   "id": "78ef50da",
   "metadata": {},
   "source": [
    "# advance for loops"
   ]
  },
  {
   "cell_type": "code",
   "execution_count": 17,
   "id": "42ae17c3",
   "metadata": {},
   "outputs": [],
   "source": [
    "isi = list(range(1,11))"
   ]
  },
  {
   "cell_type": "code",
   "execution_count": 18,
   "id": "0c64cb90",
   "metadata": {},
   "outputs": [
    {
     "data": {
      "text/plain": [
       "[1, 2, 3, 4, 5, 6, 7, 8, 9, 10]"
      ]
     },
     "execution_count": 18,
     "metadata": {},
     "output_type": "execute_result"
    }
   ],
   "source": [
    "isi"
   ]
  },
  {
   "cell_type": "code",
   "execution_count": 19,
   "id": "9a213772",
   "metadata": {},
   "outputs": [],
   "source": [
    "isi2 = [item for item in range(1,11)]"
   ]
  },
  {
   "cell_type": "code",
   "execution_count": 20,
   "id": "db59d63d",
   "metadata": {},
   "outputs": [
    {
     "data": {
      "text/plain": [
       "[1, 2, 3, 4, 5, 6, 7, 8, 9, 10]"
      ]
     },
     "execution_count": 20,
     "metadata": {},
     "output_type": "execute_result"
    }
   ],
   "source": [
    "isi2"
   ]
  },
  {
   "cell_type": "code",
   "execution_count": 21,
   "id": "664ee541",
   "metadata": {},
   "outputs": [],
   "source": [
    "isi2 = [(item**2/4) for item in range(1,11)]"
   ]
  },
  {
   "cell_type": "code",
   "execution_count": 22,
   "id": "3d9baf11",
   "metadata": {},
   "outputs": [
    {
     "data": {
      "text/plain": [
       "[0.25, 1.0, 2.25, 4.0, 6.25, 9.0, 12.25, 16.0, 20.25, 25.0]"
      ]
     },
     "execution_count": 22,
     "metadata": {},
     "output_type": "execute_result"
    }
   ],
   "source": [
    "isi2"
   ]
  },
  {
   "cell_type": "code",
   "execution_count": 24,
   "id": "5b127307",
   "metadata": {},
   "outputs": [
    {
     "data": {
      "text/plain": [
       "[2, 4, 6, 8, 10]"
      ]
     },
     "execution_count": 24,
     "metadata": {},
     "output_type": "execute_result"
    }
   ],
   "source": [
    "isi3 = [item for item in range(1,11) if item%2 ==0]\n",
    "isi3"
   ]
  },
  {
   "cell_type": "code",
   "execution_count": 27,
   "id": "f6c4e9eb",
   "metadata": {},
   "outputs": [
    {
     "data": {
      "text/plain": [
       "['angka ini bilangan ganjil',\n",
       " 2,\n",
       " 'angka ini bilangan ganjil',\n",
       " 4,\n",
       " 'angka ini bilangan ganjil',\n",
       " 6,\n",
       " 'angka ini bilangan ganjil',\n",
       " 8,\n",
       " 'angka ini bilangan ganjil',\n",
       " 10]"
      ]
     },
     "execution_count": 27,
     "metadata": {},
     "output_type": "execute_result"
    }
   ],
   "source": [
    "isi6 = [item if item%2==0 else 'angka ini bilangan ganjil' for item in range(1,11)]\n",
    "isi6"
   ]
  },
  {
   "cell_type": "code",
   "execution_count": 28,
   "id": "36bd2f42",
   "metadata": {},
   "outputs": [
    {
     "data": {
      "text/plain": [
       "['angka ini bilangan ganjil',\n",
       " 2,\n",
       " 'angka ini bilangan ganjil',\n",
       " 4,\n",
       " 'angka ini bilangan ganjil',\n",
       " 6,\n",
       " 'angka ini bilangan ganjil',\n",
       " 8,\n",
       " 'angka ini bilangan ganjil',\n",
       " 10]"
      ]
     },
     "execution_count": 28,
     "metadata": {},
     "output_type": "execute_result"
    }
   ],
   "source": [
    "isi7 = []\n",
    "for item in range(1,11):\n",
    "    if item%2 ==0:\n",
    "        isi7.append(item)\n",
    "    else:\n",
    "        isi7.append('angka ini bilangan ganjil')\n",
    "isi7"
   ]
  },
  {
   "cell_type": "code",
   "execution_count": null,
   "id": "7692b075",
   "metadata": {},
   "outputs": [],
   "source": []
  }
 ],
 "metadata": {
  "kernelspec": {
   "display_name": "Python 3 (ipykernel)",
   "language": "python",
   "name": "python3"
  },
  "language_info": {
   "codemirror_mode": {
    "name": "ipython",
    "version": 3
   },
   "file_extension": ".py",
   "mimetype": "text/x-python",
   "name": "python",
   "nbconvert_exporter": "python",
   "pygments_lexer": "ipython3",
   "version": "3.9.12"
  }
 },
 "nbformat": 4,
 "nbformat_minor": 5
}
