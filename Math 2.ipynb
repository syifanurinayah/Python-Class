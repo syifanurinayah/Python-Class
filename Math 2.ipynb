{
 "cells": [
  {
   "cell_type": "code",
   "execution_count": 1,
   "id": "e5eb2efc",
   "metadata": {},
   "outputs": [],
   "source": [
    "# urutan aritmatika \n",
    "# 1. tanda kurung\n",
    "# 2. pangkat\n",
    "# 3. perkalian dan pembagian\n",
    "# 4. penjumlahan dan pengurangan \n",
    "\n",
    "from IPython.display import display, Math "
   ]
  },
  {
   "cell_type": "code",
   "execution_count": 2,
   "id": "366b9571",
   "metadata": {},
   "outputs": [
    {
     "data": {
      "text/plain": [
       "'4 + 3 = 7'"
      ]
     },
     "metadata": {},
     "output_type": "display_data"
    }
   ],
   "source": [
    "display('4 + 3 = 7')"
   ]
  },
  {
   "cell_type": "code",
   "execution_count": 3,
   "id": "2f8eb512",
   "metadata": {},
   "outputs": [
    {
     "data": {
      "text/latex": [
       "$\\displaystyle 4 + 3 = 7$"
      ],
      "text/plain": [
       "<IPython.core.display.Math object>"
      ]
     },
     "metadata": {},
     "output_type": "display_data"
    }
   ],
   "source": [
    "display(Math('4 + 3 = 7'))"
   ]
  },
  {
   "cell_type": "code",
   "execution_count": 4,
   "id": "5abf51b5",
   "metadata": {},
   "outputs": [
    {
     "data": {
      "text/latex": [
       "$\\displaystyle 10 + 5 = 15$"
      ],
      "text/plain": [
       "<IPython.core.display.Math object>"
      ]
     },
     "metadata": {},
     "output_type": "display_data"
    }
   ],
   "source": [
    "x = 10\n",
    "y = 5\n",
    "\n",
    "jawab = x/y\n",
    "display(Math(f'{x} + {y} = {x+y}'))"
   ]
  },
  {
   "cell_type": "code",
   "execution_count": 5,
   "id": "135bd340",
   "metadata": {},
   "outputs": [
    {
     "data": {
      "text/latex": [
       "$\\displaystyle 10 + 5 = 15$"
      ],
      "text/plain": [
       "<IPython.core.display.Math object>"
      ]
     },
     "metadata": {},
     "output_type": "display_data"
    }
   ],
   "source": [
    "display(Math('{} + {} = {}'.format(x, y, x+y)))"
   ]
  },
  {
   "cell_type": "code",
   "execution_count": 6,
   "id": "484ea29e",
   "metadata": {},
   "outputs": [
    {
     "data": {
      "text/latex": [
       "$\\displaystyle \\frac45 = 0.8$"
      ],
      "text/plain": [
       "<IPython.core.display.Math object>"
      ]
     },
     "metadata": {},
     "output_type": "display_data"
    }
   ],
   "source": [
    "display(Math(f'\\\\frac{4}{5} = {4/5}'))"
   ]
  },
  {
   "cell_type": "code",
   "execution_count": 20,
   "id": "b6d12520",
   "metadata": {},
   "outputs": [
    {
     "data": {
      "text/latex": [
       "$\\displaystyle \\frac{10}{5} = 2$"
      ],
      "text/plain": [
       "<IPython.core.display.Math object>"
      ]
     },
     "metadata": {},
     "output_type": "display_data"
    }
   ],
   "source": [
    "display(Math('\\\\frac{10}{5} = %g' %jawab))"
   ]
  },
  {
   "cell_type": "code",
   "execution_count": 8,
   "id": "d9c0f207",
   "metadata": {},
   "outputs": [
    {
     "data": {
      "text/latex": [
       "$\\displaystyle 10\\times5 = 50$"
      ],
      "text/plain": [
       "<IPython.core.display.Math object>"
      ]
     },
     "metadata": {},
     "output_type": "display_data"
    }
   ],
   "source": [
    "display(Math(f'{x}\\\\times{y} = {x*y}'))"
   ]
  },
  {
   "cell_type": "code",
   "execution_count": 9,
   "id": "21e70967",
   "metadata": {},
   "outputs": [],
   "source": [
    "x = 5\n",
    "y = 10\n",
    "z = 2\n",
    "\n",
    "jawaban1 = 5*x*(5+y)\n"
   ]
  },
  {
   "cell_type": "code",
   "execution_count": 10,
   "id": "880865e2",
   "metadata": {},
   "outputs": [
    {
     "data": {
      "text/latex": [
       "$\\displaystyle 5x(5+y) = 375$"
      ],
      "text/plain": [
       "<IPython.core.display.Math object>"
      ]
     },
     "metadata": {},
     "output_type": "display_data"
    }
   ],
   "source": [
    "display(Math(f'5x(5+y) = {jawaban1}'))"
   ]
  },
  {
   "cell_type": "code",
   "execution_count": 11,
   "id": "4e4730fe",
   "metadata": {},
   "outputs": [
    {
     "data": {
      "text/latex": [
       "$\\displaystyle -y-\\frac32 = -11.5$"
      ],
      "text/plain": [
       "<IPython.core.display.Math object>"
      ]
     },
     "metadata": {},
     "output_type": "display_data"
    }
   ],
   "source": [
    "jawaban2 = -y-((x-2)/z)\n",
    "display(Math(f'-y-\\\\frac{x-2}{z} = {jawaban2}'))"
   ]
  },
  {
   "cell_type": "code",
   "execution_count": 12,
   "id": "dbbd2667",
   "metadata": {},
   "outputs": [
    {
     "data": {
      "text/latex": [
       "$\\displaystyle -y-\\frac{x-2}{z} = -11.5$"
      ],
      "text/plain": [
       "<IPython.core.display.Math object>"
      ]
     },
     "metadata": {},
     "output_type": "display_data"
    }
   ],
   "source": [
    "display(Math('-y-\\\\frac{x-2}{z} = %g' %jawaban2))"
   ]
  },
  {
   "cell_type": "markdown",
   "id": "154c0279",
   "metadata": {},
   "source": [
    "# Pangkat Power"
   ]
  },
  {
   "cell_type": "code",
   "execution_count": 13,
   "id": "5252971f",
   "metadata": {},
   "outputs": [
    {
     "data": {
      "text/latex": [
       "$\\displaystyle 3^2  = 9$"
      ],
      "text/plain": [
       "<IPython.core.display.Math object>"
      ]
     },
     "metadata": {},
     "output_type": "display_data"
    }
   ],
   "source": [
    "display(Math(f'3^2  = {3**2}'))"
   ]
  },
  {
   "cell_type": "code",
   "execution_count": 14,
   "id": "1fbd8556",
   "metadata": {},
   "outputs": [
    {
     "data": {
      "text/latex": [
       "$\\displaystyle 3^2  \\times 3^3 = 3^5$"
      ],
      "text/plain": [
       "<IPython.core.display.Math object>"
      ]
     },
     "metadata": {},
     "output_type": "display_data"
    }
   ],
   "source": [
    "display(Math(f'3^2  \\\\times 3^3 = 3^5'))"
   ]
  },
  {
   "cell_type": "markdown",
   "id": "a5ed2e27",
   "metadata": {},
   "source": [
    "# latihan pangkat power"
   ]
  },
  {
   "cell_type": "code",
   "execution_count": 15,
   "id": "24c6a021",
   "metadata": {},
   "outputs": [],
   "source": [
    "x = 5\n",
    "y = 5.1\n",
    "\n",
    "jawaban1 = x**(3/4)*4**y\n",
    "jawaban2 = 3**3 / x**y\n",
    "jawaban3 = 10**(x-4)"
   ]
  },
  {
   "cell_type": "code",
   "execution_count": 16,
   "id": "114127c3",
   "metadata": {},
   "outputs": [
    {
     "data": {
      "text/latex": [
       "$\\displaystyle x^\\frac34 \\times 4^y = 3933.086147822751$"
      ],
      "text/plain": [
       "<IPython.core.display.Math object>"
      ]
     },
     "metadata": {},
     "output_type": "display_data"
    }
   ],
   "source": [
    "display(Math(f'x^\\\\frac{3}{4} \\\\times 4^y = {x**(3/4)*4**y}'))"
   ]
  },
  {
   "cell_type": "code",
   "execution_count": 17,
   "id": "6f3ab8fe",
   "metadata": {},
   "outputs": [
    {
     "data": {
      "text/latex": [
       "$\\displaystyle x^{3/4}\\times 4^y = 3933.09$"
      ],
      "text/plain": [
       "<IPython.core.display.Math object>"
      ]
     },
     "metadata": {},
     "output_type": "display_data"
    }
   ],
   "source": [
    "display(Math('x^{3/4}\\\\times 4^y = %g' %jawaban1))"
   ]
  },
  {
   "cell_type": "code",
   "execution_count": 18,
   "id": "867bb34e",
   "metadata": {},
   "outputs": [
    {
     "data": {
      "text/latex": [
       "$\\displaystyle \\frac{3^3}{x^y} = 0.00735558$"
      ],
      "text/plain": [
       "<IPython.core.display.Math object>"
      ]
     },
     "metadata": {},
     "output_type": "display_data"
    }
   ],
   "source": [
    "display(Math('\\\\frac{3^3}{x^y} = %g' %jawaban2))"
   ]
  },
  {
   "cell_type": "code",
   "execution_count": 19,
   "id": "2deaaa9c",
   "metadata": {},
   "outputs": [
    {
     "data": {
      "text/latex": [
       "$\\displaystyle 10^{x-4} = 10$"
      ],
      "text/plain": [
       "<IPython.core.display.Math object>"
      ]
     },
     "metadata": {},
     "output_type": "display_data"
    }
   ],
   "source": [
    "display(Math('10^{x-4} = %g' %jawaban3))"
   ]
  },
  {
   "cell_type": "code",
   "execution_count": null,
   "id": "7ce78c4b",
   "metadata": {},
   "outputs": [],
   "source": []
  },
  {
   "cell_type": "code",
   "execution_count": null,
   "id": "3778b828",
   "metadata": {},
   "outputs": [],
   "source": []
  }
 ],
 "metadata": {
  "kernelspec": {
   "display_name": "Python 3 (ipykernel)",
   "language": "python",
   "name": "python3"
  },
  "language_info": {
   "codemirror_mode": {
    "name": "ipython",
    "version": 3
   },
   "file_extension": ".py",
   "mimetype": "text/x-python",
   "name": "python",
   "nbconvert_exporter": "python",
   "pygments_lexer": "ipython3",
   "version": "3.9.12"
  }
 },
 "nbformat": 4,
 "nbformat_minor": 5
}
