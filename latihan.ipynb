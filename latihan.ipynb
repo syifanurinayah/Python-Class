{
 "cells": [
  {
   "cell_type": "code",
   "execution_count": 14,
   "id": "5b080fb4",
   "metadata": {},
   "outputs": [],
   "source": [
    "awal = 100\n",
    "\n",
    "class Orang():\n",
    "    \n",
    "    def __init__(self):\n",
    "        nama = input(str('masukan nama kamu'))\n",
    "        tinggi = input(int('masukan tinggi kamu'))"
   ]
  },
  {
   "cell_type": "code",
   "execution_count": 11,
   "id": "0669e823",
   "metadata": {},
   "outputs": [],
   "source": [
    "orang = Orang(nama='sutini')"
   ]
  },
  {
   "cell_type": "code",
   "execution_count": 12,
   "id": "723cd75c",
   "metadata": {},
   "outputs": [
    {
     "data": {
      "text/plain": [
       "'sutini'"
      ]
     },
     "execution_count": 12,
     "metadata": {},
     "output_type": "execute_result"
    }
   ],
   "source": [
    "orang.nama"
   ]
  },
  {
   "cell_type": "code",
   "execution_count": 13,
   "id": "2f9d56e8",
   "metadata": {},
   "outputs": [
    {
     "name": "stdout",
     "output_type": "stream",
     "text": [
      "hai\n"
     ]
    }
   ],
   "source": [
    "orang.berat()"
   ]
  },
  {
   "cell_type": "code",
   "execution_count": null,
   "id": "eca7fb3b",
   "metadata": {},
   "outputs": [],
   "source": []
  }
 ],
 "metadata": {
  "kernelspec": {
   "display_name": "Python 3 (ipykernel)",
   "language": "python",
   "name": "python3"
  },
  "language_info": {
   "codemirror_mode": {
    "name": "ipython",
    "version": 3
   },
   "file_extension": ".py",
   "mimetype": "text/x-python",
   "name": "python",
   "nbconvert_exporter": "python",
   "pygments_lexer": "ipython3",
   "version": "3.9.12"
  }
 },
 "nbformat": 4,
 "nbformat_minor": 5
}
