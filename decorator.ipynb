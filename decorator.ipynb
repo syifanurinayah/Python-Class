{
 "cells": [
  {
   "cell_type": "code",
   "execution_count": 1,
   "id": "ddde93cf",
   "metadata": {},
   "outputs": [],
   "source": [
    "def kurban():\n",
    "    print('Bentar lagi kurban bro!')"
   ]
  },
  {
   "cell_type": "code",
   "execution_count": 2,
   "id": "f04da00b",
   "metadata": {},
   "outputs": [],
   "source": [
    "coba = kurban"
   ]
  },
  {
   "cell_type": "code",
   "execution_count": 3,
   "id": "e22bdcc6",
   "metadata": {},
   "outputs": [
    {
     "name": "stdout",
     "output_type": "stream",
     "text": [
      "Bentar lagi kurban bro!\n"
     ]
    }
   ],
   "source": [
    "coba()"
   ]
  },
  {
   "cell_type": "code",
   "execution_count": 4,
   "id": "378583c6",
   "metadata": {},
   "outputs": [
    {
     "name": "stdout",
     "output_type": "stream",
     "text": [
      "Bentar lagi kurban bro!\n"
     ]
    }
   ],
   "source": [
    "kurban()"
   ]
  },
  {
   "cell_type": "code",
   "execution_count": 5,
   "id": "e81e022f",
   "metadata": {},
   "outputs": [],
   "source": [
    "del kurban"
   ]
  },
  {
   "cell_type": "code",
   "execution_count": 6,
   "id": "e0c07d3d",
   "metadata": {},
   "outputs": [
    {
     "ename": "NameError",
     "evalue": "name 'kurban' is not defined",
     "output_type": "error",
     "traceback": [
      "\u001b[1;31m---------------------------------------------------------------------------\u001b[0m",
      "\u001b[1;31mNameError\u001b[0m                                 Traceback (most recent call last)",
      "Input \u001b[1;32mIn [6]\u001b[0m, in \u001b[0;36m<cell line: 1>\u001b[1;34m()\u001b[0m\n\u001b[1;32m----> 1\u001b[0m \u001b[43mkurban\u001b[49m\n",
      "\u001b[1;31mNameError\u001b[0m: name 'kurban' is not defined"
     ]
    }
   ],
   "source": [
    "kurban"
   ]
  },
  {
   "cell_type": "code",
   "execution_count": 7,
   "id": "c8bdd5d6",
   "metadata": {},
   "outputs": [
    {
     "data": {
      "text/plain": [
       "<function __main__.kurban()>"
      ]
     },
     "execution_count": 7,
     "metadata": {},
     "output_type": "execute_result"
    }
   ],
   "source": [
    "coba"
   ]
  },
  {
   "cell_type": "code",
   "execution_count": 8,
   "id": "55a55aa6",
   "metadata": {},
   "outputs": [
    {
     "name": "stdout",
     "output_type": "stream",
     "text": [
      "Bentar lagi kurban bro!\n"
     ]
    }
   ],
   "source": [
    "coba()"
   ]
  },
  {
   "cell_type": "code",
   "execution_count": 10,
   "id": "0791956e",
   "metadata": {},
   "outputs": [],
   "source": [
    "def kurban2(bulan='dzulhijah'):\n",
    "    print('sudah siap kurban')\n",
    "    \n",
    "    def lokasi():\n",
    "        return '\\t Lokasi kurban ada di masjid terdekat'\n",
    "    \n",
    "    def konfirmasi():\n",
    "        return '\\n \\t ini  bukan bulan dzulhijah'\n",
    "      \n",
    "    print('ini perinta terakhir dari fungsi kurban')\n",
    "    \n",
    "    if bulan=='dzulhijah':\n",
    "        return lokasi\n",
    "    else:\n",
    "        return konfirmasi"
   ]
  },
  {
   "cell_type": "code",
   "execution_count": 11,
   "id": "7de28d98",
   "metadata": {},
   "outputs": [
    {
     "name": "stdout",
     "output_type": "stream",
     "text": [
      "sudah siap kurban\n",
      "ini perinta terakhir dari fungsi kurban\n"
     ]
    },
    {
     "data": {
      "text/plain": [
       "<function __main__.kurban2.<locals>.lokasi()>"
      ]
     },
     "execution_count": 11,
     "metadata": {},
     "output_type": "execute_result"
    }
   ],
   "source": [
    "kurban2()"
   ]
  },
  {
   "cell_type": "code",
   "execution_count": 14,
   "id": "6d28682f",
   "metadata": {},
   "outputs": [
    {
     "name": "stdout",
     "output_type": "stream",
     "text": [
      "sudah siap kurban\n",
      "ini perinta terakhir dari fungsi kurban\n"
     ]
    }
   ],
   "source": [
    "cek = kurban2('lokasi')"
   ]
  },
  {
   "cell_type": "code",
   "execution_count": 16,
   "id": "322cc988",
   "metadata": {},
   "outputs": [],
   "source": [
    "def salam():\n",
    "    return 'Assalamu\\'alaikum'"
   ]
  },
  {
   "cell_type": "code",
   "execution_count": 17,
   "id": "8388c515",
   "metadata": {},
   "outputs": [
    {
     "data": {
      "text/plain": [
       "\"Assalamu'alaikum\""
      ]
     },
     "execution_count": 17,
     "metadata": {},
     "output_type": "execute_result"
    }
   ],
   "source": [
    "salam()"
   ]
  },
  {
   "cell_type": "code",
   "execution_count": 18,
   "id": "d2601a1e",
   "metadata": {},
   "outputs": [],
   "source": [
    "def kabar(fungsi_lain):\n",
    "    print('saya menjalankan fungsi lain')\n",
    "    print(fungsi_lain)"
   ]
  },
  {
   "cell_type": "code",
   "execution_count": 28,
   "id": "0717c941",
   "metadata": {},
   "outputs": [],
   "source": [
    "def dekoratorku(fungsi):\n",
    "    def wrap_func():\n",
    "        print('saya adalah perintah pertama dari funsi lainnya')\n",
    "        fungsi()\n",
    "        print('saya adalah setelah fungsi aslinya')\n",
    "        print('😊😊😊')\n",
    "    return wrap_func            "
   ]
  },
  {
   "cell_type": "code",
   "execution_count": 29,
   "id": "5965c856",
   "metadata": {},
   "outputs": [],
   "source": [
    "@dekoratorku\n",
    "def salam():\n",
    "    print('Assalamualaikum')"
   ]
  },
  {
   "cell_type": "code",
   "execution_count": 30,
   "id": "6ab838b8",
   "metadata": {},
   "outputs": [
    {
     "name": "stdout",
     "output_type": "stream",
     "text": [
      "saya adalah perintah pertama dari funsi lainnya\n",
      "Assalamualaikum\n",
      "saya adalah setelah fungsi aslinya\n",
      "😊😊😊\n"
     ]
    }
   ],
   "source": [
    "salam()"
   ]
  },
  {
   "cell_type": "code",
   "execution_count": 31,
   "id": "8cdc0a6e",
   "metadata": {},
   "outputs": [],
   "source": [
    "# contoh decorator di website\n",
    "pengguna1 = {'nama': 'bambang',\n",
    "                'valid': True}"
   ]
  },
  {
   "cell_type": "code",
   "execution_count": 32,
   "id": "580e837e",
   "metadata": {},
   "outputs": [],
   "source": [
    "def otentikasi(fungsi):\n",
    "    def wrap_func(*args, **kwargs):\n",
    "        if args[0]['valid']:\n",
    "            return fungsi(*args, **kwargs)\n",
    "    return wrap_func"
   ]
  },
  {
   "cell_type": "code",
   "execution_count": 33,
   "id": "71cb97c5",
   "metadata": {},
   "outputs": [],
   "source": [
    "@otentikasi\n",
    "def kirim_pesan(user):\n",
    "    print('pesan telah berhasil di kirim')"
   ]
  },
  {
   "cell_type": "code",
   "execution_count": 34,
   "id": "dd507750",
   "metadata": {},
   "outputs": [
    {
     "name": "stdout",
     "output_type": "stream",
     "text": [
      "pesan telah berhasil di kirim\n"
     ]
    }
   ],
   "source": [
    "kirim_pesan(pengguna1)"
   ]
  },
  {
   "cell_type": "code",
   "execution_count": null,
   "id": "03994471",
   "metadata": {},
   "outputs": [],
   "source": []
  }
 ],
 "metadata": {
  "kernelspec": {
   "display_name": "Python 3 (ipykernel)",
   "language": "python",
   "name": "python3"
  },
  "language_info": {
   "codemirror_mode": {
    "name": "ipython",
    "version": 3
   },
   "file_extension": ".py",
   "mimetype": "text/x-python",
   "name": "python",
   "nbconvert_exporter": "python",
   "pygments_lexer": "ipython3",
   "version": "3.9.12"
  }
 },
 "nbformat": 4,
 "nbformat_minor": 5
}
