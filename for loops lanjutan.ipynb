{
 "cells": [
  {
   "cell_type": "code",
   "execution_count": 2,
   "id": "2590b5ef",
   "metadata": {},
   "outputs": [],
   "source": [
    "box1 = ((1,2),(3,4),(5,6))"
   ]
  },
  {
   "cell_type": "code",
   "execution_count": 3,
   "id": "425369d4",
   "metadata": {},
   "outputs": [
    {
     "name": "stdout",
     "output_type": "stream",
     "text": [
      "(1, 2)\n",
      "(3, 4)\n",
      "(5, 6)\n"
     ]
    }
   ],
   "source": [
    "for item in box1:\n",
    "    print(item)"
   ]
  },
  {
   "cell_type": "code",
   "execution_count": 4,
   "id": "ca633735",
   "metadata": {},
   "outputs": [
    {
     "name": "stdout",
     "output_type": "stream",
     "text": [
      "1 2\n",
      "3 4\n",
      "5 6\n"
     ]
    }
   ],
   "source": [
    "for a,b in box1:\n",
    "    print(a,b)"
   ]
  },
  {
   "cell_type": "code",
   "execution_count": 5,
   "id": "0e10a94e",
   "metadata": {},
   "outputs": [],
   "source": [
    "box2 = [[1,2],[3,4],[5,6]]"
   ]
  },
  {
   "cell_type": "code",
   "execution_count": 6,
   "id": "9f7abd41",
   "metadata": {},
   "outputs": [
    {
     "name": "stdout",
     "output_type": "stream",
     "text": [
      "1 2\n",
      "3 4\n",
      "5 6\n"
     ]
    }
   ],
   "source": [
    "for a,b in box2:\n",
    "    print(a,b)"
   ]
  },
  {
   "cell_type": "code",
   "execution_count": 7,
   "id": "212609f8",
   "metadata": {},
   "outputs": [
    {
     "name": "stdout",
     "output_type": "stream",
     "text": [
      "saya belajar python\n",
      "saya belajar python\n",
      "saya belajar python\n",
      "saya belajar python\n",
      "saya belajar python\n",
      "saya belajar python\n",
      "saya belajar python\n",
      "saya belajar python\n",
      "saya belajar python\n",
      "saya belajar python\n"
     ]
    }
   ],
   "source": [
    "indeks = 0\n",
    "while True:\n",
    "    print('saya belajar python')\n",
    "    indeks += 1\n",
    "    if indeks == 10:\n",
    "        break"
   ]
  },
  {
   "cell_type": "code",
   "execution_count": 8,
   "id": "4f9d5ed6",
   "metadata": {},
   "outputs": [],
   "source": [
    "x = 0"
   ]
  },
  {
   "cell_type": "code",
   "execution_count": 9,
   "id": "9c1f2d46",
   "metadata": {},
   "outputs": [
    {
     "name": "stdout",
     "output_type": "stream",
     "text": [
      "bilangan x saat ini adalah 0\n",
      "bilangan x saat ini adalah 2\n",
      "bilangan x saat ini adalah 4\n",
      "bilangan x saat ini adalah 6\n",
      "bilangan x saat ini adalah 8\n",
      "bilangan x saat ini adalah 10\n",
      "bilangan x saat ini adalah 12\n",
      "bilangan x saat ini adalah 14\n",
      "bilangan x saat ini adalah 16\n",
      "bilangan x saat ini adalah 18\n"
     ]
    }
   ],
   "source": [
    "while x < 20:\n",
    "    print('bilangan x saat ini adalah',x)\n",
    "    x += 2"
   ]
  },
  {
   "cell_type": "code",
   "execution_count": 10,
   "id": "6d590f8d",
   "metadata": {},
   "outputs": [],
   "source": [
    "angka = [1,2,3,4,5,6,7,8,9,10]"
   ]
  },
  {
   "cell_type": "code",
   "execution_count": 13,
   "id": "6dd8c3f1",
   "metadata": {},
   "outputs": [
    {
     "name": "stdout",
     "output_type": "stream",
     "text": [
      "anda berada di= 2\n",
      "anda berada di= 4\n",
      "anda berada di= 6\n",
      "anda berada di= 8\n",
      "anda berada di= 10\n"
     ]
    }
   ],
   "source": [
    "for item in angka:\n",
    "    if (item%2 == 1):\n",
    "        continue\n",
    "    else:\n",
    "        print('anda berada di=',item)"
   ]
  },
  {
   "cell_type": "code",
   "execution_count": null,
   "id": "36ea411a",
   "metadata": {},
   "outputs": [],
   "source": []
  }
 ],
 "metadata": {
  "kernelspec": {
   "display_name": "Python 3 (ipykernel)",
   "language": "python",
   "name": "python3"
  },
  "language_info": {
   "codemirror_mode": {
    "name": "ipython",
    "version": 3
   },
   "file_extension": ".py",
   "mimetype": "text/x-python",
   "name": "python",
   "nbconvert_exporter": "python",
   "pygments_lexer": "ipython3",
   "version": "3.9.12"
  }
 },
 "nbformat": 4,
 "nbformat_minor": 5
}
