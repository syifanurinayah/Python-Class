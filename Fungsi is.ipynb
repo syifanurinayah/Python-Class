{
 "cells": [
  {
   "cell_type": "code",
   "execution_count": 1,
   "id": "25676f20",
   "metadata": {},
   "outputs": [
    {
     "name": "stdout",
     "output_type": "stream",
     "text": [
      "1 . True\n",
      "2 . False\n",
      "3 . False\n",
      "4 . True\n",
      "5 . True\n",
      "6 . True\n"
     ]
    }
   ],
   "source": [
    "print('1 .', True == 1)\n",
    "print('2 .', '' == 0)\n",
    "print('3 .', [] == False)\n",
    "print('4 .', 23 == 23.0)\n",
    "print('5 .', [] == [])\n",
    "print('6 .', () == ())"
   ]
  },
  {
   "cell_type": "code",
   "execution_count": 4,
   "id": "7c028073",
   "metadata": {},
   "outputs": [
    {
     "name": "stdout",
     "output_type": "stream",
     "text": [
      "1 . False\n",
      "2 . False\n",
      "3 . False\n",
      "4 . False\n",
      "5 . False\n",
      "6 . True\n"
     ]
    },
    {
     "name": "stderr",
     "output_type": "stream",
     "text": [
      "<>:1: SyntaxWarning: \"is\" with a literal. Did you mean \"==\"?\n",
      "<>:2: SyntaxWarning: \"is\" with a literal. Did you mean \"==\"?\n",
      "<>:4: SyntaxWarning: \"is\" with a literal. Did you mean \"==\"?\n",
      "<>:6: SyntaxWarning: \"is\" with a literal. Did you mean \"==\"?\n",
      "<>:1: SyntaxWarning: \"is\" with a literal. Did you mean \"==\"?\n",
      "<>:2: SyntaxWarning: \"is\" with a literal. Did you mean \"==\"?\n",
      "<>:4: SyntaxWarning: \"is\" with a literal. Did you mean \"==\"?\n",
      "<>:6: SyntaxWarning: \"is\" with a literal. Did you mean \"==\"?\n",
      "C:\\Users\\elsyanu\\AppData\\Local\\Temp\\ipykernel_15592\\1976391488.py:1: SyntaxWarning: \"is\" with a literal. Did you mean \"==\"?\n",
      "  print('1 .', True is 1)\n",
      "C:\\Users\\elsyanu\\AppData\\Local\\Temp\\ipykernel_15592\\1976391488.py:2: SyntaxWarning: \"is\" with a literal. Did you mean \"==\"?\n",
      "  print('2 .', 'a' is 0)\n",
      "C:\\Users\\elsyanu\\AppData\\Local\\Temp\\ipykernel_15592\\1976391488.py:4: SyntaxWarning: \"is\" with a literal. Did you mean \"==\"?\n",
      "  print('4 .', 23 is 23.0)\n",
      "C:\\Users\\elsyanu\\AppData\\Local\\Temp\\ipykernel_15592\\1976391488.py:6: SyntaxWarning: \"is\" with a literal. Did you mean \"==\"?\n",
      "  print('6 .', (1,2) is (1,2))\n"
     ]
    }
   ],
   "source": [
    "print('1 .', True is 1)\n",
    "print('2 .', 'a' is 0)\n",
    "print('3 .', [] is False)\n",
    "print('4 .', 23 is 23.0)\n",
    "print('5 .', [1,3,5] is [1,3,5])\n",
    "print('6 .', (1,2) is (1,2))"
   ]
  },
  {
   "cell_type": "markdown",
   "id": "090eed38",
   "metadata": {},
   "source": [
    "# == membandingkan nilai\n",
    "# is membandingkan memory"
   ]
  },
  {
   "cell_type": "code",
   "execution_count": null,
   "id": "481c8062",
   "metadata": {},
   "outputs": [],
   "source": []
  }
 ],
 "metadata": {
  "kernelspec": {
   "display_name": "Python 3 (ipykernel)",
   "language": "python",
   "name": "python3"
  },
  "language_info": {
   "codemirror_mode": {
    "name": "ipython",
    "version": 3
   },
   "file_extension": ".py",
   "mimetype": "text/x-python",
   "name": "python",
   "nbconvert_exporter": "python",
   "pygments_lexer": "ipython3",
   "version": "3.9.12"
  }
 },
 "nbformat": 4,
 "nbformat_minor": 5
}
