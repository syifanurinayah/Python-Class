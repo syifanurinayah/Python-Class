{
 "cells": [
  {
   "cell_type": "code",
   "execution_count": 1,
   "id": "2d4df622",
   "metadata": {},
   "outputs": [],
   "source": [
    "import numpy as np"
   ]
  },
  {
   "cell_type": "code",
   "execution_count": 2,
   "id": "6832fab4",
   "metadata": {},
   "outputs": [],
   "source": [
    "# diferences -> yt = x(t+1) - xt\n",
    "x =[1,5,8,10]"
   ]
  },
  {
   "cell_type": "code",
   "execution_count": 3,
   "id": "a329fb01",
   "metadata": {},
   "outputs": [
    {
     "data": {
      "text/plain": [
       "4"
      ]
     },
     "execution_count": 3,
     "metadata": {},
     "output_type": "execute_result"
    }
   ],
   "source": [
    "x[1]-x[0]"
   ]
  },
  {
   "cell_type": "code",
   "execution_count": 4,
   "id": "28fed493",
   "metadata": {},
   "outputs": [
    {
     "data": {
      "text/plain": [
       "3"
      ]
     },
     "execution_count": 4,
     "metadata": {},
     "output_type": "execute_result"
    }
   ],
   "source": [
    "x[2]-x[1]"
   ]
  },
  {
   "cell_type": "code",
   "execution_count": 5,
   "id": "27feaf19",
   "metadata": {},
   "outputs": [
    {
     "data": {
      "text/plain": [
       "array([4, 3, 2])"
      ]
     },
     "execution_count": 5,
     "metadata": {},
     "output_type": "execute_result"
    }
   ],
   "source": [
    "np.diff(x) # method diferences numpy"
   ]
  },
  {
   "cell_type": "code",
   "execution_count": 8,
   "id": "9d40fb4b",
   "metadata": {},
   "outputs": [
    {
     "data": {
      "text/plain": [
       "array([1, 2, 3, 4, 5, 6, 7, 8, 9])"
      ]
     },
     "execution_count": 8,
     "metadata": {},
     "output_type": "execute_result"
    }
   ],
   "source": [
    "baru = np.arange(1,10)\n",
    "baru"
   ]
  },
  {
   "cell_type": "code",
   "execution_count": 7,
   "id": "c72ef830",
   "metadata": {},
   "outputs": [
    {
     "data": {
      "text/plain": [
       "array([1, 1, 1, 1, 1, 1, 1, 1])"
      ]
     },
     "execution_count": 7,
     "metadata": {},
     "output_type": "execute_result"
    }
   ],
   "source": [
    "np.diff(baru)"
   ]
  },
  {
   "cell_type": "code",
   "execution_count": 9,
   "id": "ae0e7f9a",
   "metadata": {},
   "outputs": [
    {
     "data": {
      "text/plain": [
       "array([0, 0, 0, 0, 0, 0, 0])"
      ]
     },
     "execution_count": 9,
     "metadata": {},
     "output_type": "execute_result"
    }
   ],
   "source": [
    "np.diff(baru, 2)"
   ]
  },
  {
   "cell_type": "code",
   "execution_count": 11,
   "id": "1039c712",
   "metadata": {},
   "outputs": [],
   "source": [
    "import matplotlib.pyplot as plt"
   ]
  },
  {
   "cell_type": "code",
   "execution_count": 12,
   "id": "b9d69ef9",
   "metadata": {},
   "outputs": [],
   "source": [
    "'''\n",
    "f(x) = x**2 + 1\n",
    "d(f(x)) = 2x\n",
    "slope = turunan = perubahan f(x)/perubahan x = diff(f(x))/diff(x)\n",
    "'''\n",
    "\n",
    "x = np.linspace(-2,5,200)\n",
    "f = x**2+1\n",
    "dx = np.diff(x)\n",
    "df = np.diff(f)"
   ]
  },
  {
   "cell_type": "code",
   "execution_count": 19,
   "id": "c74d44e8",
   "metadata": {},
   "outputs": [
    {
     "data": {
      "image/png": "[encoded data removed]",
      "text/plain": [
       "<Figure size 432x288 with 1 Axes>"
      ]
     },
     "metadata": {
      "needs_background": "light"
     },
     "output_type": "display_data"
    }
   ],
   "source": [
    "plt.plot(x,f, label='f')\n",
    "plt.plot(x[:-1], df/dx, label='df/dx')\n",
    "plt.grid()\n",
    "plt.legend()\n",
    "\n",
    "plt.show()"
   ]
  },
  {
   "cell_type": "code",
   "execution_count": null,
   "id": "d6c093ae",
   "metadata": {},
   "outputs": [],
   "source": []
  }
 ],
 "metadata": {
  "kernelspec": {
   "display_name": "Python 3 (ipykernel)",
   "language": "python",
   "name": "python3"
  },
  "language_info": {
   "codemirror_mode": {
    "name": "ipython",
    "version": 3
   },
   "file_extension": ".py",
   "mimetype": "text/x-python",
   "name": "python",
   "nbconvert_exporter": "python",
   "pygments_lexer": "ipython3",
   "version": "3.9.12"
  }
 },
 "nbformat": 4,
 "nbformat_minor": 5
}
