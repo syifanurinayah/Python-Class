{
 "cells": [
  {
   "cell_type": "code",
   "execution_count": 1,
   "id": "c63b2a0d",
   "metadata": {},
   "outputs": [],
   "source": [
    "keranjang = [1,2.5,'nanas']"
   ]
  },
  {
   "cell_type": "code",
   "execution_count": 2,
   "id": "846afc63",
   "metadata": {},
   "outputs": [
    {
     "data": {
      "text/plain": [
       "3"
      ]
     },
     "execution_count": 2,
     "metadata": {},
     "output_type": "execute_result"
    }
   ],
   "source": [
    "len(keranjang)"
   ]
  },
  {
   "cell_type": "code",
   "execution_count": 3,
   "id": "27d32aee",
   "metadata": {},
   "outputs": [
    {
     "name": "stdout",
     "output_type": "stream",
     "text": [
      "1\n",
      "2.5\n",
      "nanas\n"
     ]
    }
   ],
   "source": [
    "for i in range(len(keranjang)):\n",
    "    print(keranjang[i])"
   ]
  },
  {
   "cell_type": "code",
   "execution_count": 4,
   "id": "f6097368",
   "metadata": {},
   "outputs": [],
   "source": [
    "keranjang[1] = 'anggur'"
   ]
  },
  {
   "cell_type": "code",
   "execution_count": 5,
   "id": "b2406d23",
   "metadata": {},
   "outputs": [
    {
     "data": {
      "text/plain": [
       "[1, 'anggur', 'nanas']"
      ]
     },
     "execution_count": 5,
     "metadata": {},
     "output_type": "execute_result"
    }
   ],
   "source": [
    "keranjang"
   ]
  },
  {
   "cell_type": "code",
   "execution_count": 6,
   "id": "4e64abbc",
   "metadata": {},
   "outputs": [],
   "source": [
    "keranjang.append('bayam')"
   ]
  },
  {
   "cell_type": "code",
   "execution_count": 7,
   "id": "de0157ba",
   "metadata": {},
   "outputs": [
    {
     "data": {
      "text/plain": [
       "[1, 'anggur', 'nanas', 'bayam']"
      ]
     },
     "execution_count": 7,
     "metadata": {},
     "output_type": "execute_result"
    }
   ],
   "source": [
    "keranjang"
   ]
  },
  {
   "cell_type": "markdown",
   "id": "68160eb1",
   "metadata": {},
   "source": [
    "method append hanya bisa di gunakan untuk mengisi satu list saja\n",
    "jika ingin menambahkan data di list lebih dari satu maka harus secara manual"
   ]
  },
  {
   "cell_type": "code",
   "execution_count": 8,
   "id": "c94f5d8d",
   "metadata": {},
   "outputs": [],
   "source": [
    "keranjang_lagi = ['ayam','bebek','durian']"
   ]
  },
  {
   "cell_type": "code",
   "execution_count": 9,
   "id": "5b714ba6",
   "metadata": {},
   "outputs": [],
   "source": [
    "keranjang = keranjang + keranjang_lagi"
   ]
  },
  {
   "cell_type": "code",
   "execution_count": 10,
   "id": "41447796",
   "metadata": {},
   "outputs": [
    {
     "data": {
      "text/plain": [
       "[1, 'anggur', 'nanas', 'bayam', 'ayam', 'bebek', 'durian']"
      ]
     },
     "execution_count": 10,
     "metadata": {},
     "output_type": "execute_result"
    }
   ],
   "source": [
    "keranjang"
   ]
  },
  {
   "cell_type": "code",
   "execution_count": 11,
   "id": "274d5404",
   "metadata": {},
   "outputs": [
    {
     "data": {
      "text/plain": [
       "7"
      ]
     },
     "execution_count": 11,
     "metadata": {},
     "output_type": "execute_result"
    }
   ],
   "source": [
    "len(keranjang)"
   ]
  },
  {
   "cell_type": "code",
   "execution_count": 12,
   "id": "8666e981",
   "metadata": {},
   "outputs": [],
   "source": [
    "keranjang.append(keranjang_lagi)"
   ]
  },
  {
   "cell_type": "code",
   "execution_count": 13,
   "id": "63c7fe1c",
   "metadata": {},
   "outputs": [
    {
     "data": {
      "text/plain": [
       "[1,\n",
       " 'anggur',\n",
       " 'nanas',\n",
       " 'bayam',\n",
       " 'ayam',\n",
       " 'bebek',\n",
       " 'durian',\n",
       " ['ayam', 'bebek', 'durian']]"
      ]
     },
     "execution_count": 13,
     "metadata": {},
     "output_type": "execute_result"
    }
   ],
   "source": [
    "keranjang"
   ]
  },
  {
   "cell_type": "markdown",
   "id": "39977c10",
   "metadata": {},
   "source": [
    "# Menghapus item"
   ]
  },
  {
   "cell_type": "code",
   "execution_count": 14,
   "id": "a10ed9d2",
   "metadata": {},
   "outputs": [],
   "source": [
    "baru = [1,2,3,4,5,6,7,8]"
   ]
  },
  {
   "cell_type": "code",
   "execution_count": 15,
   "id": "5db1e05d",
   "metadata": {},
   "outputs": [
    {
     "data": {
      "text/plain": [
       "8"
      ]
     },
     "execution_count": 15,
     "metadata": {},
     "output_type": "execute_result"
    }
   ],
   "source": [
    "baru.pop()"
   ]
  },
  {
   "cell_type": "code",
   "execution_count": 16,
   "id": "e7ce7386",
   "metadata": {},
   "outputs": [
    {
     "data": {
      "text/plain": [
       "[1, 2, 3, 4, 5, 6, 7]"
      ]
     },
     "execution_count": 16,
     "metadata": {},
     "output_type": "execute_result"
    }
   ],
   "source": [
    "baru"
   ]
  },
  {
   "cell_type": "code",
   "execution_count": 17,
   "id": "6cef510a",
   "metadata": {},
   "outputs": [],
   "source": [
    "baru_lagi = baru.pop(3)"
   ]
  },
  {
   "cell_type": "code",
   "execution_count": 18,
   "id": "f3468cb7",
   "metadata": {},
   "outputs": [
    {
     "data": {
      "text/plain": [
       "4"
      ]
     },
     "execution_count": 18,
     "metadata": {},
     "output_type": "execute_result"
    }
   ],
   "source": [
    "baru_lagi"
   ]
  },
  {
   "cell_type": "code",
   "execution_count": 19,
   "id": "104d7c2e",
   "metadata": {},
   "outputs": [
    {
     "data": {
      "text/plain": [
       "4"
      ]
     },
     "execution_count": 19,
     "metadata": {},
     "output_type": "execute_result"
    }
   ],
   "source": [
    "baru_lagi"
   ]
  },
  {
   "cell_type": "code",
   "execution_count": 20,
   "id": "8ec84c53",
   "metadata": {},
   "outputs": [
    {
     "data": {
      "text/plain": [
       "[1, 2, 3, 5, 6, 7]"
      ]
     },
     "execution_count": 20,
     "metadata": {},
     "output_type": "execute_result"
    }
   ],
   "source": [
    "baru"
   ]
  },
  {
   "cell_type": "markdown",
   "id": "e4e57b8d",
   "metadata": {},
   "source": [
    "# method mengurutkan sebuah list"
   ]
  },
  {
   "cell_type": "code",
   "execution_count": 21,
   "id": "17c91efe",
   "metadata": {},
   "outputs": [],
   "source": [
    "variabel = [10.4,3,8,5,7,30,35,67,80]"
   ]
  },
  {
   "cell_type": "code",
   "execution_count": 22,
   "id": "6f9d96ae",
   "metadata": {},
   "outputs": [
    {
     "data": {
      "text/plain": [
       "[10.4, 3, 8, 5, 7, 30, 35, 67, 80]"
      ]
     },
     "execution_count": 22,
     "metadata": {},
     "output_type": "execute_result"
    }
   ],
   "source": [
    "variabel"
   ]
  },
  {
   "cell_type": "code",
   "execution_count": 23,
   "id": "a68c5dad",
   "metadata": {},
   "outputs": [],
   "source": [
    "variabel.sort()"
   ]
  },
  {
   "cell_type": "code",
   "execution_count": 24,
   "id": "c21d14ff",
   "metadata": {},
   "outputs": [
    {
     "data": {
      "text/plain": [
       "[3, 5, 7, 8, 10.4, 30, 35, 67, 80]"
      ]
     },
     "execution_count": 24,
     "metadata": {},
     "output_type": "execute_result"
    }
   ],
   "source": [
    "variabel"
   ]
  },
  {
   "cell_type": "code",
   "execution_count": 25,
   "id": "05c90266",
   "metadata": {},
   "outputs": [],
   "source": [
    "variable_baru = variabel"
   ]
  },
  {
   "cell_type": "code",
   "execution_count": 26,
   "id": "54d6f57e",
   "metadata": {},
   "outputs": [
    {
     "data": {
      "text/plain": [
       "[3, 5, 7, 8, 10.4, 30, 35, 67, 80]"
      ]
     },
     "execution_count": 26,
     "metadata": {},
     "output_type": "execute_result"
    }
   ],
   "source": [
    "variable_baru"
   ]
  },
  {
   "cell_type": "code",
   "execution_count": 27,
   "id": "1cec5083",
   "metadata": {},
   "outputs": [
    {
     "data": {
      "text/plain": [
       "list"
      ]
     },
     "execution_count": 27,
     "metadata": {},
     "output_type": "execute_result"
    }
   ],
   "source": [
    "type(variable_baru)"
   ]
  },
  {
   "cell_type": "code",
   "execution_count": 28,
   "id": "d7550598",
   "metadata": {},
   "outputs": [],
   "source": [
    "var_baru = ['a','c','f','h','t']"
   ]
  },
  {
   "cell_type": "code",
   "execution_count": 29,
   "id": "3d7eaf96",
   "metadata": {},
   "outputs": [],
   "source": [
    "var_baru.sort()"
   ]
  },
  {
   "cell_type": "code",
   "execution_count": 30,
   "id": "8976e448",
   "metadata": {},
   "outputs": [
    {
     "data": {
      "text/plain": [
       "['a', 'c', 'f', 'h', 't']"
      ]
     },
     "execution_count": 30,
     "metadata": {},
     "output_type": "execute_result"
    }
   ],
   "source": [
    "var_baru"
   ]
  },
  {
   "cell_type": "code",
   "execution_count": 31,
   "id": "d756f9da",
   "metadata": {},
   "outputs": [],
   "source": [
    "var_baru.reverse()"
   ]
  },
  {
   "cell_type": "code",
   "execution_count": 32,
   "id": "7b9e9461",
   "metadata": {},
   "outputs": [
    {
     "data": {
      "text/plain": [
       "['t', 'h', 'f', 'c', 'a']"
      ]
     },
     "execution_count": 32,
     "metadata": {},
     "output_type": "execute_result"
    }
   ],
   "source": [
    "var_baru"
   ]
  },
  {
   "cell_type": "markdown",
   "id": "02b65a3f",
   "metadata": {},
   "source": [
    "# nested list (didalam list ada sebuah list)"
   ]
  },
  {
   "cell_type": "code",
   "execution_count": 33,
   "id": "18c47e95",
   "metadata": {},
   "outputs": [],
   "source": [
    "\n",
    "isi = [1,2,3,4,5,[6,7,8,9,10]]"
   ]
  },
  {
   "cell_type": "code",
   "execution_count": 34,
   "id": "7635aad5",
   "metadata": {},
   "outputs": [
    {
     "data": {
      "text/plain": [
       "[1, 2, 3, 4, 5, [6, 7, 8, 9, 10]]"
      ]
     },
     "execution_count": 34,
     "metadata": {},
     "output_type": "execute_result"
    }
   ],
   "source": [
    "isi"
   ]
  },
  {
   "cell_type": "code",
   "execution_count": 35,
   "id": "13a6c971",
   "metadata": {},
   "outputs": [
    {
     "data": {
      "text/plain": [
       "3"
      ]
     },
     "execution_count": 35,
     "metadata": {},
     "output_type": "execute_result"
    }
   ],
   "source": [
    "isi[2]"
   ]
  },
  {
   "cell_type": "code",
   "execution_count": 36,
   "id": "a9142471",
   "metadata": {},
   "outputs": [
    {
     "data": {
      "text/plain": [
       "[3, 4, 5, [6, 7, 8, 9, 10]]"
      ]
     },
     "execution_count": 36,
     "metadata": {},
     "output_type": "execute_result"
    }
   ],
   "source": [
    "isi[2:]"
   ]
  },
  {
   "cell_type": "code",
   "execution_count": 37,
   "id": "7a59a825",
   "metadata": {},
   "outputs": [
    {
     "data": {
      "text/plain": [
       "[6, 7, 8, 9, 10]"
      ]
     },
     "execution_count": 37,
     "metadata": {},
     "output_type": "execute_result"
    }
   ],
   "source": [
    "isi[5]"
   ]
  },
  {
   "cell_type": "code",
   "execution_count": 38,
   "id": "4ff5efa7",
   "metadata": {},
   "outputs": [
    {
     "data": {
      "text/plain": [
       "10"
      ]
     },
     "execution_count": 38,
     "metadata": {},
     "output_type": "execute_result"
    }
   ],
   "source": [
    "isi[5][4]"
   ]
  },
  {
   "cell_type": "code",
   "execution_count": 39,
   "id": "9ba128d8",
   "metadata": {},
   "outputs": [],
   "source": [
    "isi2 = [1,2,3,4,5,6,7,[8,9,10,11,['apel',13]]]"
   ]
  },
  {
   "cell_type": "code",
   "execution_count": 40,
   "id": "f39223ab",
   "metadata": {},
   "outputs": [
    {
     "data": {
      "text/plain": [
       "[1, 2, 3, 4, 5, 6, 7, [8, 9, 10, 11, ['apel', 13]]]"
      ]
     },
     "execution_count": 40,
     "metadata": {},
     "output_type": "execute_result"
    }
   ],
   "source": [
    "isi2"
   ]
  },
  {
   "cell_type": "code",
   "execution_count": 41,
   "id": "1267a170",
   "metadata": {},
   "outputs": [
    {
     "data": {
      "text/plain": [
       "'apel'"
      ]
     },
     "execution_count": 41,
     "metadata": {},
     "output_type": "execute_result"
    }
   ],
   "source": [
    "isi2[7][4][0]"
   ]
  },
  {
   "cell_type": "markdown",
   "id": "32f74f50",
   "metadata": {},
   "source": [
    "# lebih dalam mengenal list"
   ]
  },
  {
   "cell_type": "code",
   "execution_count": 42,
   "id": "cae783c1",
   "metadata": {},
   "outputs": [],
   "source": [
    "contoh_list = list()"
   ]
  },
  {
   "cell_type": "code",
   "execution_count": 43,
   "id": "3d652081",
   "metadata": {},
   "outputs": [
    {
     "data": {
      "text/plain": [
       "list"
      ]
     },
     "execution_count": 43,
     "metadata": {},
     "output_type": "execute_result"
    }
   ],
   "source": [
    "type(contoh_list)"
   ]
  },
  {
   "cell_type": "code",
   "execution_count": 44,
   "id": "c73edc17",
   "metadata": {},
   "outputs": [],
   "source": [
    "contoh_list1 = []"
   ]
  },
  {
   "cell_type": "code",
   "execution_count": 45,
   "id": "1f493db1",
   "metadata": {},
   "outputs": [
    {
     "data": {
      "text/plain": [
       "list"
      ]
     },
     "execution_count": 45,
     "metadata": {},
     "output_type": "execute_result"
    }
   ],
   "source": [
    "type(contoh_list1)"
   ]
  },
  {
   "cell_type": "code",
   "execution_count": 46,
   "id": "032da311",
   "metadata": {},
   "outputs": [
    {
     "ename": "SyntaxError",
     "evalue": "invalid syntax (2210541334.py, line 1)",
     "output_type": "error",
     "traceback": [
      "\u001b[1;36m  Input \u001b[1;32mIn [46]\u001b[1;36m\u001b[0m\n\u001b[1;33m    if contoh_list != contoh_list1\u001b[0m\n\u001b[1;37m                                  ^\u001b[0m\n\u001b[1;31mSyntaxError\u001b[0m\u001b[1;31m:\u001b[0m invalid syntax\n"
     ]
    }
   ],
   "source": [
    "if contoh_list != contoh_list1\n",
    "print()"
   ]
  },
  {
   "cell_type": "code",
   "execution_count": 49,
   "id": "064a95e9",
   "metadata": {},
   "outputs": [
    {
     "ename": "IndentationError",
     "evalue": "expected an indented block (2074251752.py, line 2)",
     "output_type": "error",
     "traceback": [
      "\u001b[1;36m  Input \u001b[1;32mIn [49]\u001b[1;36m\u001b[0m\n\u001b[1;33m    print('versi sama')\u001b[0m\n\u001b[1;37m    ^\u001b[0m\n\u001b[1;31mIndentationError\u001b[0m\u001b[1;31m:\u001b[0m expected an indented block\n"
     ]
    }
   ],
   "source": [
    "if contoh_list == contoh_list1:\n",
    "print('versi sama')"
   ]
  },
  {
   "cell_type": "code",
   "execution_count": 50,
   "id": "7d5b9758",
   "metadata": {},
   "outputs": [
    {
     "ename": "IndentationError",
     "evalue": "expected an indented block (2074251752.py, line 2)",
     "output_type": "error",
     "traceback": [
      "\u001b[1;36m  Input \u001b[1;32mIn [50]\u001b[1;36m\u001b[0m\n\u001b[1;33m    print('versi sama')\u001b[0m\n\u001b[1;37m    ^\u001b[0m\n\u001b[1;31mIndentationError\u001b[0m\u001b[1;31m:\u001b[0m expected an indented block\n"
     ]
    }
   ],
   "source": [
    "if contoh_list == contoh_list1:\n",
    "print('versi sama')"
   ]
  },
  {
   "cell_type": "code",
   "execution_count": 52,
   "id": "c3acfb9a",
   "metadata": {},
   "outputs": [],
   "source": [
    "list_bau = list('saya lagi belajar python')"
   ]
  },
  {
   "cell_type": "code",
   "execution_count": 53,
   "id": "0a514a2a",
   "metadata": {},
   "outputs": [
    {
     "data": {
      "text/plain": [
       "['s',\n",
       " 'a',\n",
       " 'y',\n",
       " 'a',\n",
       " ' ',\n",
       " 'l',\n",
       " 'a',\n",
       " 'g',\n",
       " 'i',\n",
       " ' ',\n",
       " 'b',\n",
       " 'e',\n",
       " 'l',\n",
       " 'a',\n",
       " 'j',\n",
       " 'a',\n",
       " 'r',\n",
       " ' ',\n",
       " 'p',\n",
       " 'y',\n",
       " 't',\n",
       " 'h',\n",
       " 'o',\n",
       " 'n']"
      ]
     },
     "execution_count": 53,
     "metadata": {},
     "output_type": "execute_result"
    }
   ],
   "source": [
    "list_bau"
   ]
  },
  {
   "cell_type": "code",
   "execution_count": 54,
   "id": "31b39c36",
   "metadata": {},
   "outputs": [],
   "source": [
    "ganjil = [1,3,5,7,9,11,13,15]"
   ]
  },
  {
   "cell_type": "code",
   "execution_count": 55,
   "id": "36681be4",
   "metadata": {},
   "outputs": [],
   "source": [
    "genap = [2,4,6,8,10,12,14]"
   ]
  },
  {
   "cell_type": "code",
   "execution_count": 56,
   "id": "4a98a145",
   "metadata": {},
   "outputs": [],
   "source": [
    "angka = ganjil + genap"
   ]
  },
  {
   "cell_type": "code",
   "execution_count": 57,
   "id": "fb5041f0",
   "metadata": {},
   "outputs": [
    {
     "data": {
      "text/plain": [
       "[1, 3, 5, 7, 9, 11, 13, 15, 2, 4, 6, 8, 10, 12, 14]"
      ]
     },
     "execution_count": 57,
     "metadata": {},
     "output_type": "execute_result"
    }
   ],
   "source": [
    "angka"
   ]
  },
  {
   "cell_type": "code",
   "execution_count": 58,
   "id": "6067ece7",
   "metadata": {},
   "outputs": [],
   "source": [
    "bilangan = [ganjil,genap]"
   ]
  },
  {
   "cell_type": "code",
   "execution_count": 59,
   "id": "f7062e75",
   "metadata": {},
   "outputs": [
    {
     "data": {
      "text/plain": [
       "[[1, 3, 5, 7, 9, 11, 13, 15], [2, 4, 6, 8, 10, 12, 14]]"
      ]
     },
     "execution_count": 59,
     "metadata": {},
     "output_type": "execute_result"
    }
   ],
   "source": [
    "bilangan"
   ]
  },
  {
   "cell_type": "code",
   "execution_count": 60,
   "id": "0d13a922",
   "metadata": {},
   "outputs": [
    {
     "ename": "TypeError",
     "evalue": "'list' object cannot be interpreted as an integer",
     "output_type": "error",
     "traceback": [
      "\u001b[1;31m---------------------------------------------------------------------------\u001b[0m",
      "\u001b[1;31mTypeError\u001b[0m                                 Traceback (most recent call last)",
      "Input \u001b[1;32mIn [60]\u001b[0m, in \u001b[0;36m<cell line: 1>\u001b[1;34m()\u001b[0m\n\u001b[1;32m----> 1\u001b[0m \u001b[38;5;28;01mfor\u001b[39;00m i \u001b[38;5;129;01min\u001b[39;00m \u001b[38;5;28;43mrange\u001b[39;49m\u001b[43m(\u001b[49m\u001b[43mbilangan\u001b[49m\u001b[43m)\u001b[49m:\n\u001b[0;32m      2\u001b[0m     \u001b[38;5;28mprint\u001b[39m(i)\n\u001b[0;32m      4\u001b[0m     \u001b[38;5;28;01mfor\u001b[39;00m x \u001b[38;5;129;01min\u001b[39;00m \u001b[38;5;28mrange\u001b[39m(i):\n",
      "\u001b[1;31mTypeError\u001b[0m: 'list' object cannot be interpreted as an integer"
     ]
    }
   ],
   "source": [
    "for i in range(bilangan):\n",
    "    print(i)\n",
    "    \n",
    "    for x in range(i):\n",
    "        print(x)"
   ]
  },
  {
   "cell_type": "code",
   "execution_count": null,
   "id": "68376c7a",
   "metadata": {},
   "outputs": [],
   "source": [
    "for i in bilangan:\n",
    "    print(i)\n",
    "    \n",
    "    for x in range(i):\n",
    "        print(x)"
   ]
  }
 ],
 "metadata": {
  "kernelspec": {
   "display_name": "Python 3 (ipykernel)",
   "language": "python",
   "name": "python3"
  },
  "language_info": {
   "codemirror_mode": {
    "name": "ipython",
    "version": 3
   },
   "file_extension": ".py",
   "mimetype": "text/x-python",
   "name": "python",
   "nbconvert_exporter": "python",
   "pygments_lexer": "ipython3",
   "version": "3.9.12"
  }
 },
 "nbformat": 4,
 "nbformat_minor": 5
}
