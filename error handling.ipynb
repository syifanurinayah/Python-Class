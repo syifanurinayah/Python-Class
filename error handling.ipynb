{
 "cells": [
  {
   "cell_type": "code",
   "execution_count": 3,
   "id": "278af1ef",
   "metadata": {},
   "outputs": [
    {
     "name": "stdout",
     "output_type": "stream",
     "text": [
      "masukan angkanya 20\n",
      "20\n"
     ]
    }
   ],
   "source": [
    "try:\n",
    "    print(int(input('masukan angkanya ')))\n",
    "except:\n",
    "    print('masukan angka  yang benar yah')"
   ]
  },
  {
   "cell_type": "code",
   "execution_count": 4,
   "id": "4cfaff1a",
   "metadata": {},
   "outputs": [
    {
     "name": "stdout",
     "output_type": "stream",
     "text": [
      "masukan angkanya gksga\n",
      "masukan angka  yang benar yah\n"
     ]
    }
   ],
   "source": [
    "try:\n",
    "    print(int(input('masukan angkanya ')))\n",
    "except:\n",
    "    print('masukan angka  yang benar yah')"
   ]
  },
  {
   "cell_type": "code",
   "execution_count": 5,
   "id": "ab94d94a",
   "metadata": {},
   "outputs": [
    {
     "name": "stdout",
     "output_type": "stream",
     "text": [
      "masukan angkanya 290\n",
      "290\n",
      "teria kasih telah memasukan angka yang benar\n"
     ]
    }
   ],
   "source": [
    "while True:\n",
    "    try:\n",
    "        print(int(input('masukan angkanya ')))\n",
    "    except:\n",
    "        print('masukan angka  yang benar yah')\n",
    "    else:\n",
    "        print('teria kasih telah memasukan angka yang benar')\n",
    "        break"
   ]
  },
  {
   "cell_type": "code",
   "execution_count": 6,
   "id": "a489a856",
   "metadata": {},
   "outputs": [
    {
     "name": "stdout",
     "output_type": "stream",
     "text": [
      "masukan angkanya kjff\n",
      "masukan angka  yang benar yah\n",
      "masukan angkanya hgau f\n",
      "masukan angka  yang benar yah\n",
      "masukan angkanya 30\n",
      "30\n",
      "teria kasih telah memasukan angka yang benar\n"
     ]
    }
   ],
   "source": [
    "while True:\n",
    "    try:\n",
    "        print(int(input('masukan angkanya ')))\n",
    "    except:\n",
    "        print('masukan angka  yang benar yah')\n",
    "    else:\n",
    "        print('teria kasih telah memasukan angka yang benar')\n",
    "        break"
   ]
  },
  {
   "cell_type": "code",
   "execution_count": 11,
   "id": "d41e1fce",
   "metadata": {},
   "outputs": [
    {
     "name": "stdout",
     "output_type": "stream",
     "text": [
      "masukan angkanya gfjd\n",
      "masukan angka  dan bukan karakter\n",
      "masukan angkanya 0\n",
      "masukan angka  lebih besar dari 0\n",
      "masukan angkanya 10\n",
      "2.0\n",
      "teria kasih telah memasukan angka yang benar\n"
     ]
    }
   ],
   "source": [
    "while True:\n",
    "    try:\n",
    "        angka = int(input('masukan angkanya '))\n",
    "        print(20/angka)\n",
    "    except ZeroDivisionError:\n",
    "        print('masukan angka  lebih besar dari 0')\n",
    "    except ValueError:\n",
    "        print('masukan angka  dan bukan karakter')\n",
    "    else:\n",
    "        print('teria kasih telah memasukan angka yang benar')\n",
    "        break"
   ]
  },
  {
   "cell_type": "code",
   "execution_count": 20,
   "id": "53544e62",
   "metadata": {},
   "outputs": [],
   "source": [
    "def hitung(a1,a2):\n",
    "    \n",
    "    while True:\n",
    "        try:\n",
    "            a1+a2\n",
    "        except:\n",
    "            print('masukan angka dan bukan karakter')\n",
    "            while True:\n",
    "                try:\n",
    "                    a1 = int(input('masukan angkanya'))\n",
    "                    a2 = int(input('masukan angkanya'))\n",
    "                except:\n",
    "                    print('Niai yang di masukan bukan berupa karakter')\n",
    "                else:\n",
    "                    break\n",
    "        else:\n",
    "            print(a1+a2)\n",
    "            print('selamat fungsi anda berhasil di jlankan')\n",
    "            break\n",
    "        finally:\n",
    "            print('SAYA AKAN SELALU DI JALANKAN')"
   ]
  },
  {
   "cell_type": "code",
   "execution_count": 21,
   "id": "588e7a04",
   "metadata": {},
   "outputs": [
    {
     "name": "stdout",
     "output_type": "stream",
     "text": [
      "30\n",
      "selamat fungsi anda berhasil di jlankan\n",
      "SAYA AKAN SELALU DI JALANKAN\n"
     ]
    }
   ],
   "source": [
    "hitung(10,20)"
   ]
  },
  {
   "cell_type": "code",
   "execution_count": 22,
   "id": "3a0b7f67",
   "metadata": {},
   "outputs": [
    {
     "name": "stdout",
     "output_type": "stream",
     "text": [
      "13.0\n",
      "selamat fungsi anda berhasil di jlankan\n",
      "SAYA AKAN SELALU DI JALANKAN\n"
     ]
    }
   ],
   "source": [
    "hitung(3,10.0)"
   ]
  },
  {
   "cell_type": "code",
   "execution_count": 23,
   "id": "377a489b",
   "metadata": {},
   "outputs": [
    {
     "name": "stdout",
     "output_type": "stream",
     "text": [
      "masukan angka dan bukan karakter\n",
      "masukan angkanya10\n",
      "masukan angkanya20\n",
      "SAYA AKAN SELALU DI JALANKAN\n",
      "30\n",
      "selamat fungsi anda berhasil di jlankan\n",
      "SAYA AKAN SELALU DI JALANKAN\n"
     ]
    }
   ],
   "source": [
    "hitung(30,'jasg')"
   ]
  },
  {
   "cell_type": "code",
   "execution_count": null,
   "id": "45e0a563",
   "metadata": {},
   "outputs": [],
   "source": []
  }
 ],
 "metadata": {
  "kernelspec": {
   "display_name": "Python 3 (ipykernel)",
   "language": "python",
   "name": "python3"
  },
  "language_info": {
   "codemirror_mode": {
    "name": "ipython",
    "version": 3
   },
   "file_extension": ".py",
   "mimetype": "text/x-python",
   "name": "python",
   "nbconvert_exporter": "python",
   "pygments_lexer": "ipython3",
   "version": "3.9.12"
  }
 },
 "nbformat": 4,
 "nbformat_minor": 5
}
