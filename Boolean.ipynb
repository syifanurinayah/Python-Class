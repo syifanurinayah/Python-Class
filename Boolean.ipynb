{
 "cells": [
  {
   "cell_type": "markdown",
   "id": "1d224d0f",
   "metadata": {},
   "source": [
    "# Tipe data di python (True/false)"
   ]
  },
  {
   "cell_type": "markdown",
   "id": "b264ef8c",
   "metadata": {},
   "source": [
    "# comparison operator"
   ]
  },
  {
   "cell_type": "markdown",
   "id": "ff7a73d6",
   "metadata": {},
   "source": [
    "##### operator       Keterangan"
   ]
  },
  {
   "cell_type": "markdown",
   "id": "0f0f9c60",
   "metadata": {},
   "source": [
    "##### ==         sama dengan\n",
    "##### !=         tidak sama dengan\n",
    "##### >          lebih besar dari\n",
    "##### <          lebih kecil dari\n",
    "##### >=        lebih besar dari \n",
    "##### <=        lebih kecil dari \n",
    "\n",
    "#####  and   dua kondisi dimana keduanya harus true atau sama \n",
    "##### or menghasilan true jika salah satu argument true dan menghasilkan false jika semua argumen false\n",
    "##### not memberikan nilai boolean yang  berlawanan"
   ]
  },
  {
   "cell_type": "code",
   "execution_count": 1,
   "id": "af1736f0",
   "metadata": {},
   "outputs": [
    {
     "data": {
      "text/plain": [
       "True"
      ]
     },
     "execution_count": 1,
     "metadata": {},
     "output_type": "execute_result"
    }
   ],
   "source": [
    "'a' == 'a'"
   ]
  },
  {
   "cell_type": "code",
   "execution_count": 2,
   "id": "6c5e58ff",
   "metadata": {},
   "outputs": [
    {
     "data": {
      "text/plain": [
       "False"
      ]
     },
     "execution_count": 2,
     "metadata": {},
     "output_type": "execute_result"
    }
   ],
   "source": [
    "'b' != 'b'"
   ]
  },
  {
   "cell_type": "code",
   "execution_count": 3,
   "id": "5abf76c1",
   "metadata": {},
   "outputs": [
    {
     "data": {
      "text/plain": [
       "True"
      ]
     },
     "execution_count": 3,
     "metadata": {},
     "output_type": "execute_result"
    }
   ],
   "source": [
    "25 <= 100"
   ]
  },
  {
   "cell_type": "code",
   "execution_count": 4,
   "id": "85c9edf6",
   "metadata": {},
   "outputs": [
    {
     "data": {
      "text/plain": [
       "True"
      ]
     },
     "execution_count": 4,
     "metadata": {},
     "output_type": "execute_result"
    }
   ],
   "source": [
    "2<5 and 6<10"
   ]
  },
  {
   "cell_type": "code",
   "execution_count": 5,
   "id": "ea5d93db",
   "metadata": {},
   "outputs": [
    {
     "data": {
      "text/plain": [
       "False"
      ]
     },
     "execution_count": 5,
     "metadata": {},
     "output_type": "execute_result"
    }
   ],
   "source": [
    "2>5 and 4<1"
   ]
  },
  {
   "cell_type": "code",
   "execution_count": 6,
   "id": "39aa1708",
   "metadata": {},
   "outputs": [
    {
     "data": {
      "text/plain": [
       "False"
      ]
     },
     "execution_count": 6,
     "metadata": {},
     "output_type": "execute_result"
    }
   ],
   "source": [
    "3<1 or 8>20"
   ]
  },
  {
   "cell_type": "code",
   "execution_count": 7,
   "id": "812c3c19",
   "metadata": {},
   "outputs": [
    {
     "data": {
      "text/plain": [
       "True"
      ]
     },
     "execution_count": 7,
     "metadata": {},
     "output_type": "execute_result"
    }
   ],
   "source": [
    "4>2 or 10<5"
   ]
  },
  {
   "cell_type": "code",
   "execution_count": null,
   "id": "141e1d8c",
   "metadata": {},
   "outputs": [],
   "source": []
  }
 ],
 "metadata": {
  "kernelspec": {
   "display_name": "Python 3 (ipykernel)",
   "language": "python",
   "name": "python3"
  },
  "language_info": {
   "codemirror_mode": {
    "name": "ipython",
    "version": 3
   },
   "file_extension": ".py",
   "mimetype": "text/x-python",
   "name": "python",
   "nbconvert_exporter": "python",
   "pygments_lexer": "ipython3",
   "version": "3.9.12"
  }
 },
 "nbformat": 4,
 "nbformat_minor": 5
}
