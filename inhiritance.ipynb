{
 "cells": [
  {
   "cell_type": "code",
   "execution_count": 4,
   "id": "44c380c7",
   "metadata": {},
   "outputs": [],
   "source": [
    "class Mahasiswa :\n",
    "    \n",
    "    status = 'Mahasiswa'\n",
    "    \n",
    "    def __init__(self, nama, kelas):\n",
    "        self.nama = nama\n",
    "        self.kelas = kelas\n",
    "        \n",
    "    def keterangan(self):\n",
    "        print('{} di kelas {} adalah seorang {}'.format(self.nama, self.kelas, self.status))"
   ]
  },
  {
   "cell_type": "code",
   "execution_count": 5,
   "id": "0fffa7cb",
   "metadata": {},
   "outputs": [],
   "source": [
    "nama_mahasiswa = Mahasiswa('joko',12)"
   ]
  },
  {
   "cell_type": "code",
   "execution_count": 6,
   "id": "f7eb3e07",
   "metadata": {},
   "outputs": [
    {
     "name": "stdout",
     "output_type": "stream",
     "text": [
      "joko di kelas 12 adalah seorang Mahasiswa\n"
     ]
    }
   ],
   "source": [
    "nama_mahasiswa.keterangan()"
   ]
  },
  {
   "cell_type": "code",
   "execution_count": 11,
   "id": "bf2a7baa",
   "metadata": {},
   "outputs": [],
   "source": [
    "class Nilai(Mahasiswa):\n",
    "    \n",
    "    def __init__(self, nama, kelas):\n",
    "        super().__init__(nama, kelas)\n",
    "        self.nilai_update = []\n",
    "        \n",
    "    def input_nilai(self,tambah):\n",
    "        return self.nilai_update.append(tambah)"
   ]
  },
  {
   "cell_type": "code",
   "execution_count": 12,
   "id": "3dd11b8b",
   "metadata": {},
   "outputs": [],
   "source": [
    "budi = Nilai('Budi', 12)"
   ]
  },
  {
   "cell_type": "code",
   "execution_count": 13,
   "id": "70d23cd2",
   "metadata": {},
   "outputs": [
    {
     "name": "stdout",
     "output_type": "stream",
     "text": [
      "Budi di kelas 12 adalah seorang Mahasiswa\n"
     ]
    }
   ],
   "source": [
    "budi.keterangan()"
   ]
  },
  {
   "cell_type": "code",
   "execution_count": 14,
   "id": "cf6c212d",
   "metadata": {},
   "outputs": [
    {
     "data": {
      "text/plain": [
       "<bound method Mahasiswa.keterangan of <__main__.Nilai object at 0x000001F6A3A94B50>>"
      ]
     },
     "execution_count": 14,
     "metadata": {},
     "output_type": "execute_result"
    }
   ],
   "source": [
    "budi.keterangan"
   ]
  },
  {
   "cell_type": "code",
   "execution_count": 15,
   "id": "6e863f27",
   "metadata": {},
   "outputs": [],
   "source": [
    "budi.input_nilai(80)"
   ]
  },
  {
   "cell_type": "code",
   "execution_count": 17,
   "id": "a285c208",
   "metadata": {},
   "outputs": [
    {
     "data": {
      "text/plain": [
       "[80]"
      ]
     },
     "execution_count": 17,
     "metadata": {},
     "output_type": "execute_result"
    }
   ],
   "source": [
    "budi.nilai_update"
   ]
  },
  {
   "cell_type": "code",
   "execution_count": null,
   "id": "3ee08258",
   "metadata": {},
   "outputs": [],
   "source": []
  }
 ],
 "metadata": {
  "kernelspec": {
   "display_name": "Python 3 (ipykernel)",
   "language": "python",
   "name": "python3"
  },
  "language_info": {
   "codemirror_mode": {
    "name": "ipython",
    "version": 3
   },
   "file_extension": ".py",
   "mimetype": "text/x-python",
   "name": "python",
   "nbconvert_exporter": "python",
   "pygments_lexer": "ipython3",
   "version": "3.9.12"
  }
 },
 "nbformat": 4,
 "nbformat_minor": 5
}
