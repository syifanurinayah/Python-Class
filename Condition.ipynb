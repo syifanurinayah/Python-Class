{
 "cells": [
  {
   "cell_type": "markdown",
   "id": "31ff6fbe",
   "metadata": {},
   "source": [
    "# condition"
   ]
  },
  {
   "cell_type": "code",
   "execution_count": 6,
   "id": "4d29eb07",
   "metadata": {},
   "outputs": [
    {
     "name": "stdout",
     "output_type": "stream",
     "text": [
      "berhasil\n"
     ]
    }
   ],
   "source": [
    "if 10>5:\n",
    "    print('berhasil')"
   ]
  },
  {
   "cell_type": "code",
   "execution_count": 5,
   "id": "52acd40f",
   "metadata": {},
   "outputs": [
    {
     "name": "stdout",
     "output_type": "stream",
     "text": [
      "jalankan yang ini\n"
     ]
    }
   ],
   "source": [
    "if 10<2:\n",
    "    print('berhasil')\n",
    "else:\n",
    "    print('jalankan yang ini')"
   ]
  },
  {
   "cell_type": "code",
   "execution_count": 8,
   "id": "4e46980b",
   "metadata": {},
   "outputs": [],
   "source": [
    "berat = 5"
   ]
  },
  {
   "cell_type": "code",
   "execution_count": 9,
   "id": "068a6573",
   "metadata": {},
   "outputs": [
    {
     "data": {
      "text/plain": [
       "70"
      ]
     },
     "execution_count": 9,
     "metadata": {},
     "output_type": "execute_result"
    }
   ],
   "source": [
    "berat"
   ]
  },
  {
   "cell_type": "code",
   "execution_count": 7,
   "id": "e9c62e3e",
   "metadata": {},
   "outputs": [
    {
     "name": "stdout",
     "output_type": "stream",
     "text": [
      "kamu ideal\n"
     ]
    }
   ],
   "source": [
    "if berat>100:\n",
    "    print('kamu terlalu gemuk')\n",
    "else:\n",
    "    print('kamu ideal')"
   ]
  },
  {
   "cell_type": "code",
   "execution_count": 12,
   "id": "e43e5957",
   "metadata": {},
   "outputs": [
    {
     "name": "stdout",
     "output_type": "stream",
     "text": [
      "kamu ideal\n"
     ]
    }
   ],
   "source": [
    "if berat>100:\n",
    "    print('kamu terlalu gemuk')\n",
    "elif 0<=berat<=50:\n",
    "    print('kamu terlalu kururus')\n",
    "elif berat>50 and berat<75:\n",
    "    print('kamu ideal')\n",
    "else:\n",
    "    print('beratmu ideal')\n"
   ]
  },
  {
   "cell_type": "code",
   "execution_count": null,
   "id": "1c9a1fed",
   "metadata": {},
   "outputs": [],
   "source": []
  },
  {
   "cell_type": "code",
   "execution_count": null,
   "id": "f295e777",
   "metadata": {},
   "outputs": [],
   "source": []
  },
  {
   "cell_type": "raw",
   "id": "20ff4f1f",
   "metadata": {},
   "source": []
  },
  {
   "cell_type": "code",
   "execution_count": null,
   "id": "b366481a",
   "metadata": {},
   "outputs": [],
   "source": []
  }
 ],
 "metadata": {
  "kernelspec": {
   "display_name": "Python 3 (ipykernel)",
   "language": "python",
   "name": "python3"
  },
  "language_info": {
   "codemirror_mode": {
    "name": "ipython",
    "version": 3
   },
   "file_extension": ".py",
   "mimetype": "text/x-python",
   "name": "python",
   "nbconvert_exporter": "python",
   "pygments_lexer": "ipython3",
   "version": "3.9.12"
  }
 },
 "nbformat": 4,
 "nbformat_minor": 5
}
