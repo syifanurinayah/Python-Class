{
 "cells": [
  {
   "cell_type": "markdown",
   "id": "93f85774",
   "metadata": {},
   "source": [
    "PRINT METHOD"
   ]
  },
  {
   "cell_type": "code",
   "execution_count": 1,
   "id": "656a4f10",
   "metadata": {},
   "outputs": [],
   "source": [
    "var = \"ayam goreng enak\""
   ]
  },
  {
   "cell_type": "code",
   "execution_count": 2,
   "id": "4eaddf4a",
   "metadata": {},
   "outputs": [
    {
     "name": "stdout",
     "output_type": "stream",
     "text": [
      "ayam goreng enak\n"
     ]
    }
   ],
   "source": [
    "print(var)"
   ]
  },
  {
   "cell_type": "code",
   "execution_count": 3,
   "id": "0e930f95",
   "metadata": {},
   "outputs": [
    {
     "name": "stdout",
     "output_type": "stream",
     "text": [
      "Pemenang juara lomba menulis adalah Syifa\n"
     ]
    }
   ],
   "source": [
    "print('Pemenang juara lomba menulis adalah {}'.format('Syifa'))"
   ]
  },
  {
   "cell_type": "code",
   "execution_count": 4,
   "id": "772d7745",
   "metadata": {},
   "outputs": [
    {
     "name": "stdout",
     "output_type": "stream",
     "text": [
      "pemenang juara adalah deni rudi shela\n"
     ]
    }
   ],
   "source": [
    "print('pemenang juara adalah {} {} {}'.format('deni','rudi','shela'))"
   ]
  },
  {
   "cell_type": "code",
   "execution_count": 5,
   "id": "d61d30ae",
   "metadata": {},
   "outputs": [
    {
     "name": "stdout",
     "output_type": "stream",
     "text": [
      "pemenang juara adalah rudi deni shela\n"
     ]
    }
   ],
   "source": [
    "9print('pemenang juara adalah {1} {0} {2}'.format('deni','rudi','shela'))"
   ]
  },
  {
   "cell_type": "code",
   "execution_count": 6,
   "id": "41373b3b",
   "metadata": {},
   "outputs": [
    {
     "name": "stdout",
     "output_type": "stream",
     "text": [
      "pemenang juara adalah rudi deni shela\n"
     ]
    }
   ],
   "source": [
    "print('pemenang juara adalah {b} {a} {c}'.format(a='deni',b='rudi',c='shela'))"
   ]
  },
  {
   "cell_type": "code",
   "execution_count": 7,
   "id": "ecba03b1",
   "metadata": {},
   "outputs": [],
   "source": [
    "luas = 699.096"
   ]
  },
  {
   "cell_type": "code",
   "execution_count": 8,
   "id": "e76c77ed",
   "metadata": {},
   "outputs": [],
   "source": [
    "lebar = 509.809"
   ]
  },
  {
   "cell_type": "code",
   "execution_count": 9,
   "id": "e6b072f8",
   "metadata": {},
   "outputs": [
    {
     "ename": "IndexError",
     "evalue": "Replacement index 0 out of range for positional args tuple",
     "output_type": "error",
     "traceback": [
      "\u001b[1;31m---------------------------------------------------------------------------\u001b[0m",
      "\u001b[1;31mIndexError\u001b[0m                                Traceback (most recent call last)",
      "Input \u001b[1;32mIn [9]\u001b[0m, in \u001b[0;36m<cell line: 1>\u001b[1;34m()\u001b[0m\n\u001b[1;32m----> 1\u001b[0m \u001b[38;5;28mprint\u001b[39m(\u001b[38;5;124;43m'\u001b[39;49m\u001b[38;5;124;43mluas tanah pak budi luas \u001b[39;49m\u001b[38;5;132;43;01m{}\u001b[39;49;00m\u001b[38;5;124;43m lebar \u001b[39;49m\u001b[38;5;132;43;01m{}\u001b[39;49;00m\u001b[38;5;124;43m'\u001b[39;49m\u001b[38;5;241;43m.\u001b[39;49m\u001b[43mformat\u001b[49m\u001b[43m(\u001b[49m\u001b[43ma\u001b[49m\u001b[38;5;241;43m=\u001b[39;49m\u001b[43mluas\u001b[49m\u001b[43m,\u001b[49m\u001b[43mb\u001b[49m\u001b[38;5;241;43m=\u001b[39;49m\u001b[43mlebar\u001b[49m\u001b[43m)\u001b[49m)\n",
      "\u001b[1;31mIndexError\u001b[0m: Replacement index 0 out of range for positional args tuple"
     ]
    }
   ],
   "source": [
    "print('luas tanah pak budi luas {} lebar {}'.format(a=luas,b=lebar))"
   ]
  },
  {
   "cell_type": "code",
   "execution_count": 10,
   "id": "2efc27e5",
   "metadata": {},
   "outputs": [
    {
     "name": "stdout",
     "output_type": "stream",
     "text": [
      "luas tanah pak budi luas 699.096 lebar 509.809\n"
     ]
    }
   ],
   "source": [
    "print('luas tanah pak budi luas {a} lebar {b}'.format(a=luas,b=lebar))"
   ]
  },
  {
   "cell_type": "markdown",
   "id": "0bc81018",
   "metadata": {},
   "source": [
    "{nilai:lebar.tingkat_presisi f}"
   ]
  },
  {
   "cell_type": "code",
   "execution_count": 11,
   "id": "8a4f339b",
   "metadata": {},
   "outputs": [
    {
     "name": "stdout",
     "output_type": "stream",
     "text": [
      "luas tanah pak budi luas 699.0960 lebar   509.8090\n"
     ]
    }
   ],
   "source": [
    "print('luas tanah pak budi luas {a:2.4f} lebar {b:10.4f}'.format(a=luas,b=lebar))"
   ]
  },
  {
   "cell_type": "code",
   "execution_count": 12,
   "id": "529eda97",
   "metadata": {},
   "outputs": [
    {
     "ename": "SyntaxError",
     "evalue": "unmatched ')' (1221456131.py, line 1)",
     "output_type": "error",
     "traceback": [
      "\u001b[1;36m  Input \u001b[1;32mIn [12]\u001b[1;36m\u001b[0m\n\u001b[1;33m    'luas tanah pak budi luas {a:20.4f} lebar {b:10.4f}'.format(a=luas,b=lebar))\u001b[0m\n\u001b[1;37m                                                                               ^\u001b[0m\n\u001b[1;31mSyntaxError\u001b[0m\u001b[1;31m:\u001b[0m unmatched ')'\n"
     ]
    }
   ],
   "source": [
    "'luas tanah pak budi luas {a:20.4f} lebar {b:10.4f}'.format(a=luas,b=lebar))"
   ]
  },
  {
   "cell_type": "code",
   "execution_count": 13,
   "id": "dffd5a03",
   "metadata": {},
   "outputs": [
    {
     "ename": "SyntaxError",
     "evalue": "unmatched ')' (1922527630.py, line 1)",
     "output_type": "error",
     "traceback": [
      "\u001b[1;36m  Input \u001b[1;32mIn [13]\u001b[1;36m\u001b[0m\n\u001b[1;33m    'luas tanah pak budi luas {a:10.4f} lebar {b:10.4f}'.format(a=luas,b=lebar))\u001b[0m\n\u001b[1;37m                                                                               ^\u001b[0m\n\u001b[1;31mSyntaxError\u001b[0m\u001b[1;31m:\u001b[0m unmatched ')'\n"
     ]
    }
   ],
   "source": [
    "'luas tanah pak budi luas {a:10.4f} lebar {b:10.4f}'.format(a=luas,b=lebar))"
   ]
  },
  {
   "cell_type": "code",
   "execution_count": null,
   "id": "f7c96481",
   "metadata": {},
   "outputs": [],
   "source": []
  }
 ],
 "metadata": {
  "kernelspec": {
   "display_name": "Python 3 (ipykernel)",
   "language": "python",
   "name": "python3"
  },
  "language_info": {
   "codemirror_mode": {
    "name": "ipython",
    "version": 3
   },
   "file_extension": ".py",
   "mimetype": "text/x-python",
   "name": "python",
   "nbconvert_exporter": "python",
   "pygments_lexer": "ipython3",
   "version": "3.9.12"
  }
 },
 "nbformat": 4,
 "nbformat_minor": 5
}
