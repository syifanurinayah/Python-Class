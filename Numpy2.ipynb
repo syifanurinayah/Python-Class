{
 "cells": [
  {
   "cell_type": "code",
   "execution_count": 1,
   "id": "5a390f20",
   "metadata": {},
   "outputs": [],
   "source": [
    "import numpy as np"
   ]
  },
  {
   "cell_type": "code",
   "execution_count": 2,
   "id": "1674f70c",
   "metadata": {},
   "outputs": [
    {
     "data": {
      "text/plain": [
       "array([0.99609408, 0.63953817, 0.19488148, 0.58411337])"
      ]
     },
     "execution_count": 2,
     "metadata": {},
     "output_type": "execute_result"
    }
   ],
   "source": [
    "# bilangan distibusi uniform (0-1)\n",
    "np.random.rand(4)"
   ]
  },
  {
   "cell_type": "code",
   "execution_count": 3,
   "id": "7ad78883",
   "metadata": {},
   "outputs": [
    {
     "data": {
      "text/plain": [
       "array([[0.85986162, 0.50280185, 0.79102861, 0.40283046],\n",
       "       [0.89703154, 0.39043407, 0.38894802, 0.85627795],\n",
       "       [0.15017441, 0.25472638, 0.25126136, 0.21088303]])"
      ]
     },
     "execution_count": 3,
     "metadata": {},
     "output_type": "execute_result"
    }
   ],
   "source": [
    "# bilangan distibusi uniform (0-1) matriks dua dimensi\n",
    "np.random.rand(3,4)"
   ]
  },
  {
   "cell_type": "code",
   "execution_count": 4,
   "id": "abe4e0c0",
   "metadata": {},
   "outputs": [
    {
     "data": {
      "text/plain": [
       "array([ 0.87236854, -0.86511348,  0.21047147,  0.55191162,  0.09098057,\n",
       "        0.86746592,  1.14195012,  0.55484271, -2.08032754, -0.07171297])"
      ]
     },
     "execution_count": 4,
     "metadata": {},
     "output_type": "execute_result"
    }
   ],
   "source": [
    "# bilangan ditribusi normal (gaussian)\n",
    "np.random.randn(10)"
   ]
  },
  {
   "cell_type": "code",
   "execution_count": 5,
   "id": "3e86499b",
   "metadata": {},
   "outputs": [
    {
     "data": {
      "text/plain": [
       "array([[-0.57405724,  1.2522066 , -1.2324503 ,  0.3347887 ],\n",
       "       [-0.58197334, -0.06870711,  0.68664081,  0.82709135],\n",
       "       [-0.45724745, -0.14219416, -0.83285916, -1.99240285],\n",
       "       [ 0.62645236,  0.76965751,  0.84723203,  1.55346643]])"
      ]
     },
     "execution_count": 5,
     "metadata": {},
     "output_type": "execute_result"
    }
   ],
   "source": [
    "# bilangan ditribusi normal (gaussian) matriks dua dimensi\n",
    "np.random.randn(4,4)"
   ]
  },
  {
   "cell_type": "code",
   "execution_count": 10,
   "id": "df73ec78",
   "metadata": {},
   "outputs": [],
   "source": [
    "from numpy.random import randn, randint"
   ]
  },
  {
   "cell_type": "code",
   "execution_count": 11,
   "id": "ed377dab",
   "metadata": {},
   "outputs": [
    {
     "data": {
      "text/plain": [
       "array([[-1.05851901, -0.78335775, -0.58306674,  1.14491084, -0.38650574],\n",
       "       [-0.41423671,  0.28046706,  0.61253848,  0.04522002,  0.47253481],\n",
       "       [ 0.2811853 , -1.84072737, -0.45021689, -0.58676342,  0.66116967]])"
      ]
     },
     "execution_count": 11,
     "metadata": {},
     "output_type": "execute_result"
    }
   ],
   "source": [
    "randn(3,5)"
   ]
  },
  {
   "cell_type": "code",
   "execution_count": 14,
   "id": "3cc656ce",
   "metadata": {},
   "outputs": [
    {
     "data": {
      "text/plain": [
       "3"
      ]
     },
     "execution_count": 14,
     "metadata": {},
     "output_type": "execute_result"
    }
   ],
   "source": [
    "randint(0,10)"
   ]
  },
  {
   "cell_type": "code",
   "execution_count": 15,
   "id": "e53c6538",
   "metadata": {},
   "outputs": [
    {
     "data": {
      "text/plain": [
       "array([0, 9, 2, 7, 0])"
      ]
     },
     "execution_count": 15,
     "metadata": {},
     "output_type": "execute_result"
    }
   ],
   "source": [
    "randint(0,10,5)"
   ]
  },
  {
   "cell_type": "code",
   "execution_count": 16,
   "id": "3b03aab8",
   "metadata": {},
   "outputs": [],
   "source": [
    "bilangan = randint(0,100,20) # untuk menjadikan randint 2 dimensi menggunakan reshape"
   ]
  },
  {
   "cell_type": "code",
   "execution_count": 17,
   "id": "c89c1c5c",
   "metadata": {},
   "outputs": [
    {
     "data": {
      "text/plain": [
       "array([52, 24, 12, 11, 68, 56, 56,  4, 83, 61, 77, 95, 66, 24, 16, 20, 35,\n",
       "       85, 43, 58])"
      ]
     },
     "execution_count": 17,
     "metadata": {},
     "output_type": "execute_result"
    }
   ],
   "source": [
    "bilangan"
   ]
  },
  {
   "cell_type": "code",
   "execution_count": 18,
   "id": "bce1d180",
   "metadata": {},
   "outputs": [
    {
     "data": {
      "text/plain": [
       "array([[52, 24, 12, 11, 68],\n",
       "       [56, 56,  4, 83, 61],\n",
       "       [77, 95, 66, 24, 16],\n",
       "       [20, 35, 85, 43, 58]])"
      ]
     },
     "execution_count": 18,
     "metadata": {},
     "output_type": "execute_result"
    }
   ],
   "source": [
    "bilangan.reshape(4,5) # yang berada di dalam kurug jumlahnya harus sesuai dengan bilangan 20 di atas"
   ]
  },
  {
   "cell_type": "code",
   "execution_count": 22,
   "id": "bbf349d1",
   "metadata": {},
   "outputs": [
    {
     "data": {
      "text/plain": [
       "(20,)"
      ]
     },
     "execution_count": 22,
     "metadata": {},
     "output_type": "execute_result"
    }
   ],
   "source": [
    "bilangan.shape"
   ]
  },
  {
   "cell_type": "code",
   "execution_count": 28,
   "id": "a7eb5a2b",
   "metadata": {},
   "outputs": [],
   "source": [
    "bilangan2 = randint(1,20,20).reshape(5,4)"
   ]
  },
  {
   "cell_type": "code",
   "execution_count": 29,
   "id": "3c3d31f5",
   "metadata": {},
   "outputs": [
    {
     "data": {
      "text/plain": [
       "array([[19,  4,  8,  6],\n",
       "       [ 4,  7, 15, 11],\n",
       "       [16, 18,  1, 14],\n",
       "       [15,  7,  8, 14],\n",
       "       [ 9,  7,  4, 10]])"
      ]
     },
     "execution_count": 29,
     "metadata": {},
     "output_type": "execute_result"
    }
   ],
   "source": [
    "bilangan2"
   ]
  },
  {
   "cell_type": "code",
   "execution_count": 25,
   "id": "1a8f61a2",
   "metadata": {},
   "outputs": [
    {
     "data": {
      "text/plain": [
       "(15,)"
      ]
     },
     "execution_count": 25,
     "metadata": {},
     "output_type": "execute_result"
    }
   ],
   "source": [
    "bilangan2.shape"
   ]
  },
  {
   "cell_type": "code",
   "execution_count": 31,
   "id": "fe283272",
   "metadata": {},
   "outputs": [
    {
     "data": {
      "text/plain": [
       "array([[19,  4,  8,  6,  4,  7, 15, 11, 16, 18],\n",
       "       [ 1, 14, 15,  7,  8, 14,  9,  7,  4, 10]])"
      ]
     },
     "execution_count": 31,
     "metadata": {},
     "output_type": "execute_result"
    }
   ],
   "source": [
    "bilangan2.reshape(2,10)"
   ]
  },
  {
   "cell_type": "code",
   "execution_count": 33,
   "id": "79e715b6",
   "metadata": {},
   "outputs": [
    {
     "data": {
      "text/plain": [
       "array([[19,  4,  8,  6],\n",
       "       [ 4,  7, 15, 11],\n",
       "       [16, 18,  1, 14],\n",
       "       [15,  7,  8, 14],\n",
       "       [ 9,  7,  4, 10]])"
      ]
     },
     "execution_count": 33,
     "metadata": {},
     "output_type": "execute_result"
    }
   ],
   "source": [
    "bilangan2"
   ]
  },
  {
   "cell_type": "code",
   "execution_count": 34,
   "id": "7904a64d",
   "metadata": {},
   "outputs": [],
   "source": [
    "# ganti dengan variabel baruatau samakan dengan variable di atas\n",
    "bilangan2 = bilangan2.reshape(2,10)"
   ]
  },
  {
   "cell_type": "code",
   "execution_count": 35,
   "id": "3a4e8c17",
   "metadata": {},
   "outputs": [
    {
     "data": {
      "text/plain": [
       "array([[19,  4,  8,  6,  4,  7, 15, 11, 16, 18],\n",
       "       [ 1, 14, 15,  7,  8, 14,  9,  7,  4, 10]])"
      ]
     },
     "execution_count": 35,
     "metadata": {},
     "output_type": "execute_result"
    }
   ],
   "source": [
    "bilangan2"
   ]
  },
  {
   "cell_type": "code",
   "execution_count": null,
   "id": "d08f5707",
   "metadata": {},
   "outputs": [],
   "source": []
  }
 ],
 "metadata": {
  "kernelspec": {
   "display_name": "Python 3 (ipykernel)",
   "language": "python",
   "name": "python3"
  },
  "language_info": {
   "codemirror_mode": {
    "name": "ipython",
    "version": 3
   },
   "file_extension": ".py",
   "mimetype": "text/x-python",
   "name": "python",
   "nbconvert_exporter": "python",
   "pygments_lexer": "ipython3",
   "version": "3.9.12"
  }
 },
 "nbformat": 4,
 "nbformat_minor": 5
}
