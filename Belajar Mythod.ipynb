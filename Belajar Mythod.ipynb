{
 "cells": [
  {
   "cell_type": "markdown",
   "id": "01e5b6c0",
   "metadata": {},
   "source": [
    "Belajar Method"
   ]
  },
  {
   "cell_type": "code",
   "execution_count": 1,
   "id": "df31e192",
   "metadata": {},
   "outputs": [],
   "source": [
    "var = \"Makanan sehat itu 4 sehat 5 sempurna\""
   ]
  },
  {
   "cell_type": "code",
   "execution_count": 2,
   "id": "59ace3b3",
   "metadata": {},
   "outputs": [
    {
     "data": {
      "text/plain": [
       "'Makanan sehat itu 4 sehat 5 sempurna'"
      ]
     },
     "execution_count": 2,
     "metadata": {},
     "output_type": "execute_result"
    }
   ],
   "source": [
    "var"
   ]
  },
  {
   "cell_type": "code",
   "execution_count": 3,
   "id": "bdca7424",
   "metadata": {},
   "outputs": [
    {
     "data": {
      "text/plain": [
       "'Makanan sehat itu 4 sehat 5 sempurna'"
      ]
     },
     "execution_count": 3,
     "metadata": {},
     "output_type": "execute_result"
    }
   ],
   "source": [
    "var.capitalize()"
   ]
  },
  {
   "cell_type": "code",
   "execution_count": 4,
   "id": "5143a1b7",
   "metadata": {},
   "outputs": [
    {
     "data": {
      "text/plain": [
       "'makanan sehat itu 4 sehat 5 sempurna'"
      ]
     },
     "execution_count": 4,
     "metadata": {},
     "output_type": "execute_result"
    }
   ],
   "source": [
    "var.casefold()"
   ]
  },
  {
   "cell_type": "code",
   "execution_count": 5,
   "id": "34dd9564",
   "metadata": {},
   "outputs": [
    {
     "data": {
      "text/plain": [
       "'MAKANAN SEHAT ITU 4 SEHAT 5 SEMPURNA'"
      ]
     },
     "execution_count": 5,
     "metadata": {},
     "output_type": "execute_result"
    }
   ],
   "source": [
    "var.upper()"
   ]
  },
  {
   "cell_type": "code",
   "execution_count": 6,
   "id": "e7704d08",
   "metadata": {},
   "outputs": [],
   "source": [
    "var = var.upper()"
   ]
  },
  {
   "cell_type": "code",
   "execution_count": 7,
   "id": "5fb63ca0",
   "metadata": {},
   "outputs": [
    {
     "data": {
      "text/plain": [
       "'MAKANAN SEHAT ITU 4 SEHAT 5 SEMPURNA'"
      ]
     },
     "execution_count": 7,
     "metadata": {},
     "output_type": "execute_result"
    }
   ],
   "source": [
    "var"
   ]
  },
  {
   "cell_type": "code",
   "execution_count": 8,
   "id": "db1ca393",
   "metadata": {},
   "outputs": [
    {
     "data": {
      "text/plain": [
       "['MAKANAN', 'SEHAT', 'ITU', '4', 'SEHAT', '5', 'SEMPURNA']"
      ]
     },
     "execution_count": 8,
     "metadata": {},
     "output_type": "execute_result"
    }
   ],
   "source": [
    "var.split()"
   ]
  },
  {
   "cell_type": "code",
   "execution_count": 9,
   "id": "8b442024",
   "metadata": {},
   "outputs": [
    {
     "data": {
      "text/plain": [
       "['M', 'K', 'N', 'N SEH', 'T ITU 4 SEH', 'T 5 SEMPURN', '']"
      ]
     },
     "execution_count": 9,
     "metadata": {},
     "output_type": "execute_result"
    }
   ],
   "source": [
    "var.split(\"A\")"
   ]
  },
  {
   "cell_type": "code",
   "execution_count": null,
   "id": "ab4336d7",
   "metadata": {},
   "outputs": [],
   "source": []
  }
 ],
 "metadata": {
  "kernelspec": {
   "display_name": "Python 3 (ipykernel)",
   "language": "python",
   "name": "python3"
  },
  "language_info": {
   "codemirror_mode": {
    "name": "ipython",
    "version": 3
   },
   "file_extension": ".py",
   "mimetype": "text/x-python",
   "name": "python",
   "nbconvert_exporter": "python",
   "pygments_lexer": "ipython3",
   "version": "3.9.12"
  }
 },
 "nbformat": 4,
 "nbformat_minor": 5
}
