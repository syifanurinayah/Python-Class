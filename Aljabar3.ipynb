{
 "cells": [
  {
   "cell_type": "code",
   "execution_count": 1,
   "id": "6d1d6d4b",
   "metadata": {},
   "outputs": [],
   "source": [
    "b1 = [1,2,3,4,5]"
   ]
  },
  {
   "cell_type": "code",
   "execution_count": 2,
   "id": "3aa6599e",
   "metadata": {},
   "outputs": [],
   "source": [
    "import numpy as np"
   ]
  },
  {
   "cell_type": "code",
   "execution_count": 3,
   "id": "2dbbad71",
   "metadata": {},
   "outputs": [
    {
     "data": {
      "text/plain": [
       "15"
      ]
     },
     "execution_count": 3,
     "metadata": {},
     "output_type": "execute_result"
    }
   ],
   "source": [
    "np.sum(b1)"
   ]
  },
  {
   "cell_type": "code",
   "execution_count": 4,
   "id": "29637890",
   "metadata": {},
   "outputs": [
    {
     "data": {
      "text/plain": [
       "120"
      ]
     },
     "execution_count": 4,
     "metadata": {},
     "output_type": "execute_result"
    }
   ],
   "source": [
    "# method perkalian di numpy\n",
    "np.prod(b1)"
   ]
  },
  {
   "cell_type": "code",
   "execution_count": 5,
   "id": "cce4c632",
   "metadata": {},
   "outputs": [
    {
     "data": {
      "text/plain": [
       "array([ 1,  3,  6, 10, 15], dtype=int32)"
      ]
     },
     "execution_count": 5,
     "metadata": {},
     "output_type": "execute_result"
    }
   ],
   "source": [
    "# method cumulative summation numpy\n",
    "np.cumsum(b1)"
   ]
  },
  {
   "cell_type": "code",
   "execution_count": 7,
   "id": "7e9f07a2",
   "metadata": {},
   "outputs": [],
   "source": [
    "b2 = np.array([[1,2,3,4],[5,6,7,8]])"
   ]
  },
  {
   "cell_type": "code",
   "execution_count": 8,
   "id": "cdaf6fdb",
   "metadata": {},
   "outputs": [
    {
     "data": {
      "text/plain": [
       "array([[1, 2, 3, 4],\n",
       "       [5, 6, 7, 8]])"
      ]
     },
     "execution_count": 8,
     "metadata": {},
     "output_type": "execute_result"
    }
   ],
   "source": [
    "b2"
   ]
  },
  {
   "cell_type": "code",
   "execution_count": 10,
   "id": "bf305a14",
   "metadata": {},
   "outputs": [],
   "source": [
    "from IPython.display import Math\n",
    "import sympy as sym"
   ]
  },
  {
   "cell_type": "code",
   "execution_count": 11,
   "id": "4d3821b4",
   "metadata": {},
   "outputs": [
    {
     "data": {
      "text/latex": [
       "$\\displaystyle \\left[\\begin{matrix}1 & 2 & 3 & 4\\\\5 & 6 & 7 & 8\\end{matrix}\\right]$"
      ],
      "text/plain": [
       "<IPython.core.display.Math object>"
      ]
     },
     "metadata": {},
     "output_type": "display_data"
    }
   ],
   "source": [
    "display(Math(sym.latex(sym.sympify(b2))))"
   ]
  },
  {
   "cell_type": "code",
   "execution_count": 12,
   "id": "e2e3f151",
   "metadata": {},
   "outputs": [
    {
     "data": {
      "text/plain": [
       "array([ 1,  3,  6, 10, 15, 21, 28, 36], dtype=int32)"
      ]
     },
     "execution_count": 12,
     "metadata": {},
     "output_type": "execute_result"
    }
   ],
   "source": [
    "np.cumsum(b2)"
   ]
  },
  {
   "cell_type": "code",
   "execution_count": 13,
   "id": "36b5f2b0",
   "metadata": {},
   "outputs": [
    {
     "data": {
      "text/plain": [
       "[1, 2, 3, 4, 5]"
      ]
     },
     "execution_count": 13,
     "metadata": {},
     "output_type": "execute_result"
    }
   ],
   "source": [
    "b1"
   ]
  },
  {
   "cell_type": "code",
   "execution_count": 15,
   "id": "4589ca7b",
   "metadata": {},
   "outputs": [],
   "source": [
    "import matplotlib.pyplot as plt\n",
    "import seaborn as sns\n",
    "sns.set()"
   ]
  },
  {
   "cell_type": "code",
   "execution_count": 16,
   "id": "a7a0f914",
   "metadata": {},
   "outputs": [
    {
     "data": {
      "image/png": "[encoded data removed]",
      "text/plain": [
       "<Figure size 432x288 with 1 Axes>"
      ]
     },
     "metadata": {},
     "output_type": "display_data"
    }
   ],
   "source": [
    "plt.plot(b1,'rs-')\n",
    "plt.plot(np.cumsum(b1), 'bo-')\n",
    "plt.legend(['b1','kumulatif'])\n",
    "plt.show()"
   ]
  },
  {
   "cell_type": "code",
   "execution_count": 18,
   "id": "5ccd9e5a",
   "metadata": {},
   "outputs": [
    {
     "data": {
      "image/png": "[encoded data removed]",
      "text/plain": [
       "<Figure size 432x288 with 1 Axes>"
      ]
     },
     "metadata": {},
     "output_type": "display_data"
    }
   ],
   "source": [
    "plt.plot(b1,'rs-')\n",
    "plt.plot(np.cumprod(b1), 'bo-')\n",
    "plt.legend(['b1','kum_prod'])\n",
    "plt.show()"
   ]
  },
  {
   "cell_type": "code",
   "execution_count": 19,
   "id": "c992f9e1",
   "metadata": {},
   "outputs": [],
   "source": [
    "bil2 = np.arange(1,5)"
   ]
  },
  {
   "cell_type": "code",
   "execution_count": 20,
   "id": "24de976c",
   "metadata": {},
   "outputs": [],
   "source": [
    "p1 = np.sum(bil2)\n",
    "p2 = np.sum(bil2**2)\n",
    "\n",
    "j1 = p1/p2\n",
    "j2 = 1/p1"
   ]
  },
  {
   "cell_type": "code",
   "execution_count": 21,
   "id": "2094f64c",
   "metadata": {},
   "outputs": [
    {
     "name": "stdout",
     "output_type": "stream",
     "text": [
      "jawaban 1 hasilnya adalah 0.3333333333333333 \n",
      "jawaban 2 hasilnya adalah 0.1\n"
     ]
    }
   ],
   "source": [
    "print(f'jawaban 1 hasilnya adalah {j1} \\njawaban 2 hasilnya adalah {j2}')"
   ]
  },
  {
   "cell_type": "code",
   "execution_count": 22,
   "id": "39d0b028",
   "metadata": {},
   "outputs": [
    {
     "data": {
      "text/plain": [
       "False"
      ]
     },
     "execution_count": 22,
     "metadata": {},
     "output_type": "execute_result"
    }
   ],
   "source": [
    "j1 == j2"
   ]
  },
  {
   "cell_type": "code",
   "execution_count": 25,
   "id": "843f3b9c",
   "metadata": {},
   "outputs": [],
   "source": [
    "p3 = np.prod(bil2)\n",
    "p4 = np.prod(bil2**2)\n",
    "\n",
    "j3 = p3/p4\n",
    "j4 = 1/p3"
   ]
  },
  {
   "cell_type": "code",
   "execution_count": 26,
   "id": "9d84c274",
   "metadata": {},
   "outputs": [
    {
     "name": "stdout",
     "output_type": "stream",
     "text": [
      "jawaban 1 hasilnya adalah 0.041666666666666664 \n",
      "jawaban 2 hasilnya adalah 0.041666666666666664\n"
     ]
    }
   ],
   "source": [
    "print(f'jawaban 1 hasilnya adalah {j3} \\njawaban 2 hasilnya adalah {j4}')"
   ]
  },
  {
   "cell_type": "code",
   "execution_count": 27,
   "id": "e6641128",
   "metadata": {},
   "outputs": [
    {
     "data": {
      "text/plain": [
       "True"
      ]
     },
     "execution_count": 27,
     "metadata": {},
     "output_type": "execute_result"
    }
   ],
   "source": [
    "j3 == j4"
   ]
  },
  {
   "cell_type": "code",
   "execution_count": null,
   "id": "7f024a33",
   "metadata": {},
   "outputs": [],
   "source": []
  }
 ],
 "metadata": {
  "kernelspec": {
   "display_name": "Python 3 (ipykernel)",
   "language": "python",
   "name": "python3"
  },
  "language_info": {
   "codemirror_mode": {
    "name": "ipython",
    "version": 3
   },
   "file_extension": ".py",
   "mimetype": "text/x-python",
   "name": "python",
   "nbconvert_exporter": "python",
   "pygments_lexer": "ipython3",
   "version": "3.9.12"
  }
 },
 "nbformat": 4,
 "nbformat_minor": 5
}
