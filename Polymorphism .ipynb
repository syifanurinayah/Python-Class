{
 "cells": [
  {
   "cell_type": "code",
   "execution_count": 1,
   "id": "c836a43c",
   "metadata": {},
   "outputs": [],
   "source": [
    "class Kucing:\n",
    "    \n",
    "    def __init__(self, nama):\n",
    "        self.nama = nama\n",
    "        \n",
    "    def respon(self):\n",
    "        return self.nama + ' meong meong'"
   ]
  },
  {
   "cell_type": "code",
   "execution_count": 2,
   "id": "2211508c",
   "metadata": {},
   "outputs": [],
   "source": [
    "class Anjing:\n",
    "    \n",
    "    def __init__(self, nama):\n",
    "        self.nama = nama\n",
    "        \n",
    "    def respon(self):\n",
    "        return self.nama + ' guk guk'"
   ]
  },
  {
   "cell_type": "code",
   "execution_count": 3,
   "id": "3c3046b0",
   "metadata": {},
   "outputs": [],
   "source": [
    "ochi = Kucing('ochi')"
   ]
  },
  {
   "cell_type": "code",
   "execution_count": 4,
   "id": "c0c0ca8f",
   "metadata": {},
   "outputs": [],
   "source": [
    "moli = Anjing('moli')"
   ]
  },
  {
   "cell_type": "code",
   "execution_count": 5,
   "id": "b88ff288",
   "metadata": {},
   "outputs": [
    {
     "data": {
      "text/plain": [
       "'ochi meong meong'"
      ]
     },
     "execution_count": 5,
     "metadata": {},
     "output_type": "execute_result"
    }
   ],
   "source": [
    "ochi.respon()"
   ]
  },
  {
   "cell_type": "code",
   "execution_count": 6,
   "id": "26b60344",
   "metadata": {},
   "outputs": [
    {
     "name": "stdout",
     "output_type": "stream",
     "text": [
      "<class '__main__.Kucing'>\n",
      "ochi meong meong\n",
      "<class '__main__.Anjing'>\n",
      "moli guk guk\n"
     ]
    }
   ],
   "source": [
    "for binatang in[ochi,moli]:\n",
    "    print(type(binatang))\n",
    "    print(binatang.respon())"
   ]
  },
  {
   "cell_type": "code",
   "execution_count": 7,
   "id": "11b7c43b",
   "metadata": {},
   "outputs": [],
   "source": [
    "def hewan_ngomong(binatang):\n",
    "    print(binatang.respon())"
   ]
  },
  {
   "cell_type": "code",
   "execution_count": 8,
   "id": "06fcbddd",
   "metadata": {},
   "outputs": [
    {
     "name": "stdout",
     "output_type": "stream",
     "text": [
      "ochi meong meong\n"
     ]
    }
   ],
   "source": [
    "hewan_ngomong(ochi)"
   ]
  },
  {
   "cell_type": "markdown",
   "id": "f0e7b09b",
   "metadata": {},
   "source": [
    "# dunder/method magic"
   ]
  },
  {
   "cell_type": "code",
   "execution_count": 9,
   "id": "a8ae0837",
   "metadata": {},
   "outputs": [],
   "source": [
    "class Coba:\n",
    "    \n",
    "    def __init__(self, nama):\n",
    "        self.nama = nama\n",
    "        \n",
    "    def cetak(self):\n",
    "        return self.nama"
   ]
  },
  {
   "cell_type": "code",
   "execution_count": 10,
   "id": "6e9397bc",
   "metadata": {},
   "outputs": [],
   "source": [
    "coba = Coba('testing')"
   ]
  },
  {
   "cell_type": "code",
   "execution_count": 11,
   "id": "65da088a",
   "metadata": {},
   "outputs": [
    {
     "data": {
      "text/plain": [
       "'testing'"
      ]
     },
     "execution_count": 11,
     "metadata": {},
     "output_type": "execute_result"
    }
   ],
   "source": [
    "coba.cetak()"
   ]
  },
  {
   "cell_type": "code",
   "execution_count": 12,
   "id": "d4b4dfed",
   "metadata": {},
   "outputs": [
    {
     "name": "stdout",
     "output_type": "stream",
     "text": [
      "['__class__', '__delattr__', '__dict__', '__dir__', '__doc__', '__eq__', '__format__', '__ge__', '__getattribute__', '__gt__', '__hash__', '__init__', '__init_subclass__', '__le__', '__lt__', '__module__', '__ne__', '__new__', '__reduce__', '__reduce_ex__', '__repr__', '__setattr__', '__sizeof__', '__str__', '__subclasshook__', '__weakref__', 'cetak', 'nama']\n"
     ]
    }
   ],
   "source": [
    "print(dir(coba))"
   ]
  },
  {
   "cell_type": "code",
   "execution_count": 39,
   "id": "c6e0f1ac",
   "metadata": {},
   "outputs": [],
   "source": [
    "class RekeningBank:\n",
    "      \n",
    "    def __init__(self, tabungan):\n",
    "        self.tabungan = tabungan        \n",
    "\n",
    "    def cek_saldo(self):\n",
    "        print('jumlah saldo anda adalah Rp.{:,}'.format(self.tabungan))\n",
    "        \n",
    "    def menabung(self):\n",
    "        tambah = int(input('masukan yang ingi anda tabung = '))\n",
    "        self.tabungan += tambah # self.tabungan = self.tabungan + tambah\n",
    "        \n",
    "    def tarik(self):\n",
    "        kurang = int(input('masukan yang ingin anda tarik = '))\n",
    "        if self.tabungan < kurang:\n",
    "            print('saldo anda tidak cukup \\nsaldo anda saat ini adalah Rp.{:,}'.format(self.tabungan))\n",
    "        else:\n",
    "            self.tabungan -= kurang # self.tabungan = self.tabungan - kurang\n",
    "            "
   ]
  },
  {
   "cell_type": "code",
   "execution_count": 40,
   "id": "4f037fef",
   "metadata": {},
   "outputs": [],
   "source": [
    "tabunganku = RekeningBank(100000)"
   ]
  },
  {
   "cell_type": "code",
   "execution_count": 41,
   "id": "fbe23947",
   "metadata": {},
   "outputs": [
    {
     "name": "stdout",
     "output_type": "stream",
     "text": [
      "jumlah saldo anda adalah Rp.100,000\n"
     ]
    }
   ],
   "source": [
    "tabunganku.cek_saldo()"
   ]
  },
  {
   "cell_type": "code",
   "execution_count": 43,
   "id": "2451503a",
   "metadata": {},
   "outputs": [
    {
     "name": "stdout",
     "output_type": "stream",
     "text": [
      "masukan yang ingi anda tabung = 2000000\n"
     ]
    }
   ],
   "source": [
    "tabunganku.menabung()"
   ]
  },
  {
   "cell_type": "code",
   "execution_count": 35,
   "id": "cf33db63",
   "metadata": {},
   "outputs": [
    {
     "name": "stdout",
     "output_type": "stream",
     "text": [
      "masukan yang ingin anda tarik = 100000000000\n",
      "saldo anda tidak cukup \n",
      "saldo anda saat ini adalah Rp.20100000\n"
     ]
    }
   ],
   "source": [
    "tabunganku.tarik()"
   ]
  },
  {
   "cell_type": "code",
   "execution_count": null,
   "id": "a60e4277",
   "metadata": {},
   "outputs": [],
   "source": []
  }
 ],
 "metadata": {
  "kernelspec": {
   "display_name": "Python 3 (ipykernel)",
   "language": "python",
   "name": "python3"
  },
  "language_info": {
   "codemirror_mode": {
    "name": "ipython",
    "version": 3
   },
   "file_extension": ".py",
   "mimetype": "text/x-python",
   "name": "python",
   "nbconvert_exporter": "python",
   "pygments_lexer": "ipython3",
   "version": "3.9.12"
  }
 },
 "nbformat": 4,
 "nbformat_minor": 5
}
