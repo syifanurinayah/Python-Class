{
 "cells": [
  {
   "cell_type": "code",
   "execution_count": 2,
   "id": "e93c57da",
   "metadata": {},
   "outputs": [],
   "source": [
    "def jumlah(*args):\n",
    "    return sum((args))"
   ]
  },
  {
   "cell_type": "code",
   "execution_count": 3,
   "id": "1d6a3423",
   "metadata": {},
   "outputs": [
    {
     "data": {
      "text/plain": [
       "209"
      ]
     },
     "execution_count": 3,
     "metadata": {},
     "output_type": "execute_result"
    }
   ],
   "source": [
    "jumlah(29,90,30,50,10)"
   ]
  },
  {
   "cell_type": "code",
   "execution_count": 4,
   "id": "4d9d44b4",
   "metadata": {},
   "outputs": [],
   "source": [
    "def cek_kwargs(**kwargs):\n",
    "    print(kwargs)"
   ]
  },
  {
   "cell_type": "code",
   "execution_count": 5,
   "id": "c869fb4f",
   "metadata": {},
   "outputs": [
    {
     "name": "stdout",
     "output_type": "stream",
     "text": [
      "{'anak': 110}\n"
     ]
    }
   ],
   "source": [
    "cek_kwargs(anak=110)"
   ]
  },
  {
   "cell_type": "code",
   "execution_count": 8,
   "id": "dc736ec4",
   "metadata": {},
   "outputs": [],
   "source": [
    "def cek_berat(**kwargs):\n",
    "    if 'budi' in kwargs:\n",
    "        print('bert budi termasuk ke kaegori {}'.format(kwargs['budi']))\n",
    "    else:\n",
    "        print('budi tidak termasuk ke database kita')"
   ]
  },
  {
   "cell_type": "code",
   "execution_count": 9,
   "id": "0db6d8fa",
   "metadata": {},
   "outputs": [
    {
     "name": "stdout",
     "output_type": "stream",
     "text": [
      "bert budi termasuk ke kaegori gemuk\n"
     ]
    }
   ],
   "source": [
    "cek_berat(budi='gemuk', anton='kurus')"
   ]
  },
  {
   "cell_type": "code",
   "execution_count": 12,
   "id": "ceacbd9d",
   "metadata": {},
   "outputs": [],
   "source": [
    "def fungsiku(*args,**kwargs):\n",
    "    print('saya ingin membeli {} {} secara tunai'.format(args[0], kwargs['makanan']))"
   ]
  },
  {
   "cell_type": "code",
   "execution_count": 13,
   "id": "52983112",
   "metadata": {},
   "outputs": [
    {
     "name": "stdout",
     "output_type": "stream",
     "text": [
      "saya ingin membeli 2 bakso secara tunai\n"
     ]
    }
   ],
   "source": [
    "fungsiku(2,10,15,19,makanan='bakso')"
   ]
  },
  {
   "cell_type": "code",
   "execution_count": null,
   "id": "5ccdf85c",
   "metadata": {},
   "outputs": [],
   "source": []
  }
 ],
 "metadata": {
  "kernelspec": {
   "display_name": "Python 3 (ipykernel)",
   "language": "python",
   "name": "python3"
  },
  "language_info": {
   "codemirror_mode": {
    "name": "ipython",
    "version": 3
   },
   "file_extension": ".py",
   "mimetype": "text/x-python",
   "name": "python",
   "nbconvert_exporter": "python",
   "pygments_lexer": "ipython3",
   "version": "3.9.12"
  }
 },
 "nbformat": 4,
 "nbformat_minor": 5
}
