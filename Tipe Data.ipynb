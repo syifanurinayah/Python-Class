{
 "cells": [
  {
   "cell_type": "code",
   "execution_count": 1,
   "id": "3adb332c",
   "metadata": {},
   "outputs": [],
   "source": [
    "bil = ('ayam',325)"
   ]
  },
  {
   "cell_type": "code",
   "execution_count": 2,
   "id": "6ff78c32",
   "metadata": {},
   "outputs": [
    {
     "ename": "TypeError",
     "evalue": "'tuple' object is not callable",
     "output_type": "error",
     "traceback": [
      "\u001b[1;31m---------------------------------------------------------------------------\u001b[0m",
      "\u001b[1;31mTypeError\u001b[0m                                 Traceback (most recent call last)",
      "Input \u001b[1;32mIn [2]\u001b[0m, in \u001b[0;36m<cell line: 1>\u001b[1;34m()\u001b[0m\n\u001b[1;32m----> 1\u001b[0m \u001b[43mbil\u001b[49m\u001b[43m(\u001b[49m\u001b[38;5;28;43mtype\u001b[39;49m\u001b[43m)\u001b[49m\n",
      "\u001b[1;31mTypeError\u001b[0m: 'tuple' object is not callable"
     ]
    }
   ],
   "source": [
    "bil(type)"
   ]
  },
  {
   "cell_type": "code",
   "execution_count": 3,
   "id": "da7381a9",
   "metadata": {},
   "outputs": [
    {
     "data": {
      "text/plain": [
       "tuple"
      ]
     },
     "execution_count": 3,
     "metadata": {},
     "output_type": "execute_result"
    }
   ],
   "source": [
    "type(bil)"
   ]
  },
  {
   "cell_type": "code",
   "execution_count": 4,
   "id": "39601058",
   "metadata": {},
   "outputs": [],
   "source": [
    "bilangan = ['ikan', 0.24 , 1]"
   ]
  },
  {
   "cell_type": "code",
   "execution_count": 5,
   "id": "a9d409b2",
   "metadata": {},
   "outputs": [
    {
     "data": {
      "text/plain": [
       "list"
      ]
     },
     "execution_count": 5,
     "metadata": {},
     "output_type": "execute_result"
    }
   ],
   "source": [
    "type(bilangan)"
   ]
  },
  {
   "cell_type": "code",
   "execution_count": 6,
   "id": "fe6937c0",
   "metadata": {},
   "outputs": [],
   "source": [
    "bil1 = 100 * 38"
   ]
  },
  {
   "cell_type": "code",
   "execution_count": 7,
   "id": "4f0a62cf",
   "metadata": {},
   "outputs": [
    {
     "data": {
      "text/plain": [
       "3800"
      ]
     },
     "execution_count": 7,
     "metadata": {},
     "output_type": "execute_result"
    }
   ],
   "source": [
    "bil1"
   ]
  },
  {
   "cell_type": "code",
   "execution_count": 9,
   "id": "30b172da",
   "metadata": {},
   "outputs": [
    {
     "ename": "NameError",
     "evalue": "name 'bi11' is not defined",
     "output_type": "error",
     "traceback": [
      "\u001b[1;31m---------------------------------------------------------------------------\u001b[0m",
      "\u001b[1;31mNameError\u001b[0m                                 Traceback (most recent call last)",
      "Input \u001b[1;32mIn [9]\u001b[0m, in \u001b[0;36m<cell line: 1>\u001b[1;34m()\u001b[0m\n\u001b[1;32m----> 1\u001b[0m jumlah \u001b[38;5;241m=\u001b[39m \u001b[43mbi11\u001b[49m \u001b[38;5;241m/\u001b[39m \u001b[38;5;241m17\u001b[39m\n",
      "\u001b[1;31mNameError\u001b[0m: name 'bi11' is not defined"
     ]
    }
   ],
   "source": [
    "jumlah = bi11 / 17"
   ]
  },
  {
   "cell_type": "code",
   "execution_count": 10,
   "id": "62d3f905",
   "metadata": {},
   "outputs": [],
   "source": [
    "jumlah = bil1 / 17"
   ]
  },
  {
   "cell_type": "code",
   "execution_count": 11,
   "id": "3efda1cf",
   "metadata": {},
   "outputs": [
    {
     "data": {
      "text/plain": [
       "223.52941176470588"
      ]
     },
     "execution_count": 11,
     "metadata": {},
     "output_type": "execute_result"
    }
   ],
   "source": [
    "jumlah"
   ]
  },
  {
   "cell_type": "code",
   "execution_count": 12,
   "id": "41623a32",
   "metadata": {},
   "outputs": [
    {
     "data": {
      "text/plain": [
       "float"
      ]
     },
     "execution_count": 12,
     "metadata": {},
     "output_type": "execute_result"
    }
   ],
   "source": [
    "type(jumlah)"
   ]
  },
  {
   "cell_type": "code",
   "execution_count": 13,
   "id": "abbfd39a",
   "metadata": {},
   "outputs": [
    {
     "data": {
      "text/plain": [
       "'Beljar Python'"
      ]
     },
     "execution_count": 13,
     "metadata": {},
     "output_type": "execute_result"
    }
   ],
   "source": [
    "\"Beljar Python\""
   ]
  },
  {
   "cell_type": "code",
   "execution_count": 14,
   "id": "496d5b96",
   "metadata": {},
   "outputs": [
    {
     "data": {
      "text/plain": [
       "'jar'"
      ]
     },
     "execution_count": 14,
     "metadata": {},
     "output_type": "execute_result"
    }
   ],
   "source": [
    "\"Belajar Python\"[4:7]"
   ]
  },
  {
   "cell_type": "code",
   "execution_count": 15,
   "id": "7d9ba610",
   "metadata": {},
   "outputs": [
    {
     "data": {
      "text/plain": [
       "'jar Pyth'"
      ]
     },
     "execution_count": 15,
     "metadata": {},
     "output_type": "execute_result"
    }
   ],
   "source": [
    "\"Belajar Python\"[4:-2]"
   ]
  },
  {
   "cell_type": "code",
   "execution_count": 16,
   "id": "288077e0",
   "metadata": {},
   "outputs": [],
   "source": [
    "item = [1,2,3,4,5,6,7,8,9,10,11]"
   ]
  },
  {
   "cell_type": "code",
   "execution_count": 17,
   "id": "9820b685",
   "metadata": {},
   "outputs": [
    {
     "data": {
      "text/plain": [
       "[1, 2, 3, 4, 5, 6, 7, 8, 9, 10, 11]"
      ]
     },
     "execution_count": 17,
     "metadata": {},
     "output_type": "execute_result"
    }
   ],
   "source": [
    "item"
   ]
  },
  {
   "cell_type": "code",
   "execution_count": null,
   "id": "a14f2d91",
   "metadata": {},
   "outputs": [],
   "source": [
    "item[]"
   ]
  }
 ],
 "metadata": {
  "kernelspec": {
   "display_name": "Python 3 (ipykernel)",
   "language": "python",
   "name": "python3"
  },
  "language_info": {
   "codemirror_mode": {
    "name": "ipython",
    "version": 3
   },
   "file_extension": ".py",
   "mimetype": "text/x-python",
   "name": "python",
   "nbconvert_exporter": "python",
   "pygments_lexer": "ipython3",
   "version": "3.9.12"
  }
 },
 "nbformat": 4,
 "nbformat_minor": 5
}
