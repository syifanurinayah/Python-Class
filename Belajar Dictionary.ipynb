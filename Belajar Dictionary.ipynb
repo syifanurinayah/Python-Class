{
 "cells": [
  {
   "cell_type": "markdown",
   "id": "5d16daf2",
   "metadata": {},
   "source": [
    "# Belajar dictionries"
   ]
  },
  {
   "cell_type": "code",
   "execution_count": 1,
   "id": "5d5a9f5b",
   "metadata": {},
   "outputs": [],
   "source": [
    "dict1 = {'key1':'ayam', 'k2':'rubah', 'k3':'kucing', 'k4':'anjing'}"
   ]
  },
  {
   "cell_type": "code",
   "execution_count": 2,
   "id": "b3850a4e",
   "metadata": {},
   "outputs": [
    {
     "data": {
      "text/plain": [
       "dict"
      ]
     },
     "execution_count": 2,
     "metadata": {},
     "output_type": "execute_result"
    }
   ],
   "source": [
    "type(dict1)"
   ]
  },
  {
   "cell_type": "code",
   "execution_count": 3,
   "id": "39b1aae4",
   "metadata": {},
   "outputs": [
    {
     "data": {
      "text/plain": [
       "{'key1': 'ayam', 'k2': 'rubah', 'k3': 'kucing', 'k4': 'anjing'}"
      ]
     },
     "execution_count": 3,
     "metadata": {},
     "output_type": "execute_result"
    }
   ],
   "source": [
    "dict1"
   ]
  },
  {
   "cell_type": "code",
   "execution_count": 4,
   "id": "a2c7340c",
   "metadata": {},
   "outputs": [
    {
     "data": {
      "text/plain": [
       "'kucing'"
      ]
     },
     "execution_count": 4,
     "metadata": {},
     "output_type": "execute_result"
    }
   ],
   "source": [
    "dict1['k3']"
   ]
  },
  {
   "cell_type": "code",
   "execution_count": 5,
   "id": "9dc1cfe9",
   "metadata": {},
   "outputs": [],
   "source": [
    "dict2 = {'k1':'kucing', 'k2':20, 'k3':20.30, 'k4':['a','b',1,2,3,4,5,6,7,8], 'k5':{'a1':'nanas', 'a2':'anggur', 'a3':'strauberi'}}"
   ]
  },
  {
   "cell_type": "code",
   "execution_count": 6,
   "id": "50c45429",
   "metadata": {},
   "outputs": [
    {
     "data": {
      "text/plain": [
       "{'k1': 'kucing',\n",
       " 'k2': 20,\n",
       " 'k3': 20.3,\n",
       " 'k4': ['a', 'b', 1, 2, 3, 4, 5, 6, 7, 8],\n",
       " 'k5': {'a1': 'nanas', 'a2': 'anggur', 'a3': 'strauberi'}}"
      ]
     },
     "execution_count": 6,
     "metadata": {},
     "output_type": "execute_result"
    }
   ],
   "source": [
    "dict2"
   ]
  },
  {
   "cell_type": "code",
   "execution_count": 7,
   "id": "4b304829",
   "metadata": {},
   "outputs": [
    {
     "ename": "NameError",
     "evalue": "name 'k4' is not defined",
     "output_type": "error",
     "traceback": [
      "\u001b[1;31m---------------------------------------------------------------------------\u001b[0m",
      "\u001b[1;31mNameError\u001b[0m                                 Traceback (most recent call last)",
      "Input \u001b[1;32mIn [7]\u001b[0m, in \u001b[0;36m<cell line: 1>\u001b[1;34m()\u001b[0m\n\u001b[1;32m----> 1\u001b[0m dict2[\u001b[43mk4\u001b[49m][\u001b[38;5;241m3\u001b[39m]\n",
      "\u001b[1;31mNameError\u001b[0m: name 'k4' is not defined"
     ]
    }
   ],
   "source": [
    "dict2[k4][3]"
   ]
  },
  {
   "cell_type": "code",
   "execution_count": 8,
   "id": "b6489c7d",
   "metadata": {},
   "outputs": [
    {
     "ename": "NameError",
     "evalue": "name 'k4' is not defined",
     "output_type": "error",
     "traceback": [
      "\u001b[1;31m---------------------------------------------------------------------------\u001b[0m",
      "\u001b[1;31mNameError\u001b[0m                                 Traceback (most recent call last)",
      "Input \u001b[1;32mIn [8]\u001b[0m, in \u001b[0;36m<cell line: 1>\u001b[1;34m()\u001b[0m\n\u001b[1;32m----> 1\u001b[0m dict2[\u001b[43mk4\u001b[49m]\n",
      "\u001b[1;31mNameError\u001b[0m: name 'k4' is not defined"
     ]
    }
   ],
   "source": [
    "dict2[k4]"
   ]
  },
  {
   "cell_type": "code",
   "execution_count": 9,
   "id": "197337c9",
   "metadata": {},
   "outputs": [
    {
     "data": {
      "text/plain": [
       "['a', 'b', 1, 2, 3, 4, 5, 6, 7, 8]"
      ]
     },
     "execution_count": 9,
     "metadata": {},
     "output_type": "execute_result"
    }
   ],
   "source": [
    "dict2['k4']"
   ]
  },
  {
   "cell_type": "code",
   "execution_count": 10,
   "id": "38f41499",
   "metadata": {},
   "outputs": [
    {
     "data": {
      "text/plain": [
       "2"
      ]
     },
     "execution_count": 10,
     "metadata": {},
     "output_type": "execute_result"
    }
   ],
   "source": [
    "dict2['k4'][3]"
   ]
  },
  {
   "cell_type": "code",
   "execution_count": 11,
   "id": "de571afc",
   "metadata": {},
   "outputs": [],
   "source": [
    "dict2['k4'] = [10,11,20,2.4,3.7]"
   ]
  },
  {
   "cell_type": "code",
   "execution_count": 12,
   "id": "86e02c21",
   "metadata": {},
   "outputs": [
    {
     "data": {
      "text/plain": [
       "{'k1': 'kucing',\n",
       " 'k2': 20,\n",
       " 'k3': 20.3,\n",
       " 'k4': [10, 11, 20, 2.4, 3.7],\n",
       " 'k5': {'a1': 'nanas', 'a2': 'anggur', 'a3': 'strauberi'}}"
      ]
     },
     "execution_count": 12,
     "metadata": {},
     "output_type": "execute_result"
    }
   ],
   "source": [
    "dict2"
   ]
  },
  {
   "cell_type": "markdown",
   "id": "e7b8b88e",
   "metadata": {},
   "source": [
    "## Method dictioneris"
   ]
  },
  {
   "cell_type": "code",
   "execution_count": 13,
   "id": "4095d196",
   "metadata": {},
   "outputs": [
    {
     "data": {
      "text/plain": [
       "dict_keys(['k1', 'k2', 'k3', 'k4', 'k5'])"
      ]
     },
     "execution_count": 13,
     "metadata": {},
     "output_type": "execute_result"
    }
   ],
   "source": [
    "dict2.keys()"
   ]
  },
  {
   "cell_type": "code",
   "execution_count": 14,
   "id": "c62657d0",
   "metadata": {},
   "outputs": [
    {
     "data": {
      "text/plain": [
       "dict_values(['kucing', 20, 20.3, [10, 11, 20, 2.4, 3.7], {'a1': 'nanas', 'a2': 'anggur', 'a3': 'strauberi'}])"
      ]
     },
     "execution_count": 14,
     "metadata": {},
     "output_type": "execute_result"
    }
   ],
   "source": [
    "dict2.values()"
   ]
  },
  {
   "cell_type": "code",
   "execution_count": 15,
   "id": "12d34470",
   "metadata": {},
   "outputs": [
    {
     "data": {
      "text/plain": [
       "dict_items([('k1', 'kucing'), ('k2', 20), ('k3', 20.3), ('k4', [10, 11, 20, 2.4, 3.7]), ('k5', {'a1': 'nanas', 'a2': 'anggur', 'a3': 'strauberi'})])"
      ]
     },
     "execution_count": 15,
     "metadata": {},
     "output_type": "execute_result"
    }
   ],
   "source": [
    "dict2.items()"
   ]
  },
  {
   "cell_type": "code",
   "execution_count": 16,
   "id": "d54c54ac",
   "metadata": {},
   "outputs": [],
   "source": [
    "dict2['k5']['a3'] = 'STRAWBERI'"
   ]
  },
  {
   "cell_type": "code",
   "execution_count": 17,
   "id": "f473cbd9",
   "metadata": {},
   "outputs": [
    {
     "data": {
      "text/plain": [
       "{'k1': 'kucing',\n",
       " 'k2': 20,\n",
       " 'k3': 20.3,\n",
       " 'k4': [10, 11, 20, 2.4, 3.7],\n",
       " 'k5': {'a1': 'nanas', 'a2': 'anggur', 'a3': 'STRAWBERI'}}"
      ]
     },
     "execution_count": 17,
     "metadata": {},
     "output_type": "execute_result"
    }
   ],
   "source": [
    "dict2"
   ]
  },
  {
   "cell_type": "code",
   "execution_count": 18,
   "id": "05685751",
   "metadata": {},
   "outputs": [],
   "source": [
    "besaar = dict2['k5']['a3'].upper()"
   ]
  },
  {
   "cell_type": "code",
   "execution_count": 19,
   "id": "b119426b",
   "metadata": {},
   "outputs": [
    {
     "data": {
      "text/plain": [
       "'STRAWBERI'"
      ]
     },
     "execution_count": 19,
     "metadata": {},
     "output_type": "execute_result"
    }
   ],
   "source": [
    "besaar"
   ]
  },
  {
   "cell_type": "code",
   "execution_count": 20,
   "id": "7df86119",
   "metadata": {},
   "outputs": [],
   "source": [
    "besar_lain = dict2['k1'].upper()"
   ]
  },
  {
   "cell_type": "code",
   "execution_count": 21,
   "id": "f3ee0ab2",
   "metadata": {},
   "outputs": [
    {
     "data": {
      "text/plain": [
       "'KUCING'"
      ]
     },
     "execution_count": 21,
     "metadata": {},
     "output_type": "execute_result"
    }
   ],
   "source": [
    "besar_lain"
   ]
  },
  {
   "cell_type": "code",
   "execution_count": 22,
   "id": "4d05f07a",
   "metadata": {},
   "outputs": [
    {
     "ename": "TypeError",
     "evalue": "unsupported operand type(s) for +: 'dict' and 'str'",
     "output_type": "error",
     "traceback": [
      "\u001b[1;31m---------------------------------------------------------------------------\u001b[0m",
      "\u001b[1;31mTypeError\u001b[0m                                 Traceback (most recent call last)",
      "Input \u001b[1;32mIn [22]\u001b[0m, in \u001b[0;36m<cell line: 1>\u001b[1;34m()\u001b[0m\n\u001b[1;32m----> 1\u001b[0m \u001b[43mdict2\u001b[49m\u001b[43m \u001b[49m\u001b[38;5;241;43m+\u001b[39;49m\u001b[43m \u001b[49m\u001b[43mbesar_lain\u001b[49m\n",
      "\u001b[1;31mTypeError\u001b[0m: unsupported operand type(s) for +: 'dict' and 'str'"
     ]
    }
   ],
   "source": [
    "dict2 + besar_lain"
   ]
  },
  {
   "cell_type": "code",
   "execution_count": 23,
   "id": "29d1ab0d",
   "metadata": {},
   "outputs": [
    {
     "ename": "TypeError",
     "evalue": "unsupported operand type(s) for +: 'dict' and 'str'",
     "output_type": "error",
     "traceback": [
      "\u001b[1;31m---------------------------------------------------------------------------\u001b[0m",
      "\u001b[1;31mTypeError\u001b[0m                                 Traceback (most recent call last)",
      "Input \u001b[1;32mIn [23]\u001b[0m, in \u001b[0;36m<cell line: 1>\u001b[1;34m()\u001b[0m\n\u001b[1;32m----> 1\u001b[0m dict2 \u001b[38;5;241m=\u001b[39m \u001b[43mdict2\u001b[49m\u001b[43m \u001b[49m\u001b[38;5;241;43m+\u001b[39;49m\u001b[43m \u001b[49m\u001b[43mbesar_lain\u001b[49m\n",
      "\u001b[1;31mTypeError\u001b[0m: unsupported operand type(s) for +: 'dict' and 'str'"
     ]
    }
   ],
   "source": [
    "dict2 = dict2 + besar_lain"
   ]
  },
  {
   "cell_type": "code",
   "execution_count": 24,
   "id": "8b7e930d",
   "metadata": {},
   "outputs": [],
   "source": [
    "dict2 = dict2, besar_lain"
   ]
  },
  {
   "cell_type": "code",
   "execution_count": 25,
   "id": "c770edbd",
   "metadata": {},
   "outputs": [
    {
     "data": {
      "text/plain": [
       "({'k1': 'kucing',\n",
       "  'k2': 20,\n",
       "  'k3': 20.3,\n",
       "  'k4': [10, 11, 20, 2.4, 3.7],\n",
       "  'k5': {'a1': 'nanas', 'a2': 'anggur', 'a3': 'STRAWBERI'}},\n",
       " 'KUCING')"
      ]
     },
     "execution_count": 25,
     "metadata": {},
     "output_type": "execute_result"
    }
   ],
   "source": [
    "dict2"
   ]
  },
  {
   "cell_type": "code",
   "execution_count": null,
   "id": "07e66fbd",
   "metadata": {},
   "outputs": [],
   "source": [
    "di"
   ]
  }
 ],
 "metadata": {
  "kernelspec": {
   "display_name": "Python 3 (ipykernel)",
   "language": "python",
   "name": "python3"
  },
  "language_info": {
   "codemirror_mode": {
    "name": "ipython",
    "version": 3
   },
   "file_extension": ".py",
   "mimetype": "text/x-python",
   "name": "python",
   "nbconvert_exporter": "python",
   "pygments_lexer": "ipython3",
   "version": "3.9.12"
  }
 },
 "nbformat": 4,
 "nbformat_minor": 5
}
