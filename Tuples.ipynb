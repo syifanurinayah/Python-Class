{
 "cells": [
  {
   "cell_type": "raw",
   "id": "2d624d62",
   "metadata": {},
   "source": [
    "# Tuples"
   ]
  },
  {
   "cell_type": "markdown",
   "id": "030bd632",
   "metadata": {},
   "source": [
    "### Tuples bersifat immutable (tidak bisa di rubah isinya"
   ]
  },
  {
   "cell_type": "code",
   "execution_count": 1,
   "id": "b2dca102",
   "metadata": {},
   "outputs": [],
   "source": [
    "keranjang = ('ayam',2,[3,4,5,6])"
   ]
  },
  {
   "cell_type": "code",
   "execution_count": 2,
   "id": "f559dd83",
   "metadata": {},
   "outputs": [
    {
     "data": {
      "text/plain": [
       "('ayam', 2, [3, 4, 5, 6])"
      ]
     },
     "execution_count": 2,
     "metadata": {},
     "output_type": "execute_result"
    }
   ],
   "source": [
    "keranjang"
   ]
  },
  {
   "cell_type": "code",
   "execution_count": 3,
   "id": "388f5f3d",
   "metadata": {},
   "outputs": [
    {
     "ename": "NameError",
     "evalue": "name 'typepe' is not defined",
     "output_type": "error",
     "traceback": [
      "\u001b[1;31m---------------------------------------------------------------------------\u001b[0m",
      "\u001b[1;31mNameError\u001b[0m                                 Traceback (most recent call last)",
      "Input \u001b[1;32mIn [3]\u001b[0m, in \u001b[0;36m<cell line: 1>\u001b[1;34m()\u001b[0m\n\u001b[1;32m----> 1\u001b[0m \u001b[43mtypepe\u001b[49m(keranjang)\n",
      "\u001b[1;31mNameError\u001b[0m: name 'typepe' is not defined"
     ]
    }
   ],
   "source": [
    "typepe(keranjang)"
   ]
  },
  {
   "cell_type": "code",
   "execution_count": 4,
   "id": "eabc216d",
   "metadata": {},
   "outputs": [
    {
     "data": {
      "text/plain": [
       "tuple"
      ]
     },
     "execution_count": 4,
     "metadata": {},
     "output_type": "execute_result"
    }
   ],
   "source": [
    "type(keranjang)"
   ]
  },
  {
   "cell_type": "markdown",
   "id": "71893c47",
   "metadata": {},
   "source": [
    "# untuk merubh isi tuple"
   ]
  },
  {
   "cell_type": "markdown",
   "id": "60dc4593",
   "metadata": {},
   "source": [
    "### jadikan list terlebih dahulu, setelah isinya di rubah kemballikan lagi menjadi tuple"
   ]
  },
  {
   "cell_type": "code",
   "execution_count": 5,
   "id": "c5698ef1",
   "metadata": {},
   "outputs": [],
   "source": [
    "keranjang = list(keranjang)"
   ]
  },
  {
   "cell_type": "code",
   "execution_count": 6,
   "id": "b15a8166",
   "metadata": {},
   "outputs": [
    {
     "data": {
      "text/plain": [
       "['ayam', 2, [3, 4, 5, 6]]"
      ]
     },
     "execution_count": 6,
     "metadata": {},
     "output_type": "execute_result"
    }
   ],
   "source": [
    "keranjang"
   ]
  },
  {
   "cell_type": "code",
   "execution_count": 7,
   "id": "a78b66f5",
   "metadata": {},
   "outputs": [],
   "source": [
    "keranjang[1] = 'kucing'"
   ]
  },
  {
   "cell_type": "code",
   "execution_count": 8,
   "id": "22a84311",
   "metadata": {},
   "outputs": [
    {
     "data": {
      "text/plain": [
       "['ayam', 'kucing', [3, 4, 5, 6]]"
      ]
     },
     "execution_count": 8,
     "metadata": {},
     "output_type": "execute_result"
    }
   ],
   "source": [
    "keranjang"
   ]
  },
  {
   "cell_type": "code",
   "execution_count": 9,
   "id": "d9d1209f",
   "metadata": {},
   "outputs": [],
   "source": [
    "keranjang[2][1] = 20"
   ]
  },
  {
   "cell_type": "code",
   "execution_count": 10,
   "id": "aa94c0fc",
   "metadata": {},
   "outputs": [
    {
     "data": {
      "text/plain": [
       "['ayam', 'kucing', [3, 20, 5, 6]]"
      ]
     },
     "execution_count": 10,
     "metadata": {},
     "output_type": "execute_result"
    }
   ],
   "source": [
    "keranjang"
   ]
  },
  {
   "cell_type": "code",
   "execution_count": null,
   "id": "a79c402d",
   "metadata": {},
   "outputs": [],
   "source": []
  }
 ],
 "metadata": {
  "kernelspec": {
   "display_name": "Python 3 (ipykernel)",
   "language": "python",
   "name": "python3"
  },
  "language_info": {
   "codemirror_mode": {
    "name": "ipython",
    "version": 3
   },
   "file_extension": ".py",
   "mimetype": "text/x-python",
   "name": "python",
   "nbconvert_exporter": "python",
   "pygments_lexer": "ipython3",
   "version": "3.9.12"
  }
 },
 "nbformat": 4,
 "nbformat_minor": 5
}
