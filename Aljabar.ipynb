{
 "cells": [
  {
   "cell_type": "code",
   "execution_count": 1,
   "id": "c92dac41",
   "metadata": {},
   "outputs": [],
   "source": [
    "import sympy as sym\n",
    "from IPython.display import display, Math "
   ]
  },
  {
   "cell_type": "code",
   "execution_count": 2,
   "id": "8c06c741",
   "metadata": {},
   "outputs": [
    {
     "data": {
      "text/latex": [
       "$\\displaystyle x$"
      ],
      "text/plain": [
       "x"
      ]
     },
     "execution_count": 2,
     "metadata": {},
     "output_type": "execute_result"
    }
   ],
   "source": [
    "x = sym.symbols('x')\n",
    "x"
   ]
  },
  {
   "cell_type": "code",
   "execution_count": 3,
   "id": "57c13664",
   "metadata": {},
   "outputs": [
    {
     "data": {
      "text/latex": [
       "$\\displaystyle x + 10$"
      ],
      "text/plain": [
       "x + 10"
      ]
     },
     "execution_count": 3,
     "metadata": {},
     "output_type": "execute_result"
    }
   ],
   "source": [
    "x+10"
   ]
  },
  {
   "cell_type": "code",
   "execution_count": 4,
   "id": "b14c3399",
   "metadata": {},
   "outputs": [
    {
     "data": {
      "text/latex": [
       "$\\displaystyle x^{4} + 6$"
      ],
      "text/plain": [
       "x**4 + 6"
      ]
     },
     "execution_count": 4,
     "metadata": {},
     "output_type": "execute_result"
    }
   ],
   "source": [
    "x**4+6"
   ]
  },
  {
   "cell_type": "code",
   "execution_count": 5,
   "id": "67c5579b",
   "metadata": {},
   "outputs": [],
   "source": [
    "y,z = sym.symbols('y,z')"
   ]
  },
  {
   "cell_type": "code",
   "execution_count": 6,
   "id": "f6ab7f2d",
   "metadata": {},
   "outputs": [
    {
     "data": {
      "text/latex": [
       "$\\displaystyle \\frac{x}{y}$"
      ],
      "text/plain": [
       "x/y"
      ]
     },
     "execution_count": 6,
     "metadata": {},
     "output_type": "execute_result"
    }
   ],
   "source": [
    "x/y"
   ]
  },
  {
   "cell_type": "code",
   "execution_count": 7,
   "id": "f510ff01",
   "metadata": {},
   "outputs": [
    {
     "data": {
      "text/latex": [
       "$\\displaystyle \\sqrt{6}$"
      ],
      "text/plain": [
       "sqrt(6)"
      ]
     },
     "metadata": {},
     "output_type": "display_data"
    }
   ],
   "source": [
    "# jika hanya ingin menamilkan akar\n",
    "display(sym.sqrt(6))"
   ]
  },
  {
   "cell_type": "code",
   "execution_count": 8,
   "id": "5b08b8d9",
   "metadata": {},
   "outputs": [],
   "source": [
    "import numpy as np\n",
    "import math"
   ]
  },
  {
   "cell_type": "code",
   "execution_count": 9,
   "id": "0a1515e3",
   "metadata": {},
   "outputs": [
    {
     "data": {
      "text/plain": [
       "2.449489742783178"
      ]
     },
     "execution_count": 9,
     "metadata": {},
     "output_type": "execute_result"
    }
   ],
   "source": [
    "np.sqrt(6)"
   ]
  },
  {
   "cell_type": "code",
   "execution_count": 10,
   "id": "71003ccc",
   "metadata": {},
   "outputs": [
    {
     "data": {
      "text/plain": [
       "2.449489742783178"
      ]
     },
     "execution_count": 10,
     "metadata": {},
     "output_type": "execute_result"
    }
   ],
   "source": [
    "math.sqrt(6)"
   ]
  },
  {
   "cell_type": "code",
   "execution_count": 14,
   "id": "4de9bd53",
   "metadata": {},
   "outputs": [
    {
     "data": {
      "text/latex": [
       "$\\displaystyle \\sigma = \\frac{\\mu}{\\sqrt{x+y^{25z}}}$"
      ],
      "text/plain": [
       "<IPython.core.display.Math object>"
      ]
     },
     "metadata": {},
     "output_type": "display_data"
    }
   ],
   "source": [
    "display(Math('\\\\sigma = \\\\frac{\\\\mu}{\\\\sqrt{x+y^{25z}}}'))"
   ]
  },
  {
   "cell_type": "code",
   "execution_count": 16,
   "id": "8adebf7e",
   "metadata": {},
   "outputs": [
    {
     "data": {
      "text/latex": [
       "$\\displaystyle z_{k}$"
      ],
      "text/plain": [
       "<IPython.core.display.Math object>"
      ]
     },
     "metadata": {},
     "output_type": "display_data"
    }
   ],
   "source": [
    "display(Math('z_{k}'))"
   ]
  },
  {
   "cell_type": "code",
   "execution_count": 20,
   "id": "f4394b38",
   "metadata": {},
   "outputs": [
    {
     "data": {
      "text/latex": [
       "$\\displaystyle \\text{Jawaban dari persamaan adalah = } \\frac{x}{y^{15}}$"
      ],
      "text/plain": [
       "<IPython.core.display.Math object>"
      ]
     },
     "metadata": {},
     "output_type": "display_data"
    }
   ],
   "source": [
    "display(Math('\\\\text{Jawaban dari persamaan adalah = } \\\\frac{x}{y^{15}}'))"
   ]
  },
  {
   "cell_type": "markdown",
   "id": "c41c40c6",
   "metadata": {},
   "source": [
    "$$ \\text{ini adalah ujicoba markdown}\\frac{x}{y_{z}} $$"
   ]
  },
  {
   "cell_type": "code",
   "execution_count": 22,
   "id": "e2fccb9d",
   "metadata": {},
   "outputs": [
    {
     "data": {
      "text/latex": [
       "$\\displaystyle \\sin{3\\pi + \\theta}$"
      ],
      "text/plain": [
       "<IPython.core.display.Math object>"
      ]
     },
     "metadata": {},
     "output_type": "display_data"
    }
   ],
   "source": [
    "display(Math('\\\\sin{3\\\\pi + \\\\theta}'))"
   ]
  },
  {
   "cell_type": "code",
   "execution_count": 23,
   "id": "8f51e231",
   "metadata": {},
   "outputs": [
    {
     "data": {
      "text/latex": [
       "$\\displaystyle e = mc^2$"
      ],
      "text/plain": [
       "<IPython.core.display.Math object>"
      ]
     },
     "metadata": {},
     "output_type": "display_data"
    }
   ],
   "source": [
    "# rumus einsten E = MC Kuadrat\n",
    "display(Math('e = mc^2'))"
   ]
  },
  {
   "cell_type": "code",
   "execution_count": 24,
   "id": "340db386",
   "metadata": {},
   "outputs": [],
   "source": [
    "mu, alpha, sigma = sym.symbols('mu, alpha, sigma')"
   ]
  },
  {
   "cell_type": "code",
   "execution_count": 28,
   "id": "f5059964",
   "metadata": {},
   "outputs": [],
   "source": [
    "p = mu + 45 + sym.exp(sigma+alpha)"
   ]
  },
  {
   "cell_type": "code",
   "execution_count": 29,
   "id": "eecc7813",
   "metadata": {},
   "outputs": [
    {
     "data": {
      "text/latex": [
       "$\\displaystyle \\mu + e^{\\alpha + \\sigma} + 45$"
      ],
      "text/plain": [
       "mu + exp(alpha + sigma) + 45"
      ]
     },
     "metadata": {},
     "output_type": "display_data"
    }
   ],
   "source": [
    "display(p)"
   ]
  },
  {
   "cell_type": "code",
   "execution_count": 30,
   "id": "d91c9d3c",
   "metadata": {},
   "outputs": [],
   "source": [
    "x,y,z = sym.symbols('x,y,z')"
   ]
  },
  {
   "cell_type": "code",
   "execution_count": 31,
   "id": "b066f78e",
   "metadata": {},
   "outputs": [],
   "source": [
    "p = x+10"
   ]
  },
  {
   "cell_type": "code",
   "execution_count": 32,
   "id": "31c18639",
   "metadata": {},
   "outputs": [
    {
     "data": {
      "text/latex": [
       "$\\displaystyle 14$"
      ],
      "text/plain": [
       "14"
      ]
     },
     "execution_count": 32,
     "metadata": {},
     "output_type": "execute_result"
    }
   ],
   "source": [
    "p.subs(x,4)"
   ]
  },
  {
   "cell_type": "code",
   "execution_count": 33,
   "id": "64599cff",
   "metadata": {},
   "outputs": [],
   "source": [
    "p = x+10+4**y"
   ]
  },
  {
   "cell_type": "code",
   "execution_count": 34,
   "id": "bd0e331a",
   "metadata": {},
   "outputs": [
    {
     "data": {
      "text/latex": [
       "$\\displaystyle 4^{y} + 20$"
      ],
      "text/plain": [
       "4**y + 20"
      ]
     },
     "execution_count": 34,
     "metadata": {},
     "output_type": "execute_result"
    }
   ],
   "source": [
    "p.subs(x,10)"
   ]
  },
  {
   "cell_type": "code",
   "execution_count": 35,
   "id": "4b1e18be",
   "metadata": {},
   "outputs": [
    {
     "data": {
      "text/latex": [
       "$\\displaystyle 4116$"
      ],
      "text/plain": [
       "4116"
      ]
     },
     "execution_count": 35,
     "metadata": {},
     "output_type": "execute_result"
    }
   ],
   "source": [
    "p.subs({x:10, y:6})"
   ]
  },
  {
   "cell_type": "markdown",
   "id": "ea5a4de1",
   "metadata": {},
   "source": [
    "# Memecahkan persoalan aljabar"
   ]
  },
  {
   "cell_type": "code",
   "execution_count": 36,
   "id": "960fa53e",
   "metadata": {},
   "outputs": [],
   "source": [
    "x = sym.symbols('x')"
   ]
  },
  {
   "cell_type": "code",
   "execution_count": 37,
   "id": "0f23ad92",
   "metadata": {},
   "outputs": [],
   "source": [
    "p = 5*x + 5 - 20"
   ]
  },
  {
   "cell_type": "code",
   "execution_count": 38,
   "id": "62c6831a",
   "metadata": {},
   "outputs": [
    {
     "data": {
      "text/plain": [
       "[3]"
      ]
     },
     "execution_count": 38,
     "metadata": {},
     "output_type": "execute_result"
    }
   ],
   "source": [
    "sym.solve(p)"
   ]
  },
  {
   "cell_type": "code",
   "execution_count": 41,
   "id": "35ef76cc",
   "metadata": {},
   "outputs": [
    {
     "data": {
      "text/latex": [
       "$\\displaystyle \\text{Solusi dari persamaan }5 x - 15 \\text{ adalah x = }3$"
      ],
      "text/plain": [
       "<IPython.core.display.Math object>"
      ]
     },
     "metadata": {},
     "output_type": "display_data"
    }
   ],
   "source": [
    "display(Math('\\\\text{Solusi dari persamaan }%s \\\\text{ adalah x = }%g' %(sym.latex(p), sym.solve(p)[0])))"
   ]
  },
  {
   "cell_type": "code",
   "execution_count": 42,
   "id": "9346602b",
   "metadata": {},
   "outputs": [
    {
     "data": {
      "text/plain": [
       "[-2, 2]"
      ]
     },
     "execution_count": 42,
     "metadata": {},
     "output_type": "execute_result"
    }
   ],
   "source": [
    "p2 = x**2 - 4\n",
    "sym.solve(p2)"
   ]
  },
  {
   "cell_type": "code",
   "execution_count": 43,
   "id": "6e0e3415",
   "metadata": {},
   "outputs": [
    {
     "name": "stdout",
     "output_type": "stream",
     "text": [
      "Solusi #1 adalah -2\n",
      "Solusi #2 adalah 2\n"
     ]
    }
   ],
   "source": [
    "jawab = sym.solve(p2)\n",
    "\n",
    "for i in range(0,len(jawab)):\n",
    "    print('Solusi #' + str(i+1) + ' adalah ' + str(jawab[i]))"
   ]
  },
  {
   "cell_type": "code",
   "execution_count": 44,
   "id": "cba4125b",
   "metadata": {},
   "outputs": [],
   "source": [
    "y = sym.symbols('y')"
   ]
  },
  {
   "cell_type": "code",
   "execution_count": 45,
   "id": "110e4400",
   "metadata": {},
   "outputs": [],
   "source": [
    "p3 = x/10 - x*y + 50 "
   ]
  },
  {
   "cell_type": "code",
   "execution_count": 46,
   "id": "25b8ef84",
   "metadata": {},
   "outputs": [
    {
     "data": {
      "text/plain": [
       "[500/(10*y - 1)]"
      ]
     },
     "execution_count": 46,
     "metadata": {},
     "output_type": "execute_result"
    }
   ],
   "source": [
    "sym.solve(p3,x)"
   ]
  },
  {
   "cell_type": "code",
   "execution_count": 47,
   "id": "9db0b122",
   "metadata": {},
   "outputs": [
    {
     "data": {
      "text/plain": [
       "[(x + 500)/(10*x)]"
      ]
     },
     "execution_count": 47,
     "metadata": {},
     "output_type": "execute_result"
    }
   ],
   "source": [
    "sym.solve(p3,y)"
   ]
  }
 ],
 "metadata": {
  "kernelspec": {
   "display_name": "Python 3 (ipykernel)",
   "language": "python",
   "name": "python3"
  },
  "language_info": {
   "codemirror_mode": {
    "name": "ipython",
    "version": 3
   },
   "file_extension": ".py",
   "mimetype": "text/x-python",
   "name": "python",
   "nbconvert_exporter": "python",
   "pygments_lexer": "ipython3",
   "version": "3.9.12"
  }
 },
 "nbformat": 4,
 "nbformat_minor": 5
}
