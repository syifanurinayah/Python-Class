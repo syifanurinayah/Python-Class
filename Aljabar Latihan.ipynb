{
 "cells": [
  {
   "cell_type": "code",
   "execution_count": 1,
   "id": "706523ba",
   "metadata": {},
   "outputs": [],
   "source": [
    "import sympy as sym\n",
    "from IPython.display import display, Math "
   ]
  },
  {
   "cell_type": "code",
   "execution_count": 2,
   "id": "78e2985c",
   "metadata": {},
   "outputs": [],
   "source": [
    "x = sym.symbols('x')"
   ]
  },
  {
   "cell_type": "code",
   "execution_count": 10,
   "id": "fe297496",
   "metadata": {},
   "outputs": [],
   "source": [
    "t = x**2-1/x-1"
   ]
  },
  {
   "cell_type": "code",
   "execution_count": 11,
   "id": "d4294f59",
   "metadata": {},
   "outputs": [
    {
     "data": {
      "text/latex": [
       "$\\displaystyle x^{2} - 1 - \\frac{1}{x}$"
      ],
      "text/plain": [
       "x**2 - 1 - 1/x"
      ]
     },
     "execution_count": 11,
     "metadata": {},
     "output_type": "execute_result"
    }
   ],
   "source": [
    "t"
   ]
  },
  {
   "cell_type": "code",
   "execution_count": 12,
   "id": "b66dc71e",
   "metadata": {},
   "outputs": [
    {
     "data": {
      "text/latex": [
       "$\\displaystyle x^{2} - 1 - \\frac{1}{x}$"
      ],
      "text/plain": [
       "x**2 - 1 - 1/x"
      ]
     },
     "metadata": {},
     "output_type": "display_data"
    }
   ],
   "source": [
    "display(t)"
   ]
  },
  {
   "cell_type": "code",
   "execution_count": 26,
   "id": "b9c0e56b",
   "metadata": {},
   "outputs": [],
   "source": [
    "import numpy as np\n",
    "from numpy import linalg"
   ]
  },
  {
   "cell_type": "code",
   "execution_count": 17,
   "id": "4ebc96d3",
   "metadata": {},
   "outputs": [],
   "source": [
    "a = np.arange(1,10)"
   ]
  },
  {
   "cell_type": "code",
   "execution_count": 18,
   "id": "a90e4ee6",
   "metadata": {},
   "outputs": [
    {
     "data": {
      "text/plain": [
       "array([1, 2, 3, 4, 5, 6, 7, 8, 9])"
      ]
     },
     "execution_count": 18,
     "metadata": {},
     "output_type": "execute_result"
    }
   ],
   "source": [
    "a"
   ]
  },
  {
   "cell_type": "code",
   "execution_count": 20,
   "id": "3047d52e",
   "metadata": {},
   "outputs": [
    {
     "data": {
      "text/plain": [
       "([0, 0, 2, 1, 2],\n",
       " [0, 1, 0, 2, -1],\n",
       " [1, 2, 0, -2, 1],\n",
       " [0, 0, 0, -1, 1],\n",
       " [0, 1, -1, 1, -1])"
      ]
     },
     "execution_count": 20,
     "metadata": {},
     "output_type": "execute_result"
    }
   ],
   "source": [
    "a = [0,0,2,1,2]\n",
    "b = [0,1,0,2,-1]\n",
    "c = [1,2,0,-2,1]\n",
    "d = [0,0,0,-1,1]\n",
    "e = [0,1,-1,1,-1]\n",
    "a,b,c,d,e"
   ]
  },
  {
   "cell_type": "code",
   "execution_count": 22,
   "id": "8dfbedec",
   "metadata": {},
   "outputs": [],
   "source": [
    "n = np.array([a,b,c,d,e])"
   ]
  },
  {
   "cell_type": "code",
   "execution_count": 23,
   "id": "b994338e",
   "metadata": {},
   "outputs": [
    {
     "data": {
      "text/plain": [
       "array([[ 0,  0,  2,  1,  2],\n",
       "       [ 0,  1,  0,  2, -1],\n",
       "       [ 1,  2,  0, -2,  1],\n",
       "       [ 0,  0,  0, -1,  1],\n",
       "       [ 0,  1, -1,  1, -1]])"
      ]
     },
     "execution_count": 23,
     "metadata": {},
     "output_type": "execute_result"
    }
   ],
   "source": [
    "n"
   ]
  },
  {
   "cell_type": "code",
   "execution_count": 24,
   "id": "a6614e86",
   "metadata": {},
   "outputs": [
    {
     "data": {
      "text/plain": [
       "array([ 1,  1, -4, -2, -1])"
      ]
     },
     "execution_count": 24,
     "metadata": {},
     "output_type": "execute_result"
    }
   ],
   "source": [
    "c = np.array([1,1,-4,-2,-1])\n",
    "c"
   ]
  },
  {
   "cell_type": "code",
   "execution_count": 27,
   "id": "eaa7cecd",
   "metadata": {},
   "outputs": [],
   "source": [
    "jawab = linalg.solve(n,c)"
   ]
  },
  {
   "cell_type": "code",
   "execution_count": 28,
   "id": "29b5dfa8",
   "metadata": {},
   "outputs": [
    {
     "data": {
      "text/plain": [
       "array([ 3., -2.,  1.,  1., -1.])"
      ]
     },
     "execution_count": 28,
     "metadata": {},
     "output_type": "execute_result"
    }
   ],
   "source": [
    "jawab"
   ]
  },
  {
   "cell_type": "code",
   "execution_count": null,
   "id": "3bf0e8b6",
   "metadata": {},
   "outputs": [],
   "source": []
  },
  {
   "cell_type": "code",
   "execution_count": null,
   "id": "65c757ea",
   "metadata": {},
   "outputs": [],
   "source": []
  }
 ],
 "metadata": {
  "kernelspec": {
   "display_name": "Python 3 (ipykernel)",
   "language": "python",
   "name": "python3"
  },
  "language_info": {
   "codemirror_mode": {
    "name": "ipython",
    "version": 3
   },
   "file_extension": ".py",
   "mimetype": "text/x-python",
   "name": "python",
   "nbconvert_exporter": "python",
   "pygments_lexer": "ipython3",
   "version": "3.9.12"
  }
 },
 "nbformat": 4,
 "nbformat_minor": 5
}
